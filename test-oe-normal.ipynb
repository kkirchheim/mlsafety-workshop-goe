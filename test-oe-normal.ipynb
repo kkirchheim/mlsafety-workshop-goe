{
 "cells": [
  {
   "cell_type": "markdown",
   "metadata": {},
   "source": [
    "# Run Normal outlier exposure \n"
   ]
  },
  {
   "cell_type": "code",
   "execution_count": 2,
   "metadata": {},
   "outputs": [
    {
     "name": "stderr",
     "output_type": "stream",
     "text": [
      "/home/kirchhei/anaconda3/envs/pytorch/lib/python3.9/site-packages/tqdm/auto.py:22: TqdmWarning: IProgress not found. Please update jupyter and ipywidgets. See https://ipywidgets.readthedocs.io/en/stable/user_install.html\n",
      "  from .autonotebook import tqdm as notebook_tqdm\n"
     ]
    },
    {
     "name": "stdout",
     "output_type": "stream",
     "text": [
      "Files already downloaded and verified\n"
     ]
    },
    {
     "name": "stderr",
     "output_type": "stream",
     "text": [
      "/home/kirchhei/anaconda3/envs/pytorch/lib/python3.9/site-packages/torchmetrics/utilities/prints.py:36: UserWarning: Metric `AUROC` will save all targets and predictions in buffer. For large datasets this may lead to large memory footprint.\n",
      "  warnings.warn(*args, **kwargs)\n",
      "/home/kirchhei/anaconda3/envs/pytorch/lib/python3.9/site-packages/torchmetrics/utilities/prints.py:36: UserWarning: Metric `PrecisionRecallCurve` will save all targets and predictions in buffer. For large datasets this may lead to large memory footprint.\n",
      "  warnings.warn(*args, **kwargs)\n"
     ]
    },
    {
     "name": "stdout",
     "output_type": "stream",
     "text": [
      "{'AUROC': 0.8851454854011536, 'AUPR-IN': 0.78501296043396, 'AUPR-OUT': 0.9299277067184448, 'ACC95TPR': 0.720716118812561, 'FPR95TPR': 0.40860000252723694}\n"
     ]
    }
   ],
   "source": [
    "from pytorch_ood.model import WideResNet\n",
    "from pytorch_ood.detector import NegativeEnergy, Softmax\n",
    "from pytorch_ood.utils import OODMetrics\n",
    "from pytorch_ood.dataset.img import Textures\n",
    "from torchvision.datasets import CIFAR10 \n",
    "from torch.utils.data import TensorDataset, DataLoader\n",
    "from torchvision.transforms import Compose, ToPILImage, Normalize, ToTensor, Resize, ToPILImage\n",
    "import torch \n",
    "\n",
    "mt = Compose([\n",
    "    Resize([32,32]),\n",
    "    ToTensor(),\n",
    "    Normalize(\n",
    "        std=[0.24705882352941176470, 0.24352941176470588235, 0.26156862745098039215], \n",
    "        mean=[0.49137254901960784313, 0.48235294117647058823, 0.44666666666666666666]), \n",
    "    ])\n",
    "\n",
    "data_in = CIFAR10(root=\".\", download=True, transform=mt, train=False)\n",
    "data_out = Textures(root=\".\", transform=mt, download=True)\n",
    "\n",
    "\n",
    "#  TensorDataset(x, torch.ones(x.shape[0]) * -1)\n",
    "\n",
    "data_loader = DataLoader(data_in+ data_out, batch_size=128)\n",
    "\n",
    "# create Neural Network\n",
    "model = WideResNet.from_pretrained(\"cifar10-pt\", num_classes=10).eval().cuda()\n",
    "\n",
    "model = model.cuda().eval()\n",
    "\n",
    "# create detector\n",
    "detector = Softmax(model)\n",
    "\n",
    "# evaluate\n",
    "metrics = OODMetrics()\n",
    "\n",
    "for x, y in data_loader:\n",
    "    metrics.update(detector(x.cuda()), y)\n",
    "\n",
    "print(metrics.compute())\n"
   ]
  },
  {
   "cell_type": "code",
   "execution_count": 3,
   "metadata": {},
   "outputs": [],
   "source": [
    "# from pytorch_ood.model import WideResNet\n",
    "# from pytorch_ood.detector import NegativeEnergy, Softmax\n",
    "# from pytorch_ood.utils import OODMetrics\n",
    "# from pytorch_ood.dataset.img import Textures\n",
    "# from torchvision.datasets import CIFAR10 \n",
    "# from torch.utils.data import TensorDataset, DataLoader\n",
    "# from torchvision.transforms import Compose, ToPILImage, Normalize, ToTensor, Resize, ToPILImage\n",
    "# import torch \n",
    "\n",
    "# from pytorch_ood.loss import OutlierExposureLoss\n",
    "# from torch.optim import SGD\n",
    "# from tqdm import tqdm\n",
    "\n",
    "# mt = Compose([\n",
    "#     ToPILImage(),\n",
    "#     Resize([32,32]),\n",
    "#     ToTensor(),\n",
    "#     Normalize(\n",
    "#         std=[0.24705882352941176470, 0.24352941176470588235, 0.26156862745098039215], \n",
    "#         mean=[0.49137254901960784313, 0.48235294117647058823, 0.44666666666666666666]), \n",
    "#     ])\n",
    "\n",
    "# mt2 = Compose([\n",
    "#     Resize([32,32]),\n",
    "#     ToTensor(),\n",
    "#     Normalize(\n",
    "#         std=[0.24705882352941176470, 0.24352941176470588235, 0.26156862745098039215], \n",
    "#         mean=[0.49137254901960784313, 0.48235294117647058823, 0.44666666666666666666]), \n",
    "#     ])\n",
    "\n",
    "# data_in_test = CIFAR10(root=\".\", download=True, transform=mt2, train=False)\n",
    "# data_out_test = Textures(root=\".\", transform=mt2, download=True)\n",
    "# test_loader = DataLoader(data_in_test + data_out_test, batch_size=512)\n",
    "\n",
    "# data_in_train = CIFAR10(root=\".\", download=True, transform=mt2, target_transform=torch.tensor)\n",
    "# data_out_train = TensorDataset(x,y)\n",
    "# train_loader = DataLoader(data_in_train + data_out_train, batch_size=256, shuffle=True)\n",
    "        \n",
    "# # setup data \n",
    "# x = torch.load(\"samples.pt\")[:80000]\n",
    "# x = torch.stack([mt(t) for t in x])\n",
    "# y = torch.ones(size=(len(x),)).long() * -1\n",
    "\n",
    "# # train \n",
    "\n",
    "# for alpha in torch.linspace(0.1, 1, 10):\n",
    "#     print(alpha)\n",
    "#     # create Neural Network\n",
    "#     model = WideResNet.from_pretrained(\"cifar10-pt\", num_classes=10).cuda()\n",
    "#     opti = SGD(model.parameters(), lr=0.001)\n",
    "\n",
    "#     print(y.shape)\n",
    "#     print(x.shape)\n",
    "\n",
    "   \n",
    "\n",
    "#     criterion = OutlierExposureLoss(alpha=alpha)\n",
    "\n",
    "#     mav = 0.0\n",
    "#     mavs = []\n",
    "\n",
    "#     for i in range(10):\n",
    "#         bar = tqdm(train_loader)\n",
    "\n",
    "#         for x, y in bar:\n",
    "#             opti.zero_grad()\n",
    "#             y_hat = model(x.cuda())\n",
    "#             loss = criterion(y_hat, y.cuda())\n",
    "#             mav = 0.2 * loss.item() + 0.8 * mav\n",
    "#             mavs.append(mav)\n",
    "\n",
    "#             loss.backward()\n",
    "#             opti.step()\n",
    "#             bar.set_postfix({\"loss\": mav})\n",
    "\n",
    "#     # evaluate \n",
    "#     with torch.no_grad():\n",
    "\n",
    "#         model = model.cuda().eval()\n",
    "#         detector = Softmax(model)\n",
    "#         metrics = OODMetrics()\n",
    "\n",
    "#         for x, y in test_loader:\n",
    "#             metrics.update(detector(x.cuda()), y)\n",
    "\n",
    "#         print(metrics.compute())\n",
    "#         print(80*\"#\")"
   ]
  },
  {
   "cell_type": "code",
   "execution_count": 4,
   "metadata": {},
   "outputs": [],
   "source": [
    "# import matplotlib.pyplot as plt \n",
    "# plt.plot(mavs)"
   ]
  },
  {
   "cell_type": "code",
   "execution_count": 6,
   "metadata": {},
   "outputs": [],
   "source": [
    "import os \n",
    "\n",
    "root = \"samples\"\n",
    "# files = [os.path.join(root, x) for x in os.listdir(root)]\n",
    "files = [os.path.join(root, f\"samples-{x}.npz\") for x in [0.0, 0.5, 1.0,2.0,5.0,10.0,20.0,30.0,40.0,50.0]]"
   ]
  },
  {
   "cell_type": "code",
   "execution_count": 7,
   "metadata": {},
   "outputs": [],
   "source": [
    "# Load samples from dataset and train "
   ]
  },
  {
   "cell_type": "code",
   "execution_count": 13,
   "metadata": {},
   "outputs": [],
   "source": [
    "from pytorch_ood.model import WideResNet\n",
    "from pytorch_ood.detector import NegativeEnergy, Softmax\n",
    "from pytorch_ood.utils import OODMetrics\n",
    "from pytorch_ood.dataset.img import Textures\n",
    "from torchvision.datasets import CIFAR10 \n",
    "from torch.utils.data import TensorDataset, DataLoader\n",
    "from torchvision.transforms import Compose, ToPILImage, Normalize, ToTensor, Resize, ToPILImage\n",
    "import torch \n",
    "import numpy as np \n",
    "\n",
    "from pytorch_ood.loss import OutlierExposureLoss, EnergyRegularizedLoss\n",
    "from torch.optim import SGD\n",
    "from tqdm import tqdm\n",
    "import os \n",
    "\n",
    "torch.manual_seed(10)\n",
    "\n",
    "def run(data_out_train):\n",
    "    mt = Compose([\n",
    "        ToPILImage(),\n",
    "        Resize([32,32]),\n",
    "        ToTensor(),\n",
    "        Normalize(\n",
    "            std=[0.24705882352941176470, 0.24352941176470588235, 0.26156862745098039215], \n",
    "            mean=[0.49137254901960784313, 0.48235294117647058823, 0.44666666666666666666]), \n",
    "        ])\n",
    "\n",
    "    mt2 = Compose([\n",
    "        Resize([32,32]),\n",
    "        ToTensor(),\n",
    "        Normalize(\n",
    "            std=[0.24705882352941176470, 0.24352941176470588235, 0.26156862745098039215], \n",
    "            mean=[0.49137254901960784313, 0.48235294117647058823, 0.44666666666666666666]), \n",
    "        ])\n",
    "\n",
    "    # prepare data \n",
    "    data_in_test = CIFAR10(root=\".\", download=True, transform=mt2, train=False)\n",
    "    data_out_test = Textures(root=\".\", transform=mt2, download=True)\n",
    "    test_loader = DataLoader(data_in_test + data_out_test, batch_size=512, num_workers=20)\n",
    "    \n",
    "    data_in_train = CIFAR10(root=\".\", download=True, transform=mt2, target_transform=torch.tensor)\n",
    "    train_loader = DataLoader(data_in_train + data_out_train, batch_size=256, shuffle=True, num_workers=20)\n",
    "\n",
    "    # create Neural Network\n",
    "    model = WideResNet.from_pretrained(\"cifar10-pt\", num_classes=10).cuda()\n",
    "    opti = SGD(model.parameters(), lr=0.001)\n",
    "    \n",
    "    criterion = OutlierExposureLoss(alpha=0.5)\n",
    "\n",
    "    mav = 0.0\n",
    "    mavs = []\n",
    "    ms_gan = []\n",
    "    current_auroc = None \n",
    "    \n",
    "    bar = tqdm(range(30))\n",
    "    for i in bar:\n",
    "        # print(f\"Epoch {i}\")\n",
    "\n",
    "        # evaluate \n",
    "        with torch.no_grad():\n",
    "            model = model.eval()\n",
    "            detector = Softmax(model)\n",
    "            metrics = OODMetrics()\n",
    "\n",
    "            for x, y in test_loader:\n",
    "                metrics.update(detector(x.cuda()), y)\n",
    "\n",
    "            m = metrics.compute()\n",
    "            ms_gan.append(m)\n",
    "            current_auroc = m[\"AUROC\"]\n",
    "            bar.set_postfix({\"loss\": mav, \"AUROC\": current_auroc})\n",
    "            # print(m)\n",
    "\n",
    "        # train \n",
    "        model.train()\n",
    "        \n",
    "        for x, y in train_loader:\n",
    "            opti.zero_grad()\n",
    "            y_hat = model(x.cuda())\n",
    "            loss = criterion(y_hat, y.cuda())\n",
    "            mav = 0.2 * loss.item() + 0.8 * mav\n",
    "            mavs.append(mav)\n",
    "\n",
    "            loss.backward()\n",
    "            opti.step()\n",
    "            bar.set_postfix({\"loss\": mav, \"AUROC\": current_auroc})\n",
    "\n",
    "        # print(80*\"#\")\n",
    "    \n",
    "    print(m[\"AUROC\"])\n",
    "    return ms_gan\n"
   ]
  },
  {
   "cell_type": "code",
   "execution_count": null,
   "metadata": {},
   "outputs": [
    {
     "name": "stdout",
     "output_type": "stream",
     "text": [
      "samples/samples-0.0.npz\n",
      "Files already downloaded and verified\n"
     ]
    },
    {
     "name": "stderr",
     "output_type": "stream",
     "text": [
      "/home/kirchhei/anaconda3/envs/pytorch/lib/python3.9/site-packages/torch/utils/data/dataloader.py:487: UserWarning: This DataLoader will create 20 worker processes in total. Our suggested max number of worker in current system is 12, which is smaller than what this DataLoader is going to create. Please be aware that excessive worker creation might get DataLoader running slow or even freeze, lower the worker number to avoid potential slowness/freeze if necessary.\n",
      "  warnings.warn(_create_warning_msg(\n"
     ]
    },
    {
     "name": "stdout",
     "output_type": "stream",
     "text": [
      "Files already downloaded and verified\n"
     ]
    },
    {
     "name": "stderr",
     "output_type": "stream",
     "text": [
      "100%|█████████████████████████████████████████████████████████████████████████████████████████████████████████████| 30/30 [22:13<00:00, 44.47s/it, loss=0.581, AUROC=0.887]\n"
     ]
    },
    {
     "name": "stdout",
     "output_type": "stream",
     "text": [
      "0.886893093585968\n",
      "samples/samples-0.5.npz\n",
      "Files already downloaded and verified\n",
      "Files already downloaded and verified\n"
     ]
    },
    {
     "name": "stderr",
     "output_type": "stream",
     "text": [
      "100%|███████████████████████████████████████████████████████████████████████████████████████████████████████| 30/30 [22:04<00:00, 44.15s/it, loss=0.763, AUROC=0.762]\n"
     ]
    },
    {
     "name": "stdout",
     "output_type": "stream",
     "text": [
      "0.7615631222724915\n",
      "samples/samples-1.0.npz\n",
      "Files already downloaded and verified\n",
      "Files already downloaded and verified\n"
     ]
    },
    {
     "name": "stderr",
     "output_type": "stream",
     "text": [
      "100%|███████████████████████████████████████████████████████████████████████████████████████████████████████| 30/30 [21:49<00:00, 43.66s/it, loss=0.831, AUROC=0.829]\n"
     ]
    },
    {
     "name": "stdout",
     "output_type": "stream",
     "text": [
      "0.8290441632270813\n",
      "samples/samples-2.0.npz\n",
      "Files already downloaded and verified\n",
      "Files already downloaded and verified\n"
     ]
    },
    {
     "name": "stderr",
     "output_type": "stream",
     "text": [
      "100%|█████████████████████████████████████████████████████████████████████████████████████████████████████████| 30/30 [21:51<00:00, 43.70s/it, loss=0.8, AUROC=0.868]\n"
     ]
    },
    {
     "name": "stdout",
     "output_type": "stream",
     "text": [
      "0.8681702613830566\n",
      "samples/samples-5.0.npz\n",
      "Files already downloaded and verified\n",
      "Files already downloaded and verified\n"
     ]
    },
    {
     "name": "stderr",
     "output_type": "stream",
     "text": [
      "100%|███████████████████████████████████████████████████████████████████████████████████████████████████████| 30/30 [21:50<00:00, 43.67s/it, loss=0.756, AUROC=0.882]\n"
     ]
    },
    {
     "name": "stdout",
     "output_type": "stream",
     "text": [
      "0.8817387223243713\n",
      "samples/samples-10.0.npz\n",
      "Files already downloaded and verified\n",
      "Files already downloaded and verified\n"
     ]
    },
    {
     "name": "stderr",
     "output_type": "stream",
     "text": [
      "100%|███████████████████████████████████████████████████████████████████████████████████████████████████████| 30/30 [21:51<00:00, 43.71s/it, loss=0.728, AUROC=0.903]\n"
     ]
    },
    {
     "name": "stdout",
     "output_type": "stream",
     "text": [
      "0.903490424156189\n",
      "samples/samples-20.0.npz\n",
      "Files already downloaded and verified\n",
      "Files already downloaded and verified\n"
     ]
    },
    {
     "name": "stderr",
     "output_type": "stream",
     "text": [
      "100%|████████████████████████████████████████████████████████████████████████████████████████████████████████| 30/30 [22:08<00:00, 44.27s/it, loss=0.71, AUROC=0.921]\n"
     ]
    },
    {
     "name": "stdout",
     "output_type": "stream",
     "text": [
      "0.9208891987800598\n",
      "samples/samples-30.0.npz\n",
      "Files already downloaded and verified\n",
      "Files already downloaded and verified\n"
     ]
    },
    {
     "name": "stderr",
     "output_type": "stream",
     "text": [
      "100%|███████████████████████████████████████████████████████████████████████████████████████████████████████| 30/30 [22:04<00:00, 44.14s/it, loss=0.672, AUROC=0.926]\n"
     ]
    },
    {
     "name": "stdout",
     "output_type": "stream",
     "text": [
      "0.9261888265609741\n",
      "samples/samples-40.0.npz\n",
      "Files already downloaded and verified\n",
      "Files already downloaded and verified\n"
     ]
    },
    {
     "name": "stderr",
     "output_type": "stream",
     "text": [
      "100%|████████████████████████████████████████████████████████████████████████████████████████████████████████| 30/30 [21:49<00:00, 43.64s/it, loss=0.62, AUROC=0.932]\n"
     ]
    },
    {
     "name": "stdout",
     "output_type": "stream",
     "text": [
      "0.9323939085006714\n",
      "samples/samples-50.0.npz\n",
      "Files already downloaded and verified\n",
      "Files already downloaded and verified\n"
     ]
    },
    {
     "name": "stderr",
     "output_type": "stream",
     "text": [
      " 83%|█████████████████████████████████████████████████████████████████████████████████████▊                 | 25/30 [18:44<03:37, 43.47s/it, loss=0.632, AUROC=0.932]"
     ]
    }
   ],
   "source": [
    "mt = Compose([\n",
    "    ToPILImage(),\n",
    "    Resize([32,32]),\n",
    "    ToTensor(),\n",
    "    Normalize(\n",
    "        std=[0.24705882352941176470, 0.24352941176470588235, 0.26156862745098039215], \n",
    "        mean=[0.49137254901960784313, 0.48235294117647058823, 0.44666666666666666666]), \n",
    "])\n",
    "\n",
    "results = {}\n",
    "for file in files: \n",
    "    print(file)\n",
    "    x = torch.tensor(np.load(file)[\"x\"][:50000])\n",
    "    gan_oe_data = torch.stack([mt(t) for t in x])\n",
    "    gan_oe_label = torch.ones(size=(len(x),)).long() * -1\n",
    "    data_out_train = TensorDataset(gan_oe_data, gan_oe_label)\n",
    "    \n",
    "    r = run(data_out_train)\n",
    "    results[file] = r  "
   ]
  },
  {
   "cell_type": "code",
   "execution_count": 15,
   "metadata": {},
   "outputs": [
    {
     "name": "stdout",
     "output_type": "stream",
     "text": [
      "samples/samples-0.0.npz\n",
      "{'AUROC': 0.8851453065872192, 'AUPR-IN': 0.7850109934806824, 'AUPR-OUT': 0.9299274682998657, 'ACC95TPR': 0.720716118812561, 'FPR95TPR': 0.40860000252723694}\n",
      "samples/samples-0.5.npz\n",
      "{'AUROC': 0.8851453065872192, 'AUPR-IN': 0.7850109934806824, 'AUPR-OUT': 0.9299274682998657, 'ACC95TPR': 0.720716118812561, 'FPR95TPR': 0.40860000252723694}\n",
      "samples/samples-1.0.npz\n",
      "{'AUROC': 0.8851453065872192, 'AUPR-IN': 0.7850109934806824, 'AUPR-OUT': 0.9299274682998657, 'ACC95TPR': 0.720716118812561, 'FPR95TPR': 0.40860000252723694}\n",
      "samples/samples-2.0.npz\n",
      "{'AUROC': 0.8851453065872192, 'AUPR-IN': 0.7850109934806824, 'AUPR-OUT': 0.9299274682998657, 'ACC95TPR': 0.720716118812561, 'FPR95TPR': 0.40860000252723694}\n",
      "samples/samples-5.0.npz\n",
      "{'AUROC': 0.8851453065872192, 'AUPR-IN': 0.7850109934806824, 'AUPR-OUT': 0.9299274682998657, 'ACC95TPR': 0.720716118812561, 'FPR95TPR': 0.40860000252723694}\n",
      "samples/samples-10.0.npz\n",
      "{'AUROC': 0.8851453065872192, 'AUPR-IN': 0.7850109934806824, 'AUPR-OUT': 0.9299274682998657, 'ACC95TPR': 0.720716118812561, 'FPR95TPR': 0.40860000252723694}\n",
      "samples/samples-20.0.npz\n",
      "{'AUROC': 0.8851453065872192, 'AUPR-IN': 0.7850109934806824, 'AUPR-OUT': 0.9299274682998657, 'ACC95TPR': 0.720716118812561, 'FPR95TPR': 0.40860000252723694}\n",
      "samples/samples-30.0.npz\n",
      "{'AUROC': 0.8851453065872192, 'AUPR-IN': 0.7850109934806824, 'AUPR-OUT': 0.9299274682998657, 'ACC95TPR': 0.720716118812561, 'FPR95TPR': 0.40860000252723694}\n",
      "samples/samples-40.0.npz\n",
      "{'AUROC': 0.8851453065872192, 'AUPR-IN': 0.7850109934806824, 'AUPR-OUT': 0.9299274682998657, 'ACC95TPR': 0.720716118812561, 'FPR95TPR': 0.40860000252723694}\n",
      "samples/samples-50.0.npz\n",
      "{'AUROC': 0.8851453065872192, 'AUPR-IN': 0.7850109934806824, 'AUPR-OUT': 0.9299274682998657, 'ACC95TPR': 0.720716118812561, 'FPR95TPR': 0.40860000252723694}\n"
     ]
    },
    {
     "data": {
      "image/png": "[encoded data removed]",
      "text/plain": [
       "<Figure size 432x288 with 1 Axes>"
      ]
     },
     "metadata": {},
     "output_type": "display_data"
    }
   ],
   "source": [
    "import seaborn as sb \n",
    "import matplotlib.pyplot as plt \n",
    "\n",
    "sb.set()\n",
    "sb.set_style(\"whitegrid\")\n",
    "\n",
    "xs = {}\n",
    "\n",
    "for key in results:\n",
    "    print(key)\n",
    "    print(results[key][0])\n",
    "    xs[key] = [m[\"AUROC\"] for m in results[key]]\n",
    "\n",
    "\n",
    "\n",
    "for name, x in xs.items():\n",
    "    plt.plot(x, label=name[16:-4])\n",
    "\n",
    "plt.legend()\n",
    "plt.show()\n"
   ]
  },
  {
   "cell_type": "code",
   "execution_count": null,
   "metadata": {},
   "outputs": [],
   "source": [
    "\"\"\"\n",
    "Do it with uniformely distributed outlier samples \n",
    "\"\"\"\n",
    "from pytorch_ood.model import WideResNet\n",
    "from pytorch_ood.detector import NegativeEnergy, Softmax\n",
    "from pytorch_ood.utils import OODMetrics\n",
    "from pytorch_ood.dataset.img import Textures\n",
    "from torchvision.datasets import CIFAR10 \n",
    "from torch.utils.data import TensorDataset, DataLoader\n",
    "from torchvision.transforms import Compose, ToPILImage, Normalize, ToTensor, Resize, ToPILImage\n",
    "import torch \n",
    "\n",
    "from pytorch_ood.loss import OutlierExposureLoss\n",
    "from torch.optim import SGD\n",
    "from tqdm import tqdm\n",
    "\n",
    "torch.manual_seed(10)\n",
    "\n",
    "mt = Compose([\n",
    "    ToPILImage(),\n",
    "    Resize([32,32]),\n",
    "    ToTensor(),\n",
    "    Normalize(\n",
    "        std=[0.24705882352941176470, 0.24352941176470588235, 0.26156862745098039215], \n",
    "        mean=[0.49137254901960784313, 0.48235294117647058823, 0.44666666666666666666]), \n",
    "    ])\n",
    "\n",
    "mt2 = Compose([\n",
    "    Resize([32,32]),\n",
    "    ToTensor(),\n",
    "    Normalize(\n",
    "        std=[0.24705882352941176470, 0.24352941176470588235, 0.26156862745098039215], \n",
    "        mean=[0.49137254901960784313, 0.48235294117647058823, 0.44666666666666666666]), \n",
    "    ])\n",
    "\n",
    "# prepare data \n",
    "data_in_test = CIFAR10(root=\".\", download=True, transform=mt2, train=False)\n",
    "data_out_test = Textures(root=\".\", transform=mt2, download=True)\n",
    "test_loader = DataLoader(data_in_test + data_out_test, batch_size=512, num_workers=20)\n",
    "\n",
    "x = torch.randint(0, 255, size=(80000, 3, 32, 32), dtype=torch.uint8)\n",
    "gan_oe_data = torch.stack([mt(t) for t in x])\n",
    "gan_oe_label = torch.ones(size=(len(x),)).long() * -1\n",
    "data_out_train = TensorDataset(gan_oe_data,gan_oe_label)\n",
    "\n",
    "data_in_train = CIFAR10(root=\".\", download=True, transform=mt2, target_transform=torch.tensor)\n",
    "train_loader = DataLoader(data_in_train + data_out_train, batch_size=256, shuffle=True, num_workers=20)\n",
    "      \n",
    "# create Neural Network\n",
    "model = WideResNet.from_pretrained(\"cifar10-pt\", num_classes=10).cuda()\n",
    "opti = SGD(model.parameters(), lr=0.001)\n",
    "\n",
    "criterion = OutlierExposureLoss(alpha=0.5)\n",
    "\n",
    "\n",
    "mav = 0.0\n",
    "mavs = []\n",
    "current_auroc = None \n",
    "ms_uniform = []\n",
    "\n",
    "bar = tqdm(range(30))\n",
    "for i in bar:\n",
    "    # evaluate \n",
    "    with torch.no_grad():\n",
    "        model = model.eval()\n",
    "        detector = Softmax(model)\n",
    "        metrics = OODMetrics()\n",
    "\n",
    "        for x, y in test_loader:\n",
    "            metrics.update(detector(x.cuda()), y)\n",
    "\n",
    "        m = metrics.compute()\n",
    "        ms_uniform.append(m)\n",
    "        current_auroc = m[\"AUROC\"]\n",
    "        bar.set_postfix({\"loss\": mav, \"AUROC\": current_auroc})\n",
    "        # print(m)\n",
    "\n",
    "    # train \n",
    "    model.train()\n",
    "\n",
    "    for x, y in train_loader:\n",
    "        opti.zero_grad()\n",
    "        y_hat = model(x.cuda())\n",
    "        loss = criterion(y_hat, y.cuda())\n",
    "        mav = 0.2 * loss.item() + 0.8 * mav\n",
    "        mavs.append(mav)\n",
    "\n",
    "        loss.backward()\n",
    "        opti.step()\n",
    "        bar.set_postfix({\"loss\": mav, \"AUROC\": current_auroc})\n",
    "\n",
    "print(m[\"AUROC\"])\n"
   ]
  },
  {
   "cell_type": "code",
   "execution_count": null,
   "metadata": {},
   "outputs": [],
   "source": [
    "sb.set()\n",
    "sb.set_style(\"whitegrid\")\n",
    "\n",
    "xs = {}\n",
    "\n",
    "for key in results:\n",
    "    print(key)\n",
    "    print(results[key][0])\n",
    "    xs[key] = [m[\"AUROC\"] for m in results[key]]\n",
    "\n",
    "for name, x in xs.items():\n",
    "    plt.plot(x, label=name[16:-4])\n",
    "\n",
    "plt.legend()\n",
    "plt.show()"
   ]
  },
  {
   "cell_type": "code",
   "execution_count": null,
   "metadata": {
    "scrolled": false
   },
   "outputs": [],
   "source": [
    "for path in files:\n",
    "    print(path)\n",
    "    x = np.load(path)[\"x\"][:36]\n",
    "    fig, axs = plt.subplots(6,6,figsize=(7,7))\n",
    "    axs = axs.flatten()\n",
    "    for i, ax in enumerate(axs):\n",
    "        ax.imshow(np.moveaxis(x[i], 0, -1))\n",
    "    \n",
    "    # plt.title(path)\n",
    "    plt.tight_layout()\n",
    "    plt.show()\n",
    "    "
   ]
  },
  {
   "cell_type": "code",
   "execution_count": null,
   "metadata": {},
   "outputs": [],
   "source": []
  }
 ],
 "metadata": {
  "kernelspec": {
   "display_name": "pytorch",
   "language": "python",
   "name": "pytorch"
  },
  "language_info": {
   "codemirror_mode": {
    "name": "ipython",
    "version": 3
   },
   "file_extension": ".py",
   "mimetype": "text/x-python",
   "name": "python",
   "nbconvert_exporter": "python",
   "pygments_lexer": "ipython3",
   "version": "3.9.0"
  }
 },
 "nbformat": 4,
 "nbformat_minor": 4
}
