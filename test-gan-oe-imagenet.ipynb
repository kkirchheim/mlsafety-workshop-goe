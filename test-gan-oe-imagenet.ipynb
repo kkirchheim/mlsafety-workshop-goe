{
 "cells": [
  {
   "cell_type": "code",
   "execution_count": 1,
   "metadata": {},
   "outputs": [],
   "source": [
    "import os \n",
    "import sys\n",
    "\n",
    "os.environ[\"CUDA_VISIBLE_DEVICES\"] = \"MIG-GPU-f16670b1-ac4a-8a32-02cb-60439c6bf799/0/0\""
   ]
  },
  {
   "cell_type": "code",
   "execution_count": 2,
   "metadata": {},
   "outputs": [],
   "source": [
    "from pytorch_ood.model import WideResNet\n",
    "from pytorch_ood.detector import EnergyBased, MaxSoftmax\n",
    "from pytorch_ood.utils import OODMetrics, ToUnknown\n",
    "from pytorch_ood.dataset.img import Textures\n",
    "from torch.utils.data import TensorDataset, DataLoader\n",
    "from torchvision.transforms import Compose, ToPILImage, Normalize, ToTensor, Resize, ToPILImage\n",
    "import torch \n",
    "from torchvision import transforms \n",
    "from pytorch_ood.utils import ToRGB\n",
    "from torchvision.datasets import ImageNet\n",
    "from torchvision.models import resnet18, resnet101\n",
    "from torch.utils.data import DataLoader \n",
    "import tqdm.notebook as tqdm \n",
    "import torchmetrics \n",
    "from torchmetrics import Accuracy\n",
    "from torchvision.datasets import ImageFolder\n",
    "from pytorch_ood.dataset.img import ImageNetR, ImageNetO, ImageNetA\n",
    "from pytorch_ood.utils import OODMetrics\n",
    "from pytorch_ood.detector import MaxSoftmax\n",
    "\n",
    "preprocess = transforms.Compose([\n",
    "    transforms.Resize(256),\n",
    "    transforms.CenterCrop(224),\n",
    "    ToRGB(),\n",
    "    transforms.ToTensor(),\n",
    "    transforms.Normalize(mean=[0.485, 0.456, 0.406], std=[0.229, 0.224, 0.225]),\n",
    "])\n"
   ]
  },
  {
   "cell_type": "code",
   "execution_count": 3,
   "metadata": {
    "scrolled": true
   },
   "outputs": [],
   "source": [
    "from torch.optim import Adam, SGD\n",
    "from pytorch_ood.loss import OutlierExposureLoss\n",
    "from itertools import cycle\n",
    "\n",
    "def train(outlier_set=10, iters=1000):\n",
    "    dataset_out_train = ImageFolder(root=f\"/data_slow/kirchheim/gan_oe/imagenet/{outlier_set}/\", target_transform=ToUnknown(), transform=preprocess)\n",
    "    train_out_loader = DataLoader(dataset_out_train, batch_size=64, num_workers=20, shuffle=True)\n",
    "\n",
    "    dataset_in_train = ImageNet(split=\"train\", root=\"/data_fast/kirchheim/datasets/imagenet-2012/\", transform=preprocess)\n",
    "    imagenet_in_loader = DataLoader(dataset_in_train, batch_size=64, num_workers=20, shuffle=True)\n",
    "\n",
    "    # in test set \n",
    "    dataset_in_test = ImageNet(split=\"val\", root=\"/data_fast/kirchheim/datasets/imagenet-2012/\", transform=preprocess)\n",
    "    test_in_loader = DataLoader(dataset_in_test, batch_size=256, num_workers=20)\n",
    "\n",
    "    # ood test sets \n",
    "    imagenet_r = ImageNetR(root=\"/data_fast/kirchheim/datasets/\", \n",
    "                           download=True, transform=preprocess, target_transform=ToUnknown())\n",
    "    imagenet_r_loader = DataLoader(imagenet_r + dataset_in_test, batch_size=128, num_workers=12)\n",
    "    \n",
    "    imagenet_o = ImageNetO(root=\"/data_fast/kirchheim/datasets/\", \n",
    "                           download=True, transform=preprocess, target_transform=ToUnknown())\n",
    "    imagenet_o_loader = DataLoader(imagenet_o + dataset_in_test, batch_size=128, num_workers=12)\n",
    "\n",
    "    imagenet_a = ImageNetA(root=\"/data_fast/kirchheim/datasets/\", \n",
    "                           download=True, transform=preprocess, target_transform=ToUnknown())\n",
    "    imagenet_a_loader = DataLoader(imagenet_a + dataset_in_test, batch_size=128, num_workers=12)\n",
    "    \n",
    "    \n",
    "    model = resnet101(pretrained=True)\n",
    "    model = model.cuda()\n",
    "\n",
    "    opti = SGD(model.parameters(), lr=0.001)\n",
    "\n",
    "    criterion = OutlierExposureLoss(alpha=0.5)\n",
    "\n",
    "    mav = 0.0\n",
    "    mavs = []\n",
    "    perf_metrics = []\n",
    "\n",
    "    current_auroc = None \n",
    "\n",
    "    it_train_in = iter(imagenet_in_loader)\n",
    "    it_train_out = iter(train_out_loader)\n",
    "\n",
    "    criterion = OutlierExposureLoss()\n",
    "    bar = tqdm.tqdm(range(iters))\n",
    "\n",
    "    for i in bar:\n",
    "        try:\n",
    "            x1, y1 = next(it_train_in)\n",
    "            x2, y2 = next(it_train_out)\n",
    "        except:\n",
    "            it_train_in = iter(imagenet_in_loader)\n",
    "            it_train_out = iter(train_out_loader)\n",
    "\n",
    "        x = torch.cat([x1, x2])\n",
    "        y = torch.cat([y1, y2])\n",
    "\n",
    "        x = x.cuda()\n",
    "        y = y.cuda()\n",
    "\n",
    "        y_hat = model(x)\n",
    "        loss = criterion(y_hat, y)\n",
    "        opti.zero_grad()\n",
    "        loss.backward()\n",
    "        opti.step()\n",
    "\n",
    "        mav = 0.2 * loss.item() + 0.8 * mav\n",
    "        mavs.append(mav)\n",
    "\n",
    "        bar.set_postfix({\"loss\": mav, \"AUROC\": current_auroc})\n",
    "    \n",
    "    print(f\"Evaluating... \")\n",
    "    model.eval()\n",
    "    with torch.no_grad():\n",
    "        softmax = MaxSoftmax(model)\n",
    "        energy = EnergyBased(model)\n",
    "        \n",
    "        ###\n",
    "        metrics = OODMetrics()\n",
    "        metrics_energy = OODMetrics()\n",
    "        \n",
    "        for x, y in imagenet_a_loader:\n",
    "            logits = model(x.cuda())\n",
    "            metrics.update(softmax.score(logits), y)\n",
    "            metrics_energy.update(energy.score(logits), y)\n",
    "\n",
    "        m = metrics.compute()\n",
    "        m.update({\n",
    "            \"Dataset\": \"ImageNetA\",\n",
    "            \"Iteration\": i,\n",
    "            \"Method\": \"Softmax\"\n",
    "        })\n",
    "        perf_metrics.append(m)\n",
    "        \n",
    "        m = metrics_energy.compute()\n",
    "        m.update({\n",
    "            \"Dataset\": \"ImageNetA\",\n",
    "            \"Iteration\": i,\n",
    "            \"Method\": \"Energy\"\n",
    "        })\n",
    "        perf_metrics.append(m)\n",
    "        \n",
    "\n",
    "        ###\n",
    "        metrics = OODMetrics()\n",
    "        metrics_energy = OODMetrics()\n",
    "        \n",
    "        for x, y in imagenet_o_loader:\n",
    "            logits = model(x.cuda())\n",
    "            metrics.update(softmax.score(logits), y)\n",
    "            metrics_energy.update(energy.score(logits), y)\n",
    "\n",
    "        m = metrics.compute()\n",
    "        m.update({\n",
    "            \"Dataset\": \"ImageNetO\",\n",
    "            \"Iteration\": i,\n",
    "            \"Method\": \"Softmax\"\n",
    "        })\n",
    "        perf_metrics.append(m)\n",
    "        \n",
    "        m = metrics_energy.compute()\n",
    "        m.update({\n",
    "            \"Dataset\": \"ImageNetO\",\n",
    "            \"Iteration\": i,\n",
    "            \"Method\": \"Energy\"\n",
    "        })\n",
    "        perf_metrics.append(m)\n",
    "\n",
    "        ###\n",
    "        metrics = OODMetrics()\n",
    "        metrics_energy = OODMetrics()\n",
    "        \n",
    "        for x, y in imagenet_r_loader:\n",
    "            logits = model(x.cuda())\n",
    "            metrics.update(softmax.score(logits), y)\n",
    "            metrics_energy.update(energy.score(logits), y)\n",
    "\n",
    "        m = metrics.compute()\n",
    "        m.update({\n",
    "            \"Dataset\": \"ImageNetR\",\n",
    "            \"Iteration\": i,\n",
    "            \"Method\": \"Softmax\"\n",
    "        })\n",
    "        perf_metrics.append(m)\n",
    "        \n",
    "        m = metrics_energy.compute()\n",
    "        m.update({\n",
    "            \"Dataset\": \"ImageNetR\",\n",
    "            \"Iteration\": i,\n",
    "            \"Method\": \"Energy\"\n",
    "        })\n",
    "        perf_metrics.append(m)\n",
    "\n",
    "        print(f\"AUROC {i} -> {m['AUROC']:.3%}\")\n",
    "        current_auroc = m['AUROC']\n",
    "\n",
    "    model.train()\n",
    "\n",
    "    return perf_metrics\n"
   ]
  },
  {
   "cell_type": "code",
   "execution_count": 4,
   "metadata": {
    "scrolled": false
   },
   "outputs": [
    {
     "name": "stdout",
     "output_type": "stream",
     "text": [
      "Variance: 0\n"
     ]
    },
    {
     "data": {
      "application/vnd.jupyter.widget-view+json": {
       "model_id": "15d48103daa744d2afababca228a176a",
       "version_major": 2,
       "version_minor": 0
      },
      "text/plain": [
       "  0%|          | 0/1000 [00:00<?, ?it/s]"
      ]
     },
     "metadata": {},
     "output_type": "display_data"
    },
    {
     "name": "stdout",
     "output_type": "stream",
     "text": [
      "Evaluating... \n"
     ]
    },
    {
     "name": "stderr",
     "output_type": "stream",
     "text": [
      "/home/kirchheim/anaconda3/envs/myenv/lib/python3.8/site-packages/torchmetrics/utilities/prints.py:36: UserWarning: Metric `AUROC` will save all targets and predictions in buffer. For large datasets this may lead to large memory footprint.\n",
      "  warnings.warn(*args, **kwargs)\n",
      "/home/kirchheim/anaconda3/envs/myenv/lib/python3.8/site-packages/torchmetrics/utilities/prints.py:36: UserWarning: Metric `PrecisionRecallCurve` will save all targets and predictions in buffer. For large datasets this may lead to large memory footprint.\n",
      "  warnings.warn(*args, **kwargs)\n",
      "/home/kirchheim/anaconda3/envs/myenv/lib/python3.8/site-packages/torchmetrics/utilities/prints.py:36: UserWarning: `pos_label` automatically set 1.\n",
      "  warnings.warn(*args, **kwargs)\n",
      "/home/kirchheim/anaconda3/envs/myenv/lib/python3.8/site-packages/torchmetrics/functional/classification/precision_recall_curve.py:156: UserWarning: To copy construct from a tensor, it is recommended to use sourceTensor.clone().detach() or sourceTensor.clone().detach().requires_grad_(True), rather than torch.tensor(sourceTensor).\n",
      "  thresholds = tensor(reversed(thresholds[sl]))\n"
     ]
    },
    {
     "name": "stdout",
     "output_type": "stream",
     "text": [
      "AUROC 999 -> 63.906%\n",
      "Variance: 0.25\n"
     ]
    },
    {
     "data": {
      "application/vnd.jupyter.widget-view+json": {
       "model_id": "8ec4aed910d340d8b1cc7582fbfaa8cb",
       "version_major": 2,
       "version_minor": 0
      },
      "text/plain": [
       "  0%|          | 0/1000 [00:00<?, ?it/s]"
      ]
     },
     "metadata": {},
     "output_type": "display_data"
    },
    {
     "name": "stdout",
     "output_type": "stream",
     "text": [
      "Evaluating... \n",
      "AUROC 999 -> 58.837%\n",
      "Variance: 0.5\n"
     ]
    },
    {
     "data": {
      "application/vnd.jupyter.widget-view+json": {
       "model_id": "2ea84c9d560c47798fa77c2317e4305e",
       "version_major": 2,
       "version_minor": 0
      },
      "text/plain": [
       "  0%|          | 0/1000 [00:00<?, ?it/s]"
      ]
     },
     "metadata": {},
     "output_type": "display_data"
    },
    {
     "name": "stdout",
     "output_type": "stream",
     "text": [
      "Evaluating... \n",
      "AUROC 999 -> 54.567%\n",
      "Variance: 0.75\n"
     ]
    },
    {
     "data": {
      "application/vnd.jupyter.widget-view+json": {
       "model_id": "966f605376a84096867efd7c57254913",
       "version_major": 2,
       "version_minor": 0
      },
      "text/plain": [
       "  0%|          | 0/1000 [00:00<?, ?it/s]"
      ]
     },
     "metadata": {},
     "output_type": "display_data"
    },
    {
     "name": "stdout",
     "output_type": "stream",
     "text": [
      "Evaluating... \n",
      "AUROC 999 -> 67.663%\n",
      "Variance: 1.0\n"
     ]
    },
    {
     "data": {
      "application/vnd.jupyter.widget-view+json": {
       "model_id": "a943a9a7512e48f8a719c6a69d061def",
       "version_major": 2,
       "version_minor": 0
      },
      "text/plain": [
       "  0%|          | 0/1000 [00:00<?, ?it/s]"
      ]
     },
     "metadata": {},
     "output_type": "display_data"
    },
    {
     "name": "stdout",
     "output_type": "stream",
     "text": [
      "Evaluating... \n",
      "AUROC 999 -> 85.033%\n",
      "Variance: 10.0\n"
     ]
    },
    {
     "data": {
      "application/vnd.jupyter.widget-view+json": {
       "model_id": "b23697e8b16d4cdebe3ff56e8611dd67",
       "version_major": 2,
       "version_minor": 0
      },
      "text/plain": [
       "  0%|          | 0/1000 [00:00<?, ?it/s]"
      ]
     },
     "metadata": {},
     "output_type": "display_data"
    },
    {
     "name": "stdout",
     "output_type": "stream",
     "text": [
      "Evaluating... \n",
      "AUROC 999 -> 87.790%\n",
      "Variance: 1.25\n"
     ]
    },
    {
     "data": {
      "application/vnd.jupyter.widget-view+json": {
       "model_id": "164a878de1f44a83bd0d01220e08916c",
       "version_major": 2,
       "version_minor": 0
      },
      "text/plain": [
       "  0%|          | 0/1000 [00:00<?, ?it/s]"
      ]
     },
     "metadata": {},
     "output_type": "display_data"
    },
    {
     "name": "stdout",
     "output_type": "stream",
     "text": [
      "Evaluating... \n",
      "AUROC 999 -> 88.623%\n",
      "Variance: 1.5\n"
     ]
    },
    {
     "data": {
      "application/vnd.jupyter.widget-view+json": {
       "model_id": "243f926c4944491faf4780b12503534a",
       "version_major": 2,
       "version_minor": 0
      },
      "text/plain": [
       "  0%|          | 0/1000 [00:00<?, ?it/s]"
      ]
     },
     "metadata": {},
     "output_type": "display_data"
    },
    {
     "name": "stdout",
     "output_type": "stream",
     "text": [
      "Evaluating... \n",
      "AUROC 999 -> 88.813%\n",
      "Variance: 1.75\n"
     ]
    },
    {
     "data": {
      "application/vnd.jupyter.widget-view+json": {
       "model_id": "086c120c8ebb40a2a7c5a6c9501e5783",
       "version_major": 2,
       "version_minor": 0
      },
      "text/plain": [
       "  0%|          | 0/1000 [00:00<?, ?it/s]"
      ]
     },
     "metadata": {},
     "output_type": "display_data"
    },
    {
     "name": "stdout",
     "output_type": "stream",
     "text": [
      "Evaluating... \n",
      "AUROC 999 -> 88.972%\n",
      "Variance: 2.0\n"
     ]
    },
    {
     "data": {
      "application/vnd.jupyter.widget-view+json": {
       "model_id": "ff3978116c814f72a0d33b668cc6f3ab",
       "version_major": 2,
       "version_minor": 0
      },
      "text/plain": [
       "  0%|          | 0/1000 [00:00<?, ?it/s]"
      ]
     },
     "metadata": {},
     "output_type": "display_data"
    },
    {
     "name": "stdout",
     "output_type": "stream",
     "text": [
      "Evaluating... \n",
      "AUROC 999 -> 88.782%\n",
      "Variance: 2.5\n"
     ]
    },
    {
     "data": {
      "application/vnd.jupyter.widget-view+json": {
       "model_id": "85611a312ff046a58e84dec9d0d2f9b9",
       "version_major": 2,
       "version_minor": 0
      },
      "text/plain": [
       "  0%|          | 0/1000 [00:00<?, ?it/s]"
      ]
     },
     "metadata": {},
     "output_type": "display_data"
    },
    {
     "name": "stdout",
     "output_type": "stream",
     "text": [
      "Evaluating... \n",
      "AUROC 999 -> 88.936%\n",
      "Variance: 3.0\n"
     ]
    },
    {
     "data": {
      "application/vnd.jupyter.widget-view+json": {
       "model_id": "5459a05530304e0990d6231032d2c68b",
       "version_major": 2,
       "version_minor": 0
      },
      "text/plain": [
       "  0%|          | 0/1000 [00:00<?, ?it/s]"
      ]
     },
     "metadata": {},
     "output_type": "display_data"
    },
    {
     "name": "stdout",
     "output_type": "stream",
     "text": [
      "Evaluating... \n",
      "AUROC 999 -> 88.544%\n",
      "Variance: 4.0\n"
     ]
    },
    {
     "data": {
      "application/vnd.jupyter.widget-view+json": {
       "model_id": "c0c7b09e8f4c410e85a38d6d81286363",
       "version_major": 2,
       "version_minor": 0
      },
      "text/plain": [
       "  0%|          | 0/1000 [00:00<?, ?it/s]"
      ]
     },
     "metadata": {},
     "output_type": "display_data"
    },
    {
     "name": "stdout",
     "output_type": "stream",
     "text": [
      "Evaluating... \n",
      "AUROC 999 -> 88.222%\n",
      "Variance: 5.0\n"
     ]
    },
    {
     "data": {
      "application/vnd.jupyter.widget-view+json": {
       "model_id": "23c461770b064716af5456f18bc02714",
       "version_major": 2,
       "version_minor": 0
      },
      "text/plain": [
       "  0%|          | 0/1000 [00:00<?, ?it/s]"
      ]
     },
     "metadata": {},
     "output_type": "display_data"
    },
    {
     "name": "stdout",
     "output_type": "stream",
     "text": [
      "Evaluating... \n",
      "AUROC 999 -> 87.939%\n",
      "Variance: 6.0\n"
     ]
    },
    {
     "data": {
      "application/vnd.jupyter.widget-view+json": {
       "model_id": "043d5d7abc3d40028a49669c437f108a",
       "version_major": 2,
       "version_minor": 0
      },
      "text/plain": [
       "  0%|          | 0/1000 [00:00<?, ?it/s]"
      ]
     },
     "metadata": {},
     "output_type": "display_data"
    },
    {
     "name": "stdout",
     "output_type": "stream",
     "text": [
      "Evaluating... \n",
      "AUROC 999 -> 87.649%\n",
      "Variance: 7.0\n"
     ]
    },
    {
     "data": {
      "application/vnd.jupyter.widget-view+json": {
       "model_id": "ab3ac1e7da1643d28d573d936355f3c1",
       "version_major": 2,
       "version_minor": 0
      },
      "text/plain": [
       "  0%|          | 0/1000 [00:00<?, ?it/s]"
      ]
     },
     "metadata": {},
     "output_type": "display_data"
    },
    {
     "name": "stdout",
     "output_type": "stream",
     "text": [
      "Evaluating... \n",
      "AUROC 999 -> 87.731%\n",
      "Variance: 8.0\n"
     ]
    },
    {
     "data": {
      "application/vnd.jupyter.widget-view+json": {
       "model_id": "eae81e1874cb41e3b1ffd4dd0f16b3b2",
       "version_major": 2,
       "version_minor": 0
      },
      "text/plain": [
       "  0%|          | 0/1000 [00:00<?, ?it/s]"
      ]
     },
     "metadata": {},
     "output_type": "display_data"
    },
    {
     "name": "stdout",
     "output_type": "stream",
     "text": [
      "Evaluating... \n",
      "AUROC 999 -> 87.835%\n",
      "Variance: 9.0\n"
     ]
    },
    {
     "data": {
      "application/vnd.jupyter.widget-view+json": {
       "model_id": "56fbbab32460409ea22d838933e7013d",
       "version_major": 2,
       "version_minor": 0
      },
      "text/plain": [
       "  0%|          | 0/1000 [00:00<?, ?it/s]"
      ]
     },
     "metadata": {},
     "output_type": "display_data"
    },
    {
     "name": "stdout",
     "output_type": "stream",
     "text": [
      "Evaluating... \n",
      "AUROC 999 -> 87.829%\n"
     ]
    }
   ],
   "source": [
    "import pandas as pd \n",
    "dfs = []\n",
    "\n",
    "for var in [0, 0.25, 0.5, 0.75, 1.0, 10.0, 1.25, 1.5, 1.75, 2.0, 2.5, 3.0, 4.0, 5.0, 6.0, 7.0, 8.0, 9.0]:\n",
    "    print(f\"Variance: {var}\")\n",
    "    metrics = train(var)\n",
    "    df = pd.DataFrame(metrics)\n",
    "    df[\"Variance\"] = var \n",
    "    dfs.append(df)"
   ]
  },
  {
   "cell_type": "code",
   "execution_count": 5,
   "metadata": {},
   "outputs": [],
   "source": [
    "df = pd.concat(dfs)"
   ]
  },
  {
   "cell_type": "code",
   "execution_count": 27,
   "metadata": {},
   "outputs": [
    {
     "data": {
      "image/png": "[encoded data removed]",
      "text/plain": [
       "<Figure size 432x288 with 1 Axes>"
      ]
     },
     "metadata": {},
     "output_type": "display_data"
    }
   ],
   "source": [
    "from matplotlib import rcParams\n",
    "rcParams['pgf.texsystem'] = \"pdflatex\"\n",
    "\n",
    "import seaborn as sb \n",
    "import matplotlib.pyplot as plt \n",
    "\n",
    "sb.set_style(\"whitegrid\")\n",
    "sb.set_context(\"paper\")\n",
    "\n",
    "df = pd.concat(dfs)\n",
    "df.rename(columns = {\"Variance\": \"$\\sigma^2$\"}, inplace = True)\n",
    "d = df.groupby([\"$\\sigma^2$\", \"Dataset\", \"Method\"]).mean()\n",
    "\n",
    "# d[\"$\\sigma^2$\"] = d[\"Variance\"]\n",
    "sb.lineplot(data=d, x=\"$\\sigma^2$\", y=\"AUROC\", hue=\"Dataset\", style=\"Method\", marker=\"o\")\n",
    "plt.savefig(\"img/imagenet-auroc-vs-variance.png\", dpi=300)\n",
    "plt.savefig(\"img/imagenet-auroc-vs-variance.pgf\")"
   ]
  },
  {
   "cell_type": "code",
   "execution_count": 17,
   "metadata": {},
   "outputs": [
    {
     "data": {
      "text/html": [
       "<div>\n",
       "<style scoped>\n",
       "    .dataframe tbody tr th:only-of-type {\n",
       "        vertical-align: middle;\n",
       "    }\n",
       "\n",
       "    .dataframe tbody tr th {\n",
       "        vertical-align: top;\n",
       "    }\n",
       "\n",
       "    .dataframe thead th {\n",
       "        text-align: right;\n",
       "    }\n",
       "</style>\n",
       "<table border=\"1\" class=\"dataframe\">\n",
       "  <thead>\n",
       "    <tr style=\"text-align: right;\">\n",
       "      <th></th>\n",
       "      <th>AUROC</th>\n",
       "      <th>AUPR-IN</th>\n",
       "      <th>AUPR-OUT</th>\n",
       "      <th>ACC95TPR</th>\n",
       "      <th>FPR95TPR</th>\n",
       "      <th>Dataset</th>\n",
       "      <th>Iteration</th>\n",
       "      <th>Method</th>\n",
       "    </tr>\n",
       "  </thead>\n",
       "  <tbody>\n",
       "    <tr>\n",
       "      <th>0</th>\n",
       "      <td>0.815251</td>\n",
       "      <td>0.400938</td>\n",
       "      <td>0.965551</td>\n",
       "      <td>0.505385</td>\n",
       "      <td>0.56110</td>\n",
       "      <td>ImageNetA</td>\n",
       "      <td>999</td>\n",
       "      <td>Softmax</td>\n",
       "    </tr>\n",
       "    <tr>\n",
       "      <th>1</th>\n",
       "      <td>0.852170</td>\n",
       "      <td>0.474999</td>\n",
       "      <td>0.971908</td>\n",
       "      <td>0.541679</td>\n",
       "      <td>0.51938</td>\n",
       "      <td>ImageNetA</td>\n",
       "      <td>999</td>\n",
       "      <td>Energy</td>\n",
       "    </tr>\n",
       "    <tr>\n",
       "      <th>2</th>\n",
       "      <td>0.521003</td>\n",
       "      <td>0.038434</td>\n",
       "      <td>0.969069</td>\n",
       "      <td>0.162654</td>\n",
       "      <td>0.86884</td>\n",
       "      <td>ImageNetO</td>\n",
       "      <td>999</td>\n",
       "      <td>Softmax</td>\n",
       "    </tr>\n",
       "    <tr>\n",
       "      <th>3</th>\n",
       "      <td>0.632610</td>\n",
       "      <td>0.059148</td>\n",
       "      <td>0.977346</td>\n",
       "      <td>0.202462</td>\n",
       "      <td>0.82744</td>\n",
       "      <td>ImageNetO</td>\n",
       "      <td>999</td>\n",
       "      <td>Energy</td>\n",
       "    </tr>\n",
       "    <tr>\n",
       "      <th>4</th>\n",
       "      <td>0.769016</td>\n",
       "      <td>0.664223</td>\n",
       "      <td>0.839990</td>\n",
       "      <td>0.538950</td>\n",
       "      <td>0.70768</td>\n",
       "      <td>ImageNetR</td>\n",
       "      <td>999</td>\n",
       "      <td>Softmax</td>\n",
       "    </tr>\n",
       "    <tr>\n",
       "      <th>5</th>\n",
       "      <td>0.847782</td>\n",
       "      <td>0.764554</td>\n",
       "      <td>0.892743</td>\n",
       "      <td>0.608700</td>\n",
       "      <td>0.59608</td>\n",
       "      <td>ImageNetR</td>\n",
       "      <td>999</td>\n",
       "      <td>Energy</td>\n",
       "    </tr>\n",
       "  </tbody>\n",
       "</table>\n",
       "</div>"
      ],
      "text/plain": [
       "      AUROC   AUPR-IN  AUPR-OUT  ACC95TPR  FPR95TPR    Dataset  Iteration  \\\n",
       "0  0.815251  0.400938  0.965551  0.505385   0.56110  ImageNetA        999   \n",
       "1  0.852170  0.474999  0.971908  0.541679   0.51938  ImageNetA        999   \n",
       "2  0.521003  0.038434  0.969069  0.162654   0.86884  ImageNetO        999   \n",
       "3  0.632610  0.059148  0.977346  0.202462   0.82744  ImageNetO        999   \n",
       "4  0.769016  0.664223  0.839990  0.538950   0.70768  ImageNetR        999   \n",
       "5  0.847782  0.764554  0.892743  0.608700   0.59608  ImageNetR        999   \n",
       "\n",
       "    Method  \n",
       "0  Softmax  \n",
       "1   Energy  \n",
       "2  Softmax  \n",
       "3   Energy  \n",
       "4  Softmax  \n",
       "5   Energy  "
      ]
     },
     "execution_count": 17,
     "metadata": {},
     "output_type": "execute_result"
    }
   ],
   "source": [
    "df"
   ]
  },
  {
   "cell_type": "code",
   "execution_count": 7,
   "metadata": {},
   "outputs": [
    {
     "name": "stdout",
     "output_type": "stream",
     "text": [
      "\\begin{tabular}{lrrrrrrr}\n",
      "\\toprule\n",
      "{} &  AUROC &  AUPR-IN &  AUPR-OUT &  ACC95TPR &  FPR95TPR &  Iteration &  Variance \\\\\n",
      "Method &        &          &           &           &           &            &           \\\\\n",
      "\\midrule\n",
      "MPS    &  79.98 &    42.86 &     95.41 &     49.69 &     59.22 &   99900.00 &    200.00 \\\\\n",
      "\\bottomrule\n",
      "\\end{tabular}\n",
      "\n"
     ]
    }
   ],
   "source": [
    "df = pd.concat(dfs)\n",
    "df = df[df[\"Variance\"] == 2.0]\n",
    "df[\"Method\"] = \"MPS\"\n",
    "print((df.groupby(\"Method\").mean() * 100).to_latex(float_format=\"%.2f\"))"
   ]
  },
  {
   "cell_type": "code",
   "execution_count": 28,
   "metadata": {},
   "outputs": [
    {
     "data": {
      "application/vnd.jupyter.widget-view+json": {
       "model_id": "e0fab03353544503bd0ad679e729fa0d",
       "version_major": 2,
       "version_minor": 0
      },
      "text/plain": [
       "  0%|          | 0/1000 [00:00<?, ?it/s]"
      ]
     },
     "metadata": {},
     "output_type": "display_data"
    },
    {
     "name": "stdout",
     "output_type": "stream",
     "text": [
      "Evaluating... \n"
     ]
    },
    {
     "name": "stderr",
     "output_type": "stream",
     "text": [
      "/home/kirchheim/anaconda3/envs/myenv/lib/python3.8/site-packages/torchmetrics/utilities/prints.py:36: UserWarning: Metric `AUROC` will save all targets and predictions in buffer. For large datasets this may lead to large memory footprint.\n",
      "  warnings.warn(*args, **kwargs)\n",
      "/home/kirchheim/anaconda3/envs/myenv/lib/python3.8/site-packages/torchmetrics/utilities/prints.py:36: UserWarning: Metric `PrecisionRecallCurve` will save all targets and predictions in buffer. For large datasets this may lead to large memory footprint.\n",
      "  warnings.warn(*args, **kwargs)\n",
      "/home/kirchheim/anaconda3/envs/myenv/lib/python3.8/site-packages/torchmetrics/utilities/prints.py:36: UserWarning: `pos_label` automatically set 1.\n",
      "  warnings.warn(*args, **kwargs)\n",
      "/home/kirchheim/anaconda3/envs/myenv/lib/python3.8/site-packages/torchmetrics/functional/classification/precision_recall_curve.py:156: UserWarning: To copy construct from a tensor, it is recommended to use sourceTensor.clone().detach() or sourceTensor.clone().detach().requires_grad_(True), rather than torch.tensor(sourceTensor).\n",
      "  thresholds = tensor(reversed(thresholds[sl]))\n"
     ]
    },
    {
     "name": "stdout",
     "output_type": "stream",
     "text": [
      "AUROC 999 -> 88.852%\n"
     ]
    }
   ],
   "source": [
    "dfs_v2 = train(2.0)"
   ]
  },
  {
   "cell_type": "code",
   "execution_count": 29,
   "metadata": {},
   "outputs": [
    {
     "name": "stdout",
     "output_type": "stream",
     "text": [
      "\\begin{tabular}{lrrrrrr}\n",
      "\\toprule\n",
      "{} &  AUROC &  AUPR-IN &  AUPR-OUT &  ACC95TPR &  FPR95TPR &  Iteration \\\\\n",
      "Method  &        &          &           &           &           &            \\\\\n",
      "\\midrule\n",
      "Energy  &  82.96 &    43.82 &     96.15 &     53.50 &     54.34 &   99900.00 \\\\\n",
      "Softmax &  77.50 &    42.67 &     94.76 &     46.57 &     63.36 &   99900.00 \\\\\n",
      "\\bottomrule\n",
      "\\end{tabular}\n",
      "\n"
     ]
    }
   ],
   "source": [
    "df = pd.DataFrame(dfs_v2)\n",
    "# df = df[df[\"Variance\"] == 2.0]\n",
    "# df[\"Method\"] = \"MPS\"\n",
    "print((df.groupby(\"Method\").mean() * 100).to_latex(float_format=\"%.2f\"))"
   ]
  },
  {
   "cell_type": "code",
   "execution_count": 30,
   "metadata": {},
   "outputs": [
    {
     "data": {
      "text/html": [
       "<div>\n",
       "<style scoped>\n",
       "    .dataframe tbody tr th:only-of-type {\n",
       "        vertical-align: middle;\n",
       "    }\n",
       "\n",
       "    .dataframe tbody tr th {\n",
       "        vertical-align: top;\n",
       "    }\n",
       "\n",
       "    .dataframe thead th {\n",
       "        text-align: right;\n",
       "    }\n",
       "</style>\n",
       "<table border=\"1\" class=\"dataframe\">\n",
       "  <thead>\n",
       "    <tr style=\"text-align: right;\">\n",
       "      <th></th>\n",
       "      <th>AUROC</th>\n",
       "      <th>AUPR-IN</th>\n",
       "      <th>AUPR-OUT</th>\n",
       "      <th>ACC95TPR</th>\n",
       "      <th>FPR95TPR</th>\n",
       "      <th>Dataset</th>\n",
       "      <th>Iteration</th>\n",
       "      <th>Method</th>\n",
       "    </tr>\n",
       "  </thead>\n",
       "  <tbody>\n",
       "    <tr>\n",
       "      <th>0</th>\n",
       "      <td>0.837850</td>\n",
       "      <td>0.428738</td>\n",
       "      <td>0.970379</td>\n",
       "      <td>0.532266</td>\n",
       "      <td>0.53020</td>\n",
       "      <td>ImageNetA</td>\n",
       "      <td>999</td>\n",
       "      <td>Softmax</td>\n",
       "    </tr>\n",
       "    <tr>\n",
       "      <th>1</th>\n",
       "      <td>0.827045</td>\n",
       "      <td>0.374796</td>\n",
       "      <td>0.968710</td>\n",
       "      <td>0.537590</td>\n",
       "      <td>0.52408</td>\n",
       "      <td>ImageNetA</td>\n",
       "      <td>999</td>\n",
       "      <td>Energy</td>\n",
       "    </tr>\n",
       "    <tr>\n",
       "      <th>2</th>\n",
       "      <td>0.641242</td>\n",
       "      <td>0.067553</td>\n",
       "      <td>0.978953</td>\n",
       "      <td>0.261769</td>\n",
       "      <td>0.76576</td>\n",
       "      <td>ImageNetO</td>\n",
       "      <td>999</td>\n",
       "      <td>Softmax</td>\n",
       "    </tr>\n",
       "    <tr>\n",
       "      <th>3</th>\n",
       "      <td>0.773169</td>\n",
       "      <td>0.122002</td>\n",
       "      <td>0.987705</td>\n",
       "      <td>0.367538</td>\n",
       "      <td>0.65576</td>\n",
       "      <td>ImageNetO</td>\n",
       "      <td>999</td>\n",
       "      <td>Energy</td>\n",
       "    </tr>\n",
       "    <tr>\n",
       "      <th>4</th>\n",
       "      <td>0.845905</td>\n",
       "      <td>0.783707</td>\n",
       "      <td>0.893324</td>\n",
       "      <td>0.603150</td>\n",
       "      <td>0.60496</td>\n",
       "      <td>ImageNetR</td>\n",
       "      <td>999</td>\n",
       "      <td>Softmax</td>\n",
       "    </tr>\n",
       "    <tr>\n",
       "      <th>5</th>\n",
       "      <td>0.888518</td>\n",
       "      <td>0.817732</td>\n",
       "      <td>0.928089</td>\n",
       "      <td>0.699850</td>\n",
       "      <td>0.45024</td>\n",
       "      <td>ImageNetR</td>\n",
       "      <td>999</td>\n",
       "      <td>Energy</td>\n",
       "    </tr>\n",
       "  </tbody>\n",
       "</table>\n",
       "</div>"
      ],
      "text/plain": [
       "      AUROC   AUPR-IN  AUPR-OUT  ACC95TPR  FPR95TPR    Dataset  Iteration  \\\n",
       "0  0.837850  0.428738  0.970379  0.532266   0.53020  ImageNetA        999   \n",
       "1  0.827045  0.374796  0.968710  0.537590   0.52408  ImageNetA        999   \n",
       "2  0.641242  0.067553  0.978953  0.261769   0.76576  ImageNetO        999   \n",
       "3  0.773169  0.122002  0.987705  0.367538   0.65576  ImageNetO        999   \n",
       "4  0.845905  0.783707  0.893324  0.603150   0.60496  ImageNetR        999   \n",
       "5  0.888518  0.817732  0.928089  0.699850   0.45024  ImageNetR        999   \n",
       "\n",
       "    Method  \n",
       "0  Softmax  \n",
       "1   Energy  \n",
       "2  Softmax  \n",
       "3   Energy  \n",
       "4  Softmax  \n",
       "5   Energy  "
      ]
     },
     "execution_count": 30,
     "metadata": {},
     "output_type": "execute_result"
    }
   ],
   "source": [
    "df"
   ]
  },
  {
   "cell_type": "markdown",
   "metadata": {},
   "source": [
    "# Evaluate model without additional training "
   ]
  },
  {
   "cell_type": "code",
   "execution_count": 31,
   "metadata": {},
   "outputs": [
    {
     "name": "stdout",
     "output_type": "stream",
     "text": [
      "Evaluating... \n"
     ]
    },
    {
     "name": "stderr",
     "output_type": "stream",
     "text": [
      "/home/kirchheim/anaconda3/envs/myenv/lib/python3.8/site-packages/torchmetrics/utilities/prints.py:36: UserWarning: Metric `AUROC` will save all targets and predictions in buffer. For large datasets this may lead to large memory footprint.\n",
      "  warnings.warn(*args, **kwargs)\n",
      "/home/kirchheim/anaconda3/envs/myenv/lib/python3.8/site-packages/torchmetrics/utilities/prints.py:36: UserWarning: Metric `PrecisionRecallCurve` will save all targets and predictions in buffer. For large datasets this may lead to large memory footprint.\n",
      "  warnings.warn(*args, **kwargs)\n",
      "/home/kirchheim/anaconda3/envs/myenv/lib/python3.8/site-packages/torchmetrics/utilities/prints.py:36: UserWarning: `pos_label` automatically set 1.\n",
      "  warnings.warn(*args, **kwargs)\n",
      "/home/kirchheim/anaconda3/envs/myenv/lib/python3.8/site-packages/torchmetrics/functional/classification/precision_recall_curve.py:156: UserWarning: To copy construct from a tensor, it is recommended to use sourceTensor.clone().detach() or sourceTensor.clone().detach().requires_grad_(True), rather than torch.tensor(sourceTensor).\n",
      "  thresholds = tensor(reversed(thresholds[sl]))\n"
     ]
    }
   ],
   "source": [
    "# in test set \n",
    "dataset_in_test = ImageNet(split=\"val\", root=\"/data_fast/kirchheim/datasets/imagenet-2012/\", transform=preprocess)\n",
    "test_in_loader = DataLoader(dataset_in_test, batch_size=256, num_workers=20)\n",
    "\n",
    "# ood test sets \n",
    "imagenet_r = ImageNetR(root=\"/data_fast/kirchheim/datasets/\", \n",
    "                       download=True, transform=preprocess, target_transform=ToUnknown())\n",
    "imagenet_r_loader = DataLoader(imagenet_r + dataset_in_test, batch_size=128, num_workers=12)\n",
    "\n",
    "imagenet_o = ImageNetO(root=\"/data_fast/kirchheim/datasets/\", \n",
    "                       download=True, transform=preprocess, target_transform=ToUnknown())\n",
    "imagenet_o_loader = DataLoader(imagenet_o + dataset_in_test, batch_size=128, num_workers=12)\n",
    "\n",
    "imagenet_a = ImageNetA(root=\"/data_fast/kirchheim/datasets/\", \n",
    "                       download=True, transform=preprocess, target_transform=ToUnknown())\n",
    "imagenet_a_loader = DataLoader(imagenet_a + dataset_in_test, batch_size=128, num_workers=12)\n",
    "\n",
    "\n",
    "model = resnet101(pretrained=True)\n",
    "model = model.cuda()\n",
    "\n",
    "perf_metrics = []\n",
    "\n",
    "print(f\"Evaluating... \")\n",
    "model.eval()\n",
    "with torch.no_grad():\n",
    "    softmax = MaxSoftmax(model)\n",
    "    energy = EnergyBased(model)\n",
    "\n",
    "    ###\n",
    "    metrics = OODMetrics()\n",
    "    metrics_energy = OODMetrics()\n",
    "\n",
    "    for x, y in imagenet_a_loader:\n",
    "        logits = model(x.cuda())\n",
    "        metrics.update(softmax.score(logits), y)\n",
    "        metrics_energy.update(energy.score(logits), y)\n",
    "\n",
    "    m = metrics.compute()\n",
    "    m.update({\n",
    "        \"Dataset\": \"ImageNetA\",\n",
    "        \"Iteration\": 0,\n",
    "        \"Method\": \"Softmax\"\n",
    "    })\n",
    "    perf_metrics.append(m)\n",
    "\n",
    "    m = metrics_energy.compute()\n",
    "    m.update({\n",
    "        \"Dataset\": \"ImageNetA\",\n",
    "        \"Iteration\": 0,\n",
    "        \"Method\": \"Energy\"\n",
    "    })\n",
    "    perf_metrics.append(m)\n",
    "\n",
    "\n",
    "    ###\n",
    "    metrics = OODMetrics()\n",
    "    metrics_energy = OODMetrics()\n",
    "\n",
    "    for x, y in imagenet_o_loader:\n",
    "        logits = model(x.cuda())\n",
    "        metrics.update(softmax.score(logits), y)\n",
    "        metrics_energy.update(energy.score(logits), y)\n",
    "\n",
    "    m = metrics.compute()\n",
    "    m.update({\n",
    "        \"Dataset\": \"ImageNetO\",\n",
    "        \"Iteration\": 0,\n",
    "        \"Method\": \"Softmax\"\n",
    "    })\n",
    "    perf_metrics.append(m)\n",
    "\n",
    "    m = metrics_energy.compute()\n",
    "    m.update({\n",
    "        \"Dataset\": \"ImageNetO\",\n",
    "        \"Iteration\": 0,\n",
    "        \"Method\": \"Energy\"\n",
    "    })\n",
    "    perf_metrics.append(m)\n",
    "\n",
    "    ###\n",
    "    metrics = OODMetrics()\n",
    "    metrics_energy = OODMetrics()\n",
    "\n",
    "    for x, y in imagenet_r_loader:\n",
    "        logits = model(x.cuda())\n",
    "        metrics.update(softmax.score(logits), y)\n",
    "        metrics_energy.update(energy.score(logits), y)\n",
    "\n",
    "    m = metrics.compute()\n",
    "    m.update({\n",
    "        \"Dataset\": \"ImageNetR\",\n",
    "        \"Iteration\": 0,\n",
    "        \"Method\": \"Softmax\"\n",
    "    })\n",
    "    perf_metrics.append(m)\n",
    "\n",
    "    m = metrics_energy.compute()\n",
    "    m.update({\n",
    "        \"Dataset\": \"ImageNetR\",\n",
    "        \"Iteration\": 0,\n",
    "        \"Method\": \"Energy\"\n",
    "    })\n",
    "    perf_metrics.append(m)\n",
    "\n",
    "    # print(f\"AUROC {i} -> {m['AUROC']:.3%}\")\n",
    "    current_auroc = m['AUROC']"
   ]
  },
  {
   "cell_type": "code",
   "execution_count": 32,
   "metadata": {},
   "outputs": [
    {
     "name": "stdout",
     "output_type": "stream",
     "text": [
      "\\begin{tabular}{lrrrrrr}\n",
      "\\toprule\n",
      "{} &  AUROC &  AUPR-IN &  AUPR-OUT &  ACC95TPR &  FPR95TPR &  Iteration \\\\\n",
      "Method  &        &          &           &           &           &            \\\\\n",
      "\\midrule\n",
      "Energy  &  76.77 &    43.99 &     94.92 &     44.26 &     65.34 &       0.00 \\\\\n",
      "Softmax &  70.48 &    39.10 &     93.06 &     41.15 &     69.92 &       0.00 \\\\\n",
      "\\bottomrule\n",
      "\\end{tabular}\n",
      "\n"
     ]
    }
   ],
   "source": [
    "df = pd.DataFrame(perf_metrics)\n",
    "# df = df[df[\"Variance\"] == 2.0]\n",
    "# df[\"Method\"] = \"MPS\"\n",
    "print((df.groupby(\"Method\").mean() * 100).to_latex(float_format=\"%.2f\"))"
   ]
  },
  {
   "cell_type": "markdown",
   "metadata": {},
   "source": [
    "# Train on noise "
   ]
  },
  {
   "cell_type": "code",
   "execution_count": 33,
   "metadata": {},
   "outputs": [],
   "source": [
    "from pytorch_ood.dataset.img import UniformNoise\n",
    "\n",
    "def train_noise(outlier_set=10, iters=1000):\n",
    "    dataset_out_train = UniformNoise(length=80000, size=(224,224,3), \n",
    "                                     target_transform=ToUnknown(), transform=preprocess)\n",
    "    train_out_loader = DataLoader(dataset_out_train, batch_size=64, num_workers=20, shuffle=True)\n",
    "\n",
    "    dataset_in_train = ImageNet(split=\"train\", root=\"/data_fast/kirchheim/datasets/imagenet-2012/\", transform=preprocess)\n",
    "    imagenet_in_loader = DataLoader(dataset_in_train, batch_size=64, num_workers=20, shuffle=True)\n",
    "\n",
    "    # in test set \n",
    "    dataset_in_test = ImageNet(split=\"val\", root=\"/data_fast/kirchheim/datasets/imagenet-2012/\", transform=preprocess)\n",
    "    test_in_loader = DataLoader(dataset_in_test, batch_size=256, num_workers=20)\n",
    "\n",
    "    # ood test sets \n",
    "    imagenet_r = ImageNetR(root=\"/data_fast/kirchheim/datasets/\", \n",
    "                           download=True, transform=preprocess, target_transform=ToUnknown())\n",
    "    imagenet_r_loader = DataLoader(imagenet_r + dataset_in_test, batch_size=128, num_workers=12)\n",
    "    \n",
    "    imagenet_o = ImageNetO(root=\"/data_fast/kirchheim/datasets/\", \n",
    "                           download=True, transform=preprocess, target_transform=ToUnknown())\n",
    "    imagenet_o_loader = DataLoader(imagenet_o + dataset_in_test, batch_size=128, num_workers=12)\n",
    "\n",
    "    imagenet_a = ImageNetA(root=\"/data_fast/kirchheim/datasets/\", \n",
    "                           download=True, transform=preprocess, target_transform=ToUnknown())\n",
    "    imagenet_a_loader = DataLoader(imagenet_a + dataset_in_test, batch_size=128, num_workers=12)\n",
    "    \n",
    "    \n",
    "    model = resnet101(pretrained=True)\n",
    "    model = model.cuda()\n",
    "\n",
    "    opti = SGD(model.parameters(), lr=0.001)\n",
    "\n",
    "    criterion = OutlierExposureLoss(alpha=0.5)\n",
    "\n",
    "    mav = 0.0\n",
    "    mavs = []\n",
    "    perf_metrics = []\n",
    "\n",
    "    current_auroc = None \n",
    "\n",
    "    it_train_in = iter(imagenet_in_loader)\n",
    "    it_train_out = iter(train_out_loader)\n",
    "\n",
    "    criterion = OutlierExposureLoss()\n",
    "    bar = tqdm.tqdm(range(iters))\n",
    "\n",
    "    for i in bar:\n",
    "        try:\n",
    "            x1, y1 = next(it_train_in)\n",
    "            x2, y2 = next(it_train_out)\n",
    "        except Exception as e:\n",
    "            print(e)\n",
    "        except:\n",
    "            it_train_in = iter(imagenet_in_loader)\n",
    "            it_train_out = iter(train_out_loader)\n",
    "\n",
    "        x = torch.cat([x1, x2])\n",
    "        y = torch.cat([y1, y2])\n",
    "\n",
    "        x = x.cuda()\n",
    "        y = y.cuda()\n",
    "\n",
    "        y_hat = model(x)\n",
    "        loss = criterion(y_hat, y)\n",
    "        opti.zero_grad()\n",
    "        loss.backward()\n",
    "        opti.step()\n",
    "\n",
    "        mav = 0.2 * loss.item() + 0.8 * mav\n",
    "        mavs.append(mav)\n",
    "\n",
    "        bar.set_postfix({\"loss\": mav, \"AUROC\": current_auroc})\n",
    "    \n",
    "    print(f\"Evaluating... \")\n",
    "    model.eval()\n",
    "    with torch.no_grad():\n",
    "        softmax = MaxSoftmax(model)\n",
    "        energy = EnergyBased(model)\n",
    "        \n",
    "        ###\n",
    "        metrics = OODMetrics()\n",
    "        metrics_energy = OODMetrics()\n",
    "        \n",
    "        for x, y in imagenet_a_loader:\n",
    "            logits = model(x.cuda())\n",
    "            metrics.update(softmax.score(logits), y)\n",
    "            metrics_energy.update(energy.score(logits), y)\n",
    "\n",
    "        m = metrics.compute()\n",
    "        m.update({\n",
    "            \"Dataset\": \"ImageNetA\",\n",
    "            \"Iteration\": i,\n",
    "            \"Method\": \"Softmax\"\n",
    "        })\n",
    "        perf_metrics.append(m)\n",
    "        \n",
    "        m = metrics_energy.compute()\n",
    "        m.update({\n",
    "            \"Dataset\": \"ImageNetA\",\n",
    "            \"Iteration\": i,\n",
    "            \"Method\": \"Energy\"\n",
    "        })\n",
    "        perf_metrics.append(m)\n",
    "        \n",
    "\n",
    "        ###\n",
    "        metrics = OODMetrics()\n",
    "        metrics_energy = OODMetrics()\n",
    "        \n",
    "        for x, y in imagenet_o_loader:\n",
    "            logits = model(x.cuda())\n",
    "            metrics.update(softmax.score(logits), y)\n",
    "            metrics_energy.update(energy.score(logits), y)\n",
    "\n",
    "        m = metrics.compute()\n",
    "        m.update({\n",
    "            \"Dataset\": \"ImageNetO\",\n",
    "            \"Iteration\": i,\n",
    "            \"Method\": \"Softmax\"\n",
    "        })\n",
    "        perf_metrics.append(m)\n",
    "        \n",
    "        m = metrics_energy.compute()\n",
    "        m.update({\n",
    "            \"Dataset\": \"ImageNetO\",\n",
    "            \"Iteration\": i,\n",
    "            \"Method\": \"Energy\"\n",
    "        })\n",
    "        perf_metrics.append(m)\n",
    "\n",
    "        ###\n",
    "        metrics = OODMetrics()\n",
    "        metrics_energy = OODMetrics()\n",
    "        \n",
    "        for x, y in imagenet_r_loader:\n",
    "            logits = model(x.cuda())\n",
    "            metrics.update(softmax.score(logits), y)\n",
    "            metrics_energy.update(energy.score(logits), y)\n",
    "\n",
    "        m = metrics.compute()\n",
    "        m.update({\n",
    "            \"Dataset\": \"ImageNetR\",\n",
    "            \"Iteration\": i,\n",
    "            \"Method\": \"Softmax\"\n",
    "        })\n",
    "        perf_metrics.append(m)\n",
    "        \n",
    "        m = metrics_energy.compute()\n",
    "        m.update({\n",
    "            \"Dataset\": \"ImageNetR\",\n",
    "            \"Iteration\": i,\n",
    "            \"Method\": \"Energy\"\n",
    "        })\n",
    "        perf_metrics.append(m)\n",
    "\n",
    "        print(f\"AUROC {i} -> {m['AUROC']:.3%}\")\n",
    "        current_auroc = m['AUROC']\n",
    "\n",
    "    model.train()\n",
    "\n",
    "    return perf_metrics\n"
   ]
  },
  {
   "cell_type": "code",
   "execution_count": 34,
   "metadata": {},
   "outputs": [
    {
     "data": {
      "application/vnd.jupyter.widget-view+json": {
       "model_id": "d5fd6aef734a4a37b38084a21e3d9eb7",
       "version_major": 2,
       "version_minor": 0
      },
      "text/plain": [
       "  0%|          | 0/1000 [00:00<?, ?it/s]"
      ]
     },
     "metadata": {},
     "output_type": "display_data"
    },
    {
     "name": "stdout",
     "output_type": "stream",
     "text": [
      "Evaluating... \n",
      "AUROC 999 -> 84.942%\n"
     ]
    }
   ],
   "source": [
    "noise_metrics = train_noise()"
   ]
  },
  {
   "cell_type": "code",
   "execution_count": 35,
   "metadata": {},
   "outputs": [
    {
     "name": "stdout",
     "output_type": "stream",
     "text": [
      "\\begin{tabular}{lrrrrrr}\n",
      "\\toprule\n",
      "{} &  AUROC &  AUPR-IN &  AUPR-OUT &  ACC95TPR &  FPR95TPR &  Iteration \\\\\n",
      "Method  &        &          &           &           &           &            \\\\\n",
      "\\midrule\n",
      "Energy  &  78.03 &    43.66 &     94.78 &     45.46 &     64.31 &   99900.00 \\\\\n",
      "Softmax &  70.28 &    36.95 &     92.50 &     40.13 &     71.42 &   99900.00 \\\\\n",
      "\\bottomrule\n",
      "\\end{tabular}\n",
      "\n"
     ]
    }
   ],
   "source": [
    "df = pd.DataFrame(noise_metrics)\n",
    "# df = df[df[\"Variance\"] == 2.0]\n",
    "# df[\"Method\"] = \"MPS\"\n",
    "print((df.groupby(\"Method\").mean() * 100).to_latex(float_format=\"%.2f\"))"
   ]
  },
  {
   "cell_type": "code",
   "execution_count": null,
   "metadata": {},
   "outputs": [],
   "source": []
  }
 ],
 "metadata": {
  "kernelspec": {
   "display_name": "myenv",
   "language": "python",
   "name": "myenv"
  },
  "language_info": {
   "codemirror_mode": {
    "name": "ipython",
    "version": 3
   },
   "file_extension": ".py",
   "mimetype": "text/x-python",
   "name": "python",
   "nbconvert_exporter": "python",
   "pygments_lexer": "ipython3",
   "version": "3.8.10"
  }
 },
 "nbformat": 4,
 "nbformat_minor": 4
}
