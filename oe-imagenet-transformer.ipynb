{
 "cells": [
  {
   "cell_type": "code",
   "execution_count": 1,
   "metadata": {},
   "outputs": [],
   "source": [
    "import os \n",
    "import sys\n",
    "\n",
    "os.environ[\"CUDA_VISIBLE_DEVICES\"] = \"MIG-GPU-8ab9a0c8-909c-3f13-97e6-7376d6d4a029/0/0\""
   ]
  },
  {
   "cell_type": "code",
   "execution_count": 2,
   "metadata": {},
   "outputs": [],
   "source": [
    "from pytorch_ood.model import WideResNet\n",
    "from pytorch_ood.detector import EnergyBased, MaxSoftmax\n",
    "from pytorch_ood.utils import OODMetrics, ToUnknown\n",
    "from pytorch_ood.dataset.img import Textures\n",
    "from torch.utils.data import TensorDataset, DataLoader\n",
    "from torchvision.transforms import Compose, ToPILImage, Normalize, ToTensor, Resize, ToPILImage\n",
    "import torch \n",
    "from torchvision import transforms \n",
    "from pytorch_ood.utils import ToRGB\n",
    "from torchvision.datasets import ImageNet\n",
    "from torchvision.models import resnet18, resnet101\n",
    "from torch.utils.data import DataLoader \n",
    "import tqdm.notebook as tqdm \n",
    "import torchmetrics \n",
    "import pandas as pd \n",
    "from matplotlib import rcParams\n",
    "rcParams['pgf.texsystem'] = \"pdflatex\"\n",
    "\n",
    "import seaborn as sb \n",
    "import matplotlib.pyplot as plt \n",
    "\n",
    "sb.set_style(\"whitegrid\")\n",
    "sb.set_context(\"paper\")\n",
    "\n",
    "\n",
    "from torchmetrics import Accuracy\n",
    "from torchvision.datasets import ImageFolder\n",
    "from pytorch_ood.dataset.img import ImageNetR, ImageNetO, ImageNetA\n",
    "from pytorch_ood.utils import OODMetrics\n",
    "from pytorch_ood.detector import MaxSoftmax\n",
    "from pytorch_ood.model import VisionTransformer\n",
    "\n",
    "\n",
    "preprocess = transforms.Compose([\n",
    "    ToRGB(),\n",
    "    transforms.Resize((224, 224)),\n",
    "    transforms.ToTensor(),\n",
    "    transforms.Normalize([0.5, 0.5, 0.5], [0.5, 0.5, 0.5])\n",
    "])\n"
   ]
  },
  {
   "cell_type": "code",
   "execution_count": 34,
   "metadata": {
    "scrolled": true
   },
   "outputs": [],
   "source": [
    "from torch.optim import Adam, SGD\n",
    "from pytorch_ood.loss import OutlierExposureLoss\n",
    "from itertools import cycle\n",
    "\n",
    "\n",
    "def train(outlier_set=10, iters=1000, model=None):\n",
    "    dataset_out_train = ImageFolder(root=f\"/data_slow/kirchheim/gan_oe/imagenet/{outlier_set}/\", target_transform=ToUnknown(), transform=preprocess)\n",
    "    train_out_loader = DataLoader(dataset_out_train, batch_size=64, num_workers=20, shuffle=True)\n",
    "\n",
    "    dataset_in_train = ImageNet(split=\"train\", root=\"/data_fast/kirchheim/datasets/imagenet-2012/\", transform=preprocess)\n",
    "    imagenet_in_loader = DataLoader(dataset_in_train, batch_size=64, num_workers=20, shuffle=True)\n",
    "\n",
    "    # in test set \n",
    "    dataset_in_test = ImageNet(split=\"val\", root=\"/data_fast/kirchheim/datasets/imagenet-2012/\", transform=preprocess)\n",
    "    test_in_loader = DataLoader(dataset_in_test, batch_size=256, num_workers=20)\n",
    "\n",
    "    # ood test sets \n",
    "    imagenet_r = ImageNetR(root=\"/data_fast/kirchheim/datasets/\", \n",
    "                           download=True, transform=preprocess, target_transform=ToUnknown())\n",
    "    imagenet_r_loader = DataLoader(imagenet_r + dataset_in_test, batch_size=128, num_workers=12)\n",
    "    \n",
    "    imagenet_o = ImageNetO(root=\"/data_fast/kirchheim/datasets/\", \n",
    "                           download=True, transform=preprocess, target_transform=ToUnknown())\n",
    "    imagenet_o_loader = DataLoader(imagenet_o + dataset_in_test, batch_size=128, num_workers=12)\n",
    "\n",
    "    imagenet_a = ImageNetA(root=\"/data_fast/kirchheim/datasets/\", \n",
    "                           download=True, transform=preprocess, target_transform=ToUnknown())\n",
    "    imagenet_a_loader = DataLoader(imagenet_a + dataset_in_test, batch_size=128, num_workers=12)\n",
    "    \n",
    "    if model is None:\n",
    "        model = VisionTransformer(image_size=(224, 224), pretrained=\"b16-im21k-224\", num_classes=1000) # resnet101(pretrained=True)\n",
    "        model._from_pretrained(\"b16-im21k-224\")\n",
    "        \n",
    "    model = model.cuda()\n",
    "\n",
    "    opti = SGD(model.parameters(), lr=0.001)\n",
    "\n",
    "    criterion = OutlierExposureLoss(alpha=0.5)\n",
    "\n",
    "    mav = 0.0\n",
    "    mavs = []\n",
    "    perf_metrics = []\n",
    "\n",
    "    current_auroc = None \n",
    "\n",
    "    it_train_in = iter(imagenet_in_loader)\n",
    "    it_train_out = iter(train_out_loader)\n",
    "\n",
    "    criterion = OutlierExposureLoss()\n",
    "    bar = tqdm.tqdm(range(iters))\n",
    "\n",
    "    for i in bar:\n",
    "        try:\n",
    "            x1, y1 = next(it_train_in)\n",
    "            x2, y2 = next(it_train_out)\n",
    "        except:\n",
    "            it_train_in = iter(imagenet_in_loader)\n",
    "            it_train_out = iter(train_out_loader)\n",
    "\n",
    "        x = torch.cat([x1, x2])\n",
    "        y = torch.cat([y1, y2])\n",
    "\n",
    "        x = x.cuda()\n",
    "        y = y.cuda()\n",
    "\n",
    "        y_hat = model(x)\n",
    "        loss = criterion(y_hat, y)\n",
    "        opti.zero_grad()\n",
    "        loss.backward()\n",
    "        opti.step()\n",
    "\n",
    "        mav = 0.2 * loss.item() + 0.8 * mav\n",
    "        mavs.append(mav)\n",
    "\n",
    "        bar.set_postfix({\"loss\": mav, \"AUROC\": current_auroc})\n",
    "    \n",
    "    print(f\"Evaluating... \")\n",
    "    model.eval()\n",
    "    with torch.no_grad():\n",
    "        softmax = MaxSoftmax(model)\n",
    "        energy = EnergyBased(model)\n",
    "        \n",
    "        ###\n",
    "        metrics = OODMetrics()\n",
    "        metrics_energy = OODMetrics()\n",
    "        \n",
    "        for x, y in imagenet_a_loader:\n",
    "            logits = model(x.cuda())\n",
    "            metrics.update(softmax.score(logits), y)\n",
    "            metrics_energy.update(energy.score(logits), y)\n",
    "\n",
    "        m = metrics.compute()\n",
    "        m.update({\n",
    "            \"Dataset\": \"ImageNetA\",\n",
    "            \"Iteration\": i,\n",
    "            \"Method\": \"Softmax\"\n",
    "        })\n",
    "        perf_metrics.append(m)\n",
    "        \n",
    "        m = metrics_energy.compute()\n",
    "        m.update({\n",
    "            \"Dataset\": \"ImageNetA\",\n",
    "            \"Iteration\": i,\n",
    "            \"Method\": \"Energy\"\n",
    "        })\n",
    "        perf_metrics.append(m)\n",
    "        \n",
    "\n",
    "        ###\n",
    "        metrics = OODMetrics()\n",
    "        metrics_energy = OODMetrics()\n",
    "        \n",
    "        for x, y in imagenet_o_loader:\n",
    "            logits = model(x.cuda())\n",
    "            metrics.update(softmax.score(logits), y)\n",
    "            metrics_energy.update(energy.score(logits), y)\n",
    "\n",
    "        m = metrics.compute()\n",
    "        m.update({\n",
    "            \"Dataset\": \"ImageNetO\",\n",
    "            \"Iteration\": i,\n",
    "            \"Method\": \"Softmax\"\n",
    "        })\n",
    "        perf_metrics.append(m)\n",
    "        \n",
    "        m = metrics_energy.compute()\n",
    "        m.update({\n",
    "            \"Dataset\": \"ImageNetO\",\n",
    "            \"Iteration\": i,\n",
    "            \"Method\": \"Energy\"\n",
    "        })\n",
    "        perf_metrics.append(m)\n",
    "\n",
    "        ###\n",
    "        metrics = OODMetrics()\n",
    "        metrics_energy = OODMetrics()\n",
    "        \n",
    "        for x, y in imagenet_r_loader:\n",
    "            logits = model(x.cuda())\n",
    "            metrics.update(softmax.score(logits), y)\n",
    "            metrics_energy.update(energy.score(logits), y)\n",
    "\n",
    "        m = metrics.compute()\n",
    "        m.update({\n",
    "            \"Dataset\": \"ImageNetR\",\n",
    "            \"Iteration\": i,\n",
    "            \"Method\": \"Softmax\"\n",
    "        })\n",
    "        perf_metrics.append(m)\n",
    "        \n",
    "        m = metrics_energy.compute()\n",
    "        m.update({\n",
    "            \"Dataset\": \"ImageNetR\",\n",
    "            \"Iteration\": i,\n",
    "            \"Method\": \"Energy\"\n",
    "        })\n",
    "        perf_metrics.append(m)\n",
    "\n",
    "        print(f\"AUROC {i} -> {m['AUROC']:.3%}\")\n",
    "        current_auroc = m['AUROC']\n",
    "\n",
    "    model.train()\n",
    "\n",
    "    return perf_metrics\n"
   ]
  },
  {
   "cell_type": "code",
   "execution_count": 35,
   "metadata": {},
   "outputs": [
    {
     "data": {
      "application/vnd.jupyter.widget-view+json": {
       "model_id": "cdb42947bda9447ca61fd322088d5d11",
       "version_major": 2,
       "version_minor": 0
      },
      "text/plain": [
       "  0%|          | 0/1000 [00:00<?, ?it/s]"
      ]
     },
     "metadata": {},
     "output_type": "display_data"
    },
    {
     "name": "stdout",
     "output_type": "stream",
     "text": [
      "Evaluating... \n"
     ]
    },
    {
     "name": "stderr",
     "output_type": "stream",
     "text": [
      "/home/kirchheim/anaconda3/envs/myenv/lib/python3.8/site-packages/torchmetrics/utilities/prints.py:36: UserWarning: Metric `AUROC` will save all targets and predictions in buffer. For large datasets this may lead to large memory footprint.\n",
      "  warnings.warn(*args, **kwargs)\n",
      "/home/kirchheim/anaconda3/envs/myenv/lib/python3.8/site-packages/torchmetrics/utilities/prints.py:36: UserWarning: Metric `PrecisionRecallCurve` will save all targets and predictions in buffer. For large datasets this may lead to large memory footprint.\n",
      "  warnings.warn(*args, **kwargs)\n",
      "/home/kirchheim/anaconda3/envs/myenv/lib/python3.8/site-packages/torchmetrics/utilities/prints.py:36: UserWarning: `pos_label` automatically set 1.\n",
      "  warnings.warn(*args, **kwargs)\n",
      "/home/kirchheim/anaconda3/envs/myenv/lib/python3.8/site-packages/torchmetrics/functional/classification/precision_recall_curve.py:156: UserWarning: To copy construct from a tensor, it is recommended to use sourceTensor.clone().detach() or sourceTensor.clone().detach().requires_grad_(True), rather than torch.tensor(sourceTensor).\n",
      "  thresholds = tensor(reversed(thresholds[sl]))\n"
     ]
    },
    {
     "name": "stdout",
     "output_type": "stream",
     "text": [
      "AUROC 999 -> 89.106%\n"
     ]
    }
   ],
   "source": [
    "metrics = train(2.0)"
   ]
  },
  {
   "cell_type": "code",
   "execution_count": 36,
   "metadata": {},
   "outputs": [
    {
     "name": "stdout",
     "output_type": "stream",
     "text": [
      "\\begin{tabular}{lrrrrrr}\n",
      "\\toprule\n",
      "{} &  AUROC &  AUPR-IN &  AUPR-OUT &  ACC95TPR &  FPR95TPR &  Iteration \\\\\n",
      "Method  &        &          &           &           &           &            \\\\\n",
      "\\midrule\n",
      "Energy  &  90.35 &    62.10 &     96.77 &     67.99 &     39.16 &   99900.00 \\\\\n",
      "Softmax &  85.68 &    53.60 &     95.35 &     54.24 &     55.29 &   99900.00 \\\\\n",
      "\\bottomrule\n",
      "\\end{tabular}\n",
      "\n"
     ]
    }
   ],
   "source": [
    "df = pd.DataFrame(metrics)\n",
    "# df = df[df[\"Variance\"] == 2.0]\n",
    "# df[\"Method\"] = \"MPS\"\n",
    "print((df.groupby(\"Method\").mean() * 100).to_latex(float_format=\"%.2f\"))"
   ]
  },
  {
   "cell_type": "code",
   "execution_count": 6,
   "metadata": {},
   "outputs": [
    {
     "data": {
      "application/vnd.jupyter.widget-view+json": {
       "model_id": "d88b03f6401d4cfda0b98c9c1f5e1cb7",
       "version_major": 2,
       "version_minor": 0
      },
      "text/plain": [
       "  0%|          | 0/100 [00:00<?, ?it/s]"
      ]
     },
     "metadata": {},
     "output_type": "display_data"
    },
    {
     "name": "stdout",
     "output_type": "stream",
     "text": [
      "Evaluating... \n",
      "AUROC 99 -> 85.724%\n",
      "[{'AUROC': 0.8549557328224182, 'AUPR-IN': 0.5011280179023743, 'AUPR-OUT': 0.9733227491378784, 'ACC95TPR': 0.5501000285148621, 'FPR95TPR': 0.5097000002861023, 'Dataset': 'ImageNetA', 'Iteration': 99, 'Method': 'Softmax'}, {'AUROC': 0.89626145362854, 'AUPR-IN': 0.551554799079895, 'AUPR-OUT': 0.9815916419029236, 'ACC95TPR': 0.6658373475074768, 'FPR95TPR': 0.37665998935699463, 'Dataset': 'ImageNetA', 'Iteration': 99, 'Method': 'Energy'}, {'AUROC': 0.8300771713256836, 'AUPR-IN': 0.30460208654403687, 'AUPR-OUT': 0.9907640814781189, 'ACC95TPR': 0.4068653881549835, 'FPR95TPR': 0.6148599982261658, 'Dataset': 'ImageNetO', 'Iteration': 99, 'Method': 'Softmax'}, {'AUROC': 0.914482593536377, 'AUPR-IN': 0.5187401175498962, 'AUPR-OUT': 0.9955224990844727, 'ACC95TPR': 0.612500011920929, 'FPR95TPR': 0.4009999930858612, 'Dataset': 'ImageNetO', 'Iteration': 99, 'Method': 'Energy'}, {'AUROC': 0.7990084886550903, 'AUPR-IN': 0.7307175993919373, 'AUPR-OUT': 0.8556296825408936, 'ACC95TPR': 0.5452874898910522, 'FPR95TPR': 0.6975399851799011, 'Dataset': 'ImageNetR', 'Iteration': 99, 'Method': 'Softmax'}, {'AUROC': 0.8572423458099365, 'AUPR-IN': 0.8016011118888855, 'AUPR-OUT': 0.8955172300338745, 'ACC95TPR': 0.6085249781608582, 'FPR95TPR': 0.5963600277900696, 'Dataset': 'ImageNetR', 'Iteration': 99, 'Method': 'Energy'}]\n"
     ]
    },
    {
     "data": {
      "application/vnd.jupyter.widget-view+json": {
       "model_id": "4ae61a56155a4641a7c7f5d278187bf8",
       "version_major": 2,
       "version_minor": 0
      },
      "text/plain": [
       "  0%|          | 0/100 [00:00<?, ?it/s]"
      ]
     },
     "metadata": {},
     "output_type": "display_data"
    },
    {
     "name": "stdout",
     "output_type": "stream",
     "text": [
      "Evaluating... \n",
      "AUROC 99 -> 86.065%\n",
      "[{'AUROC': 0.8584320545196533, 'AUPR-IN': 0.5092251896858215, 'AUPR-OUT': 0.9740358591079712, 'ACC95TPR': 0.5577381253242493, 'FPR95TPR': 0.5009199976921082, 'Dataset': 'ImageNetA', 'Iteration': 99, 'Method': 'Softmax'}, {'AUROC': 0.8976821899414062, 'AUPR-IN': 0.5520417094230652, 'AUPR-OUT': 0.9819735288619995, 'ACC95TPR': 0.6722400784492493, 'FPR95TPR': 0.3693000078201294, 'Dataset': 'ImageNetA', 'Iteration': 99, 'Method': 'Energy'}, {'AUROC': 0.83307284116745, 'AUPR-IN': 0.30684834718704224, 'AUPR-OUT': 0.9909559488296509, 'ACC95TPR': 0.4075576961040497, 'FPR95TPR': 0.614139974117279, 'Dataset': 'ImageNetO', 'Iteration': 99, 'Method': 'Softmax'}, {'AUROC': 0.9168974161148071, 'AUPR-IN': 0.5234997272491455, 'AUPR-OUT': 0.9956931471824646, 'ACC95TPR': 0.6190000176429749, 'FPR95TPR': 0.39423999190330505, 'Dataset': 'ImageNetO', 'Iteration': 99, 'Method': 'Energy'}, {'AUROC': 0.8032436370849609, 'AUPR-IN': 0.7372796535491943, 'AUPR-OUT': 0.8585947751998901, 'ACC95TPR': 0.5485374927520752, 'FPR95TPR': 0.6923400163650513, 'Dataset': 'ImageNetR', 'Iteration': 99, 'Method': 'Softmax'}, {'AUROC': 0.8606493473052979, 'AUPR-IN': 0.8074601888656616, 'AUPR-OUT': 0.8984131813049316, 'ACC95TPR': 0.6151124835014343, 'FPR95TPR': 0.5858200192451477, 'Dataset': 'ImageNetR', 'Iteration': 99, 'Method': 'Energy'}]\n"
     ]
    },
    {
     "data": {
      "application/vnd.jupyter.widget-view+json": {
       "model_id": "f8de74026aad4376ba5eae3641e3b82c",
       "version_major": 2,
       "version_minor": 0
      },
      "text/plain": [
       "  0%|          | 0/100 [00:00<?, ?it/s]"
      ]
     },
     "metadata": {},
     "output_type": "display_data"
    },
    {
     "name": "stdout",
     "output_type": "stream",
     "text": [
      "Evaluating... \n",
      "AUROC 99 -> 86.856%\n",
      "[{'AUROC': 0.8648132681846619, 'AUPR-IN': 0.5225027799606323, 'AUPR-OUT': 0.9753068089485168, 'ACC95TPR': 0.5696911811828613, 'FPR95TPR': 0.4871799945831299, 'Dataset': 'ImageNetA', 'Iteration': 99, 'Method': 'Softmax'}, {'AUROC': 0.9003571271896362, 'AUPR-IN': 0.5556070804595947, 'AUPR-OUT': 0.9826620221138, 'ACC95TPR': 0.6863853931427002, 'FPR95TPR': 0.35304000973701477, 'Dataset': 'ImageNetA', 'Iteration': 99, 'Method': 'Energy'}, {'AUROC': 0.8350672721862793, 'AUPR-IN': 0.2977432310581207, 'AUPR-OUT': 0.9911048412322998, 'ACC95TPR': 0.41653844714164734, 'FPR95TPR': 0.6047999858856201, 'Dataset': 'ImageNetO', 'Iteration': 99, 'Method': 'Softmax'}, {'AUROC': 0.9184238314628601, 'AUPR-IN': 0.5184578895568848, 'AUPR-OUT': 0.9958339929580688, 'ACC95TPR': 0.6191923022270203, 'FPR95TPR': 0.39403998851776123, 'Dataset': 'ImageNetO', 'Iteration': 99, 'Method': 'Energy'}, {'AUROC': 0.8130560517311096, 'AUPR-IN': 0.7511273622512817, 'AUPR-OUT': 0.8654782772064209, 'ACC95TPR': 0.5610125064849854, 'FPR95TPR': 0.6723799705505371, 'Dataset': 'ImageNetR', 'Iteration': 99, 'Method': 'Softmax'}, {'AUROC': 0.8685559034347534, 'AUPR-IN': 0.8191600441932678, 'AUPR-OUT': 0.9050354957580566, 'ACC95TPR': 0.6315125226974487, 'FPR95TPR': 0.5595800280570984, 'Dataset': 'ImageNetR', 'Iteration': 99, 'Method': 'Energy'}]\n"
     ]
    },
    {
     "data": {
      "application/vnd.jupyter.widget-view+json": {
       "model_id": "a6c77f90fe2a47bebe69849ea1e4adad",
       "version_major": 2,
       "version_minor": 0
      },
      "text/plain": [
       "  0%|          | 0/100 [00:00<?, ?it/s]"
      ]
     },
     "metadata": {},
     "output_type": "display_data"
    },
    {
     "name": "stdout",
     "output_type": "stream",
     "text": [
      "Evaluating... \n",
      "AUROC 99 -> 88.538%\n",
      "[{'AUROC': 0.8776921033859253, 'AUPR-IN': 0.5390326976776123, 'AUPR-OUT': 0.9779415726661682, 'ACC95TPR': 0.5920661091804504, 'FPR95TPR': 0.4614599943161011, 'Dataset': 'ImageNetA', 'Iteration': 99, 'Method': 'Softmax'}, {'AUROC': 0.9022055864334106, 'AUPR-IN': 0.5493008494377136, 'AUPR-OUT': 0.9834966063499451, 'ACC95TPR': 0.7066376805305481, 'FPR95TPR': 0.32975998520851135, 'Dataset': 'ImageNetA', 'Iteration': 99, 'Method': 'Energy'}, {'AUROC': 0.8359349966049194, 'AUPR-IN': 0.2502119541168213, 'AUPR-OUT': 0.9912350177764893, 'ACC95TPR': 0.4243461489677429, 'FPR95TPR': 0.5966799855232239, 'Dataset': 'ImageNetO', 'Iteration': 99, 'Method': 'Softmax'}, {'AUROC': 0.9152414798736572, 'AUPR-IN': 0.463082492351532, 'AUPR-OUT': 0.9957894086837769, 'ACC95TPR': 0.655096173286438, 'FPR95TPR': 0.35670000314712524, 'Dataset': 'ImageNetO', 'Iteration': 99, 'Method': 'Energy'}, {'AUROC': 0.8387573957443237, 'AUPR-IN': 0.7847355604171753, 'AUPR-OUT': 0.8842461109161377, 'ACC95TPR': 0.5866624712944031, 'FPR95TPR': 0.6313400268554688, 'Dataset': 'ImageNetR', 'Iteration': 99, 'Method': 'Softmax'}, {'AUROC': 0.8853753209114075, 'AUPR-IN': 0.8425549268722534, 'AUPR-OUT': 0.9192293882369995, 'ACC95TPR': 0.6636375188827515, 'FPR95TPR': 0.5081800222396851, 'Dataset': 'ImageNetR', 'Iteration': 99, 'Method': 'Energy'}]\n"
     ]
    },
    {
     "data": {
      "application/vnd.jupyter.widget-view+json": {
       "model_id": "c46a08cb786843ceb3ba0726127351d6",
       "version_major": 2,
       "version_minor": 0
      },
      "text/plain": [
       "  0%|          | 0/100 [00:00<?, ?it/s]"
      ]
     },
     "metadata": {},
     "output_type": "display_data"
    },
    {
     "name": "stdout",
     "output_type": "stream",
     "text": [
      "Evaluating... \n",
      "AUROC 99 -> 88.845%\n",
      "[{'AUROC': 0.8800475001335144, 'AUPR-IN': 0.5392556190490723, 'AUPR-OUT': 0.9784841537475586, 'ACC95TPR': 0.5965723991394043, 'FPR95TPR': 0.456279993057251, 'Dataset': 'ImageNetA', 'Iteration': 99, 'Method': 'Softmax'}, {'AUROC': 0.9006820917129517, 'AUPR-IN': 0.540584921836853, 'AUPR-OUT': 0.9833730459213257, 'ACC95TPR': 0.7070726156234741, 'FPR95TPR': 0.329259991645813, 'Dataset': 'ImageNetA', 'Iteration': 99, 'Method': 'Energy'}, {'AUROC': 0.8370836973190308, 'AUPR-IN': 0.240282341837883, 'AUPR-OUT': 0.991315484046936, 'ACC95TPR': 0.43140384554862976, 'FPR95TPR': 0.5893399715423584, 'Dataset': 'ImageNetO', 'Iteration': 99, 'Method': 'Softmax'}, {'AUROC': 0.9143682718276978, 'AUPR-IN': 0.44650864601135254, 'AUPR-OUT': 0.9957617521286011, 'ACC95TPR': 0.6512884497642517, 'FPR95TPR': 0.36065998673439026, 'Dataset': 'ImageNetO', 'Iteration': 99, 'Method': 'Energy'}, {'AUROC': 0.8446429967880249, 'AUPR-IN': 0.7927661538124084, 'AUPR-OUT': 0.8887811303138733, 'ACC95TPR': 0.5934749841690063, 'FPR95TPR': 0.6204400062561035, 'Dataset': 'ImageNetR', 'Iteration': 99, 'Method': 'Softmax'}, {'AUROC': 0.8884508013725281, 'AUPR-IN': 0.846937894821167, 'AUPR-OUT': 0.9220463037490845, 'ACC95TPR': 0.6683499813079834, 'FPR95TPR': 0.5006399750709534, 'Dataset': 'ImageNetR', 'Iteration': 99, 'Method': 'Energy'}]\n"
     ]
    },
    {
     "data": {
      "application/vnd.jupyter.widget-view+json": {
       "model_id": "22a82bfc144e4c1cbd0d1b4880623826",
       "version_major": 2,
       "version_minor": 0
      },
      "text/plain": [
       "  0%|          | 0/100 [00:00<?, ?it/s]"
      ]
     },
     "metadata": {},
     "output_type": "display_data"
    },
    {
     "name": "stdout",
     "output_type": "stream",
     "text": [
      "Evaluating... \n",
      "AUROC 99 -> 88.842%\n",
      "[{'AUROC': 0.8800886869430542, 'AUPR-IN': 0.5409218668937683, 'AUPR-OUT': 0.9784746766090393, 'ACC95TPR': 0.5956850647926331, 'FPR95TPR': 0.45730000734329224, 'Dataset': 'ImageNetA', 'Iteration': 99, 'Method': 'Softmax'}, {'AUROC': 0.9008774757385254, 'AUPR-IN': 0.5419211983680725, 'AUPR-OUT': 0.983375608921051, 'ACC95TPR': 0.7029839158058167, 'FPR95TPR': 0.33395999670028687, 'Dataset': 'ImageNetA', 'Iteration': 99, 'Method': 'Energy'}, {'AUROC': 0.8384467363357544, 'AUPR-IN': 0.2457425445318222, 'AUPR-OUT': 0.9913726449012756, 'ACC95TPR': 0.44142308831214905, 'FPR95TPR': 0.5789200067520142, 'Dataset': 'ImageNetO', 'Iteration': 99, 'Method': 'Softmax'}, {'AUROC': 0.9157702922821045, 'AUPR-IN': 0.4547658860683441, 'AUPR-OUT': 0.9958142042160034, 'ACC95TPR': 0.6617115139961243, 'FPR95TPR': 0.34981998801231384, 'Dataset': 'ImageNetO', 'Iteration': 99, 'Method': 'Energy'}, {'AUROC': 0.844355583190918, 'AUPR-IN': 0.7935352325439453, 'AUPR-OUT': 0.8884483575820923, 'ACC95TPR': 0.5921375155448914, 'FPR95TPR': 0.6225799918174744, 'Dataset': 'ImageNetR', 'Iteration': 99, 'Method': 'Softmax'}, {'AUROC': 0.8884163498878479, 'AUPR-IN': 0.8475001454353333, 'AUPR-OUT': 0.9219323396682739, 'ACC95TPR': 0.6683250069618225, 'FPR95TPR': 0.5006800293922424, 'Dataset': 'ImageNetR', 'Iteration': 99, 'Method': 'Energy'}]\n"
     ]
    },
    {
     "data": {
      "application/vnd.jupyter.widget-view+json": {
       "model_id": "92f058d6442d45eb9545bcef285ea9c7",
       "version_major": 2,
       "version_minor": 0
      },
      "text/plain": [
       "  0%|          | 0/100 [00:00<?, ?it/s]"
      ]
     },
     "metadata": {},
     "output_type": "display_data"
    },
    {
     "name": "stdout",
     "output_type": "stream",
     "text": [
      "Evaluating... \n",
      "AUROC 99 -> 88.974%\n",
      "[{'AUROC': 0.8806209564208984, 'AUPR-IN': 0.5417772531509399, 'AUPR-OUT': 0.9785786867141724, 'ACC95TPR': 0.5971291661262512, 'FPR95TPR': 0.4556399881839752, 'Dataset': 'ImageNetA', 'Iteration': 99, 'Method': 'Softmax'}, {'AUROC': 0.9004120230674744, 'AUPR-IN': 0.5397694110870361, 'AUPR-OUT': 0.9833161234855652, 'ACC95TPR': 0.7049151659011841, 'FPR95TPR': 0.33173999190330505, 'Dataset': 'ImageNetA', 'Iteration': 99, 'Method': 'Energy'}, {'AUROC': 0.839525580406189, 'AUPR-IN': 0.24675607681274414, 'AUPR-OUT': 0.9914252758026123, 'ACC95TPR': 0.4376923143863678, 'FPR95TPR': 0.5827999711036682, 'Dataset': 'ImageNetO', 'Iteration': 99, 'Method': 'Softmax'}, {'AUROC': 0.9160491824150085, 'AUPR-IN': 0.45355385541915894, 'AUPR-OUT': 0.9958236813545227, 'ACC95TPR': 0.6590384840965271, 'FPR95TPR': 0.35260000824928284, 'Dataset': 'ImageNetO', 'Iteration': 99, 'Method': 'Energy'}, {'AUROC': 0.8463866114616394, 'AUPR-IN': 0.7969493269920349, 'AUPR-OUT': 0.8899459838867188, 'ACC95TPR': 0.5946375131607056, 'FPR95TPR': 0.6185799837112427, 'Dataset': 'ImageNetR', 'Iteration': 99, 'Method': 'Softmax'}, {'AUROC': 0.8897412419319153, 'AUPR-IN': 0.849495530128479, 'AUPR-OUT': 0.9230333566665649, 'ACC95TPR': 0.6691874861717224, 'FPR95TPR': 0.4993000030517578, 'Dataset': 'ImageNetR', 'Iteration': 99, 'Method': 'Energy'}]\n"
     ]
    },
    {
     "data": {
      "application/vnd.jupyter.widget-view+json": {
       "model_id": "804698c347384c52b9d1b82380ae998b",
       "version_major": 2,
       "version_minor": 0
      },
      "text/plain": [
       "  0%|          | 0/100 [00:00<?, ?it/s]"
      ]
     },
     "metadata": {},
     "output_type": "display_data"
    },
    {
     "name": "stdout",
     "output_type": "stream",
     "text": [
      "Evaluating... \n",
      "AUROC 99 -> 88.933%\n",
      "[{'AUROC': 0.880304217338562, 'AUPR-IN': 0.5439414978027344, 'AUPR-OUT': 0.9784905910491943, 'ACC95TPR': 0.5957720875740051, 'FPR95TPR': 0.45719999074935913, 'Dataset': 'ImageNetA', 'Iteration': 99, 'Method': 'Softmax'}, {'AUROC': 0.9010281562805176, 'AUPR-IN': 0.5439707636833191, 'AUPR-OUT': 0.983361542224884, 'ACC95TPR': 0.7006176710128784, 'FPR95TPR': 0.33667999505996704, 'Dataset': 'ImageNetA', 'Iteration': 99, 'Method': 'Energy'}, {'AUROC': 0.8408435583114624, 'AUPR-IN': 0.2538803517818451, 'AUPR-OUT': 0.9914875030517578, 'ACC95TPR': 0.4391730725765228, 'FPR95TPR': 0.5812600255012512, 'Dataset': 'ImageNetO', 'Iteration': 99, 'Method': 'Softmax'}, {'AUROC': 0.9175332188606262, 'AUPR-IN': 0.46419116854667664, 'AUPR-OUT': 0.9958847165107727, 'ACC95TPR': 0.6530384421348572, 'FPR95TPR': 0.3588399887084961, 'Dataset': 'ImageNetO', 'Iteration': 99, 'Method': 'Energy'}, {'AUROC': 0.8452218770980835, 'AUPR-IN': 0.7962118983268738, 'AUPR-OUT': 0.889009952545166, 'ACC95TPR': 0.5940999984741211, 'FPR95TPR': 0.6194400191307068, 'Dataset': 'ImageNetR', 'Iteration': 99, 'Method': 'Softmax'}, {'AUROC': 0.8893251419067383, 'AUPR-IN': 0.8492816686630249, 'AUPR-OUT': 0.9225716590881348, 'ACC95TPR': 0.6704624891281128, 'FPR95TPR': 0.4972600042819977, 'Dataset': 'ImageNetR', 'Iteration': 99, 'Method': 'Energy'}]\n"
     ]
    },
    {
     "data": {
      "application/vnd.jupyter.widget-view+json": {
       "model_id": "908da35abac841d699952d18157b49a5",
       "version_major": 2,
       "version_minor": 0
      },
      "text/plain": [
       "  0%|          | 0/100 [00:00<?, ?it/s]"
      ]
     },
     "metadata": {},
     "output_type": "display_data"
    },
    {
     "name": "stdout",
     "output_type": "stream",
     "text": [
      "Evaluating... \n",
      "AUROC 99 -> 89.013%\n",
      "[{'AUROC': 0.8804917335510254, 'AUPR-IN': 0.5448309779167175, 'AUPR-OUT': 0.9785182476043701, 'ACC95TPR': 0.5959112644195557, 'FPR95TPR': 0.457040011882782, 'Dataset': 'ImageNetA', 'Iteration': 99, 'Method': 'Softmax'}, {'AUROC': 0.9008492231369019, 'AUPR-IN': 0.5442379117012024, 'AUPR-OUT': 0.9833254814147949, 'ACC95TPR': 0.7011744379997253, 'FPR95TPR': 0.3360399901866913, 'Dataset': 'ImageNetA', 'Iteration': 99, 'Method': 'Energy'}, {'AUROC': 0.841846227645874, 'AUPR-IN': 0.2572593688964844, 'AUPR-OUT': 0.9915335178375244, 'ACC95TPR': 0.43876922130584717, 'FPR95TPR': 0.5816799998283386, 'Dataset': 'ImageNetO', 'Iteration': 99, 'Method': 'Softmax'}, {'AUROC': 0.9179898500442505, 'AUPR-IN': 0.4660857617855072, 'AUPR-OUT': 0.9959009885787964, 'ACC95TPR': 0.6609615087509155, 'FPR95TPR': 0.350600004196167, 'Dataset': 'ImageNetO', 'Iteration': 99, 'Method': 'Energy'}, {'AUROC': 0.8462478518486023, 'AUPR-IN': 0.7981045842170715, 'AUPR-OUT': 0.8897367715835571, 'ACC95TPR': 0.5945249795913696, 'FPR95TPR': 0.6187599897384644, 'Dataset': 'ImageNetR', 'Iteration': 99, 'Method': 'Softmax'}, {'AUROC': 0.8901275992393494, 'AUPR-IN': 0.8505668640136719, 'AUPR-OUT': 0.9231829643249512, 'ACC95TPR': 0.6716625094413757, 'FPR95TPR': 0.4953399896621704, 'Dataset': 'ImageNetR', 'Iteration': 99, 'Method': 'Energy'}]\n"
     ]
    },
    {
     "data": {
      "application/vnd.jupyter.widget-view+json": {
       "model_id": "3d94ac8fc12a43c989ee486d9f6659f5",
       "version_major": 2,
       "version_minor": 0
      },
      "text/plain": [
       "  0%|          | 0/100 [00:00<?, ?it/s]"
      ]
     },
     "metadata": {},
     "output_type": "display_data"
    },
    {
     "name": "stdout",
     "output_type": "stream",
     "text": [
      "Evaluating... \n",
      "AUROC 99 -> 89.109%\n",
      "[{'AUROC': 0.8807674050331116, 'AUPR-IN': 0.5456359386444092, 'AUPR-OUT': 0.978567361831665, 'ACC95TPR': 0.5981557369232178, 'FPR95TPR': 0.4544599950313568, 'Dataset': 'ImageNetA', 'Iteration': 99, 'Method': 'Softmax'}, {'AUROC': 0.9004227519035339, 'AUPR-IN': 0.5426433086395264, 'AUPR-OUT': 0.9832576513290405, 'ACC95TPR': 0.7000260949134827, 'FPR95TPR': 0.3373599946498871, 'Dataset': 'ImageNetA', 'Iteration': 99, 'Method': 'Energy'}, {'AUROC': 0.8426735401153564, 'AUPR-IN': 0.25854676961898804, 'AUPR-OUT': 0.9915732145309448, 'ACC95TPR': 0.4347115457057953, 'FPR95TPR': 0.5859000086784363, 'Dataset': 'ImageNetO', 'Iteration': 99, 'Method': 'Softmax'}, {'AUROC': 0.9182308912277222, 'AUPR-IN': 0.46492433547973633, 'AUPR-OUT': 0.9959070682525635, 'ACC95TPR': 0.6635577082633972, 'FPR95TPR': 0.34790000319480896, 'Dataset': 'ImageNetO', 'Iteration': 99, 'Method': 'Energy'}, {'AUROC': 0.8477500081062317, 'AUPR-IN': 0.8004887700080872, 'AUPR-OUT': 0.8908641934394836, 'ACC95TPR': 0.596137523651123, 'FPR95TPR': 0.6161800026893616, 'Dataset': 'ImageNetR', 'Iteration': 99, 'Method': 'Softmax'}, {'AUROC': 0.891086995601654, 'AUPR-IN': 0.8518325686454773, 'AUPR-OUT': 0.9239793419837952, 'ACC95TPR': 0.6731500029563904, 'FPR95TPR': 0.49296000599861145, 'Dataset': 'ImageNetR', 'Iteration': 99, 'Method': 'Energy'}]\n"
     ]
    },
    {
     "data": {
      "application/vnd.jupyter.widget-view+json": {
       "model_id": "96c388b3dd4d4806a339670eb32b1545",
       "version_major": 2,
       "version_minor": 0
      },
      "text/plain": [
       "  0%|          | 0/100 [00:00<?, ?it/s]"
      ]
     },
     "metadata": {},
     "output_type": "display_data"
    },
    {
     "name": "stdout",
     "output_type": "stream",
     "text": [
      "Evaluating... \n",
      "AUROC 99 -> 89.060%\n",
      "[{'AUROC': 0.8803032636642456, 'AUPR-IN': 0.546554446220398, 'AUPR-OUT': 0.9784643054008484, 'ACC95TPR': 0.5948847532272339, 'FPR95TPR': 0.4582200050354004, 'Dataset': 'ImageNetA', 'Iteration': 99, 'Method': 'Softmax'}, {'AUROC': 0.9003738164901733, 'AUPR-IN': 0.5437584519386292, 'AUPR-OUT': 0.9832057356834412, 'ACC95TPR': 0.7017486095428467, 'FPR95TPR': 0.3353799879550934, 'Dataset': 'ImageNetA', 'Iteration': 99, 'Method': 'Energy'}, {'AUROC': 0.8440250754356384, 'AUPR-IN': 0.26460957527160645, 'AUPR-OUT': 0.9916560053825378, 'ACC95TPR': 0.4316730797290802, 'FPR95TPR': 0.5890600085258484, 'Dataset': 'ImageNetO', 'Iteration': 99, 'Method': 'Softmax'}, {'AUROC': 0.9194319248199463, 'AUPR-IN': 0.47062939405441284, 'AUPR-OUT': 0.9959666728973389, 'ACC95TPR': 0.6636154055595398, 'FPR95TPR': 0.34784001111984253, 'Dataset': 'ImageNetO', 'Iteration': 99, 'Method': 'Energy'}, {'AUROC': 0.8467569351196289, 'AUPR-IN': 0.7996893525123596, 'AUPR-OUT': 0.8900883197784424, 'ACC95TPR': 0.5956375002861023, 'FPR95TPR': 0.6169800162315369, 'Dataset': 'ImageNetR', 'Iteration': 99, 'Method': 'Softmax'}, {'AUROC': 0.8905965089797974, 'AUPR-IN': 0.85130774974823, 'AUPR-OUT': 0.9235351085662842, 'ACC95TPR': 0.6741750240325928, 'FPR95TPR': 0.49132001399993896, 'Dataset': 'ImageNetR', 'Iteration': 99, 'Method': 'Energy'}]\n"
     ]
    },
    {
     "data": {
      "application/vnd.jupyter.widget-view+json": {
       "model_id": "ec49deb33dd44b38ae02ee8099b54334",
       "version_major": 2,
       "version_minor": 0
      },
      "text/plain": [
       "  0%|          | 0/100 [00:00<?, ?it/s]"
      ]
     },
     "metadata": {},
     "output_type": "display_data"
    },
    {
     "name": "stdout",
     "output_type": "stream",
     "text": [
      "Evaluating... \n",
      "AUROC 99 -> 89.106%\n",
      "[{'AUROC': 0.8800691366195679, 'AUPR-IN': 0.5470024943351746, 'AUPR-OUT': 0.9784209132194519, 'ACC95TPR': 0.6024010181427002, 'FPR95TPR': 0.44958001375198364, 'Dataset': 'ImageNetA', 'Iteration': 99, 'Method': 'Softmax'}, {'AUROC': 0.9000380039215088, 'AUPR-IN': 0.5434185862541199, 'AUPR-OUT': 0.9831289649009705, 'ACC95TPR': 0.6972770690917969, 'FPR95TPR': 0.3405199944972992, 'Dataset': 'ImageNetA', 'Iteration': 99, 'Method': 'Energy'}, {'AUROC': 0.845200777053833, 'AUPR-IN': 0.2683603763580322, 'AUPR-OUT': 0.9917206168174744, 'ACC95TPR': 0.4365769326686859, 'FPR95TPR': 0.5839599967002869, 'Dataset': 'ImageNetO', 'Iteration': 99, 'Method': 'Softmax'}, {'AUROC': 0.9200836420059204, 'AUPR-IN': 0.47299322485923767, 'AUPR-OUT': 0.9959932565689087, 'ACC95TPR': 0.6645192503929138, 'FPR95TPR': 0.34689998626708984, 'Dataset': 'ImageNetO', 'Iteration': 99, 'Method': 'Energy'}, {'AUROC': 0.847152054309845, 'AUPR-IN': 0.8005456924438477, 'AUPR-OUT': 0.8904210925102234, 'ACC95TPR': 0.5965625047683716, 'FPR95TPR': 0.6154999732971191, 'Dataset': 'ImageNetR', 'Iteration': 99, 'Method': 'Softmax'}, {'AUROC': 0.8910609483718872, 'AUPR-IN': 0.8520060777664185, 'AUPR-OUT': 0.9238772392272949, 'ACC95TPR': 0.6752874851226807, 'FPR95TPR': 0.4895400106906891, 'Dataset': 'ImageNetR', 'Iteration': 99, 'Method': 'Energy'}]\n"
     ]
    },
    {
     "data": {
      "application/vnd.jupyter.widget-view+json": {
       "model_id": "a0e866322ef3498296eccbfbc79de183",
       "version_major": 2,
       "version_minor": 0
      },
      "text/plain": [
       "  0%|          | 0/100 [00:00<?, ?it/s]"
      ]
     },
     "metadata": {},
     "output_type": "display_data"
    },
    {
     "name": "stdout",
     "output_type": "stream",
     "text": [
      "Evaluating... \n",
      "AUROC 99 -> 89.130%\n",
      "[{'AUROC': 0.8794347047805786, 'AUPR-IN': 0.5465433597564697, 'AUPR-OUT': 0.978293776512146, 'ACC95TPR': 0.6002609729766846, 'FPR95TPR': 0.4520399868488312, 'Dataset': 'ImageNetA', 'Iteration': 99, 'Method': 'Softmax'}, {'AUROC': 0.8992354869842529, 'AUPR-IN': 0.5412511229515076, 'AUPR-OUT': 0.982952356338501, 'ACC95TPR': 0.6927533745765686, 'FPR95TPR': 0.34571999311447144, 'Dataset': 'ImageNetA', 'Iteration': 99, 'Method': 'Energy'}, {'AUROC': 0.8462982177734375, 'AUPR-IN': 0.2730332314968109, 'AUPR-OUT': 0.9917774200439453, 'ACC95TPR': 0.4439423084259033, 'FPR95TPR': 0.5763000249862671, 'Dataset': 'ImageNetO', 'Iteration': 99, 'Method': 'Softmax'}, {'AUROC': 0.9208483099937439, 'AUPR-IN': 0.4761631488800049, 'AUPR-OUT': 0.9960203170776367, 'ACC95TPR': 0.6575192213058472, 'FPR95TPR': 0.3541800081729889, 'Dataset': 'ImageNetO', 'Iteration': 99, 'Method': 'Energy'}, {'AUROC': 0.8470031023025513, 'AUPR-IN': 0.8009544014930725, 'AUPR-OUT': 0.8901911973953247, 'ACC95TPR': 0.5944125056266785, 'FPR95TPR': 0.618939995765686, 'Dataset': 'ImageNetR', 'Iteration': 99, 'Method': 'Softmax'}, {'AUROC': 0.8913030028343201, 'AUPR-IN': 0.8524847626686096, 'AUPR-OUT': 0.9239221811294556, 'ACC95TPR': 0.6770625114440918, 'FPR95TPR': 0.48669999837875366, 'Dataset': 'ImageNetR', 'Iteration': 99, 'Method': 'Energy'}]\n"
     ]
    },
    {
     "data": {
      "application/vnd.jupyter.widget-view+json": {
       "model_id": "500c34c1d15745feb742f7d4bb47bffd",
       "version_major": 2,
       "version_minor": 0
      },
      "text/plain": [
       "  0%|          | 0/100 [00:00<?, ?it/s]"
      ]
     },
     "metadata": {},
     "output_type": "display_data"
    },
    {
     "name": "stdout",
     "output_type": "stream",
     "text": [
      "Evaluating... \n",
      "AUROC 99 -> 89.176%\n",
      "[{'AUROC': 0.8795067071914673, 'AUPR-IN': 0.5480359792709351, 'AUPR-OUT': 0.9782940149307251, 'ACC95TPR': 0.5992170572280884, 'FPR95TPR': 0.4532400071620941, 'Dataset': 'ImageNetA', 'Iteration': 99, 'Method': 'Softmax'}, {'AUROC': 0.8992211818695068, 'AUPR-IN': 0.5426047444343567, 'AUPR-OUT': 0.9829419255256653, 'ACC95TPR': 0.6918312311172485, 'FPR95TPR': 0.346780002117157, 'Dataset': 'ImageNetA', 'Iteration': 99, 'Method': 'Energy'}, {'AUROC': 0.8472269177436829, 'AUPR-IN': 0.2754238545894623, 'AUPR-OUT': 0.9918295741081238, 'ACC95TPR': 0.44119229912757874, 'FPR95TPR': 0.5791599750518799, 'Dataset': 'ImageNetO', 'Iteration': 99, 'Method': 'Softmax'}, {'AUROC': 0.9212720394134521, 'AUPR-IN': 0.4767622649669647, 'AUPR-OUT': 0.9960421323776245, 'ACC95TPR': 0.657730758190155, 'FPR95TPR': 0.3539600074291229, 'Dataset': 'ImageNetO', 'Iteration': 99, 'Method': 'Energy'}, {'AUROC': 0.8476837873458862, 'AUPR-IN': 0.8021396398544312, 'AUPR-OUT': 0.8906416893005371, 'ACC95TPR': 0.5958499908447266, 'FPR95TPR': 0.6166399717330933, 'Dataset': 'ImageNetR', 'Iteration': 99, 'Method': 'Softmax'}, {'AUROC': 0.8917557001113892, 'AUPR-IN': 0.8531897068023682, 'AUPR-OUT': 0.9242169857025146, 'ACC95TPR': 0.6771000027656555, 'FPR95TPR': 0.48664000630378723, 'Dataset': 'ImageNetR', 'Iteration': 99, 'Method': 'Energy'}]\n"
     ]
    },
    {
     "data": {
      "application/vnd.jupyter.widget-view+json": {
       "model_id": "b7c6c3b45a724b43909dfb828c89315a",
       "version_major": 2,
       "version_minor": 0
      },
      "text/plain": [
       "  0%|          | 0/100 [00:00<?, ?it/s]"
      ]
     },
     "metadata": {},
     "output_type": "display_data"
    },
    {
     "name": "stdout",
     "output_type": "stream",
     "text": [
      "Evaluating... \n",
      "AUROC 99 -> 89.114%\n",
      "[{'AUROC': 0.8786927461624146, 'AUPR-IN': 0.547706663608551, 'AUPR-OUT': 0.978130578994751, 'ACC95TPR': 0.5975293517112732, 'FPR95TPR': 0.45517998933792114, 'Dataset': 'ImageNetA', 'Iteration': 99, 'Method': 'Softmax'}, {'AUROC': 0.8989191055297852, 'AUPR-IN': 0.5430038571357727, 'AUPR-OUT': 0.9828566312789917, 'ACC95TPR': 0.6897781491279602, 'FPR95TPR': 0.3491399884223938, 'Dataset': 'ImageNetA', 'Iteration': 99, 'Method': 'Energy'}, {'AUROC': 0.848025918006897, 'AUPR-IN': 0.2802947461605072, 'AUPR-OUT': 0.9918687343597412, 'ACC95TPR': 0.4394230842590332, 'FPR95TPR': 0.5809999704360962, 'Dataset': 'ImageNetO', 'Iteration': 99, 'Method': 'Softmax'}, {'AUROC': 0.9219504594802856, 'AUPR-IN': 0.48136430978775024, 'AUPR-OUT': 0.9960646033287048, 'ACC95TPR': 0.6553077101707458, 'FPR95TPR': 0.3564800024032593, 'Dataset': 'ImageNetO', 'Iteration': 99, 'Method': 'Energy'}, {'AUROC': 0.8466396331787109, 'AUPR-IN': 0.8011845350265503, 'AUPR-OUT': 0.8898186683654785, 'ACC95TPR': 0.5941625237464905, 'FPR95TPR': 0.6193400025367737, 'Dataset': 'ImageNetR', 'Iteration': 99, 'Method': 'Softmax'}, {'AUROC': 0.8911416530609131, 'AUPR-IN': 0.8525431752204895, 'AUPR-OUT': 0.9236438870429993, 'ACC95TPR': 0.6753374934196472, 'FPR95TPR': 0.4894599914550781, 'Dataset': 'ImageNetR', 'Iteration': 99, 'Method': 'Energy'}]\n"
     ]
    },
    {
     "data": {
      "application/vnd.jupyter.widget-view+json": {
       "model_id": "ece500619d704654a209a14a54407e53",
       "version_major": 2,
       "version_minor": 0
      },
      "text/plain": [
       "  0%|          | 0/100 [00:00<?, ?it/s]"
      ]
     },
     "metadata": {},
     "output_type": "display_data"
    },
    {
     "name": "stdout",
     "output_type": "stream",
     "text": [
      "Evaluating... \n",
      "AUROC 99 -> 89.111%\n",
      "[{'AUROC': 0.8781715631484985, 'AUPR-IN': 0.5465315580368042, 'AUPR-OUT': 0.9780192375183105, 'ACC95TPR': 0.5975815653800964, 'FPR95TPR': 0.4551199972629547, 'Dataset': 'ImageNetA', 'Iteration': 99, 'Method': 'Softmax'}, {'AUROC': 0.898484468460083, 'AUPR-IN': 0.5423520803451538, 'AUPR-OUT': 0.9827507734298706, 'ACC95TPR': 0.6888212561607361, 'FPR95TPR': 0.35023999214172363, 'Dataset': 'ImageNetA', 'Iteration': 99, 'Method': 'Energy'}, {'AUROC': 0.8488392233848572, 'AUPR-IN': 0.28317883610725403, 'AUPR-OUT': 0.991920530796051, 'ACC95TPR': 0.4374615252017975, 'FPR95TPR': 0.5830399990081787, 'Dataset': 'ImageNetO', 'Iteration': 99, 'Method': 'Softmax'}, {'AUROC': 0.9225320816040039, 'AUPR-IN': 0.4827365279197693, 'AUPR-OUT': 0.9960924386978149, 'ACC95TPR': 0.6622499823570251, 'FPR95TPR': 0.34926000237464905, 'Dataset': 'ImageNetO', 'Iteration': 99, 'Method': 'Energy'}, {'AUROC': 0.8464798331260681, 'AUPR-IN': 0.8012731075286865, 'AUPR-OUT': 0.8896365165710449, 'ACC95TPR': 0.5934125185012817, 'FPR95TPR': 0.6205400228500366, 'Dataset': 'ImageNetR', 'Iteration': 99, 'Method': 'Softmax'}, {'AUROC': 0.8911137580871582, 'AUPR-IN': 0.85265052318573, 'AUPR-OUT': 0.9235093593597412, 'ACC95TPR': 0.6749374866485596, 'FPR95TPR': 0.4900999963283539, 'Dataset': 'ImageNetR', 'Iteration': 99, 'Method': 'Energy'}]\n"
     ]
    },
    {
     "data": {
      "application/vnd.jupyter.widget-view+json": {
       "model_id": "41dca418562a4cf6a6cb69da5a7ecb25",
       "version_major": 2,
       "version_minor": 0
      },
      "text/plain": [
       "  0%|          | 0/100 [00:00<?, ?it/s]"
      ]
     },
     "metadata": {},
     "output_type": "display_data"
    },
    {
     "name": "stdout",
     "output_type": "stream",
     "text": [
      "Evaluating... \n",
      "AUROC 99 -> 89.066%\n",
      "[{'AUROC': 0.8779491186141968, 'AUPR-IN': 0.5472238659858704, 'AUPR-OUT': 0.9779475331306458, 'ACC95TPR': 0.5955632925033569, 'FPR95TPR': 0.45743998885154724, 'Dataset': 'ImageNetA', 'Iteration': 99, 'Method': 'Softmax'}, {'AUROC': 0.8983873724937439, 'AUPR-IN': 0.5438829660415649, 'AUPR-OUT': 0.982710063457489, 'ACC95TPR': 0.6902479529380798, 'FPR95TPR': 0.34860000014305115, 'Dataset': 'ImageNetA', 'Iteration': 99, 'Method': 'Energy'}, {'AUROC': 0.8493766784667969, 'AUPR-IN': 0.2847881615161896, 'AUPR-OUT': 0.9919601678848267, 'ACC95TPR': 0.43799999356269836, 'FPR95TPR': 0.5824800133705139, 'Dataset': 'ImageNetO', 'Iteration': 99, 'Method': 'Softmax'}, {'AUROC': 0.9228745698928833, 'AUPR-IN': 0.4837758541107178, 'AUPR-OUT': 0.9961168169975281, 'ACC95TPR': 0.6639423370361328, 'FPR95TPR': 0.3474999964237213, 'Dataset': 'ImageNetO', 'Iteration': 99, 'Method': 'Energy'}, {'AUROC': 0.8462256193161011, 'AUPR-IN': 0.8010331988334656, 'AUPR-OUT': 0.8893517851829529, 'ACC95TPR': 0.5934500098228455, 'FPR95TPR': 0.6204800009727478, 'Dataset': 'ImageNetR', 'Iteration': 99, 'Method': 'Softmax'}, {'AUROC': 0.8906607627868652, 'AUPR-IN': 0.8520479798316956, 'AUPR-OUT': 0.9231016635894775, 'ACC95TPR': 0.6738749742507935, 'FPR95TPR': 0.4918000102043152, 'Dataset': 'ImageNetR', 'Iteration': 99, 'Method': 'Energy'}]\n"
     ]
    },
    {
     "data": {
      "application/vnd.jupyter.widget-view+json": {
       "model_id": "435b6f2671744564a33cdd90ffa9edd5",
       "version_major": 2,
       "version_minor": 0
      },
      "text/plain": [
       "  0%|          | 0/100 [00:00<?, ?it/s]"
      ]
     },
     "metadata": {},
     "output_type": "display_data"
    },
    {
     "name": "stdout",
     "output_type": "stream",
     "text": [
      "Evaluating... \n",
      "AUROC 99 -> 89.148%\n",
      "[{'AUROC': 0.8782721757888794, 'AUPR-IN': 0.5475477576255798, 'AUPR-OUT': 0.9780260920524597, 'ACC95TPR': 0.5966246128082275, 'FPR95TPR': 0.45622000098228455, 'Dataset': 'ImageNetA', 'Iteration': 99, 'Method': 'Softmax'}, {'AUROC': 0.898273229598999, 'AUPR-IN': 0.5429127812385559, 'AUPR-OUT': 0.9827061891555786, 'ACC95TPR': 0.6892387866973877, 'FPR95TPR': 0.3497599959373474, 'Dataset': 'ImageNetA', 'Iteration': 99, 'Method': 'Energy'}, {'AUROC': 0.8501060605049133, 'AUPR-IN': 0.28414011001586914, 'AUPR-OUT': 0.9920033812522888, 'ACC95TPR': 0.4377307593822479, 'FPR95TPR': 0.5827599763870239, 'Dataset': 'ImageNetO', 'Iteration': 99, 'Method': 'Softmax'}, {'AUROC': 0.922859787940979, 'AUPR-IN': 0.47841423749923706, 'AUPR-OUT': 0.9961163401603699, 'ACC95TPR': 0.6632884740829468, 'FPR95TPR': 0.34817999601364136, 'Dataset': 'ImageNetO', 'Iteration': 99, 'Method': 'Energy'}, {'AUROC': 0.8476136326789856, 'AUPR-IN': 0.8030778169631958, 'AUPR-OUT': 0.8903481960296631, 'ACC95TPR': 0.5946750044822693, 'FPR95TPR': 0.6185200214385986, 'Dataset': 'ImageNetR', 'Iteration': 99, 'Method': 'Softmax'}, {'AUROC': 0.8914754390716553, 'AUPR-IN': 0.8531261086463928, 'AUPR-OUT': 0.9237074851989746, 'ACC95TPR': 0.675849974155426, 'FPR95TPR': 0.4886400103569031, 'Dataset': 'ImageNetR', 'Iteration': 99, 'Method': 'Energy'}]\n"
     ]
    },
    {
     "data": {
      "application/vnd.jupyter.widget-view+json": {
       "model_id": "894550fe29854d2caf873b6fbb80d79b",
       "version_major": 2,
       "version_minor": 0
      },
      "text/plain": [
       "  0%|          | 0/100 [00:00<?, ?it/s]"
      ]
     },
     "metadata": {},
     "output_type": "display_data"
    },
    {
     "name": "stdout",
     "output_type": "stream",
     "text": [
      "Evaluating... \n",
      "AUROC 99 -> 89.181%\n",
      "[{'AUROC': 0.8782665729522705, 'AUPR-IN': 0.547940731048584, 'AUPR-OUT': 0.9780102968215942, 'ACC95TPR': 0.5945541262626648, 'FPR95TPR': 0.4586000144481659, 'Dataset': 'ImageNetA', 'Iteration': 99, 'Method': 'Softmax'}, {'AUROC': 0.898117184638977, 'AUPR-IN': 0.5433395504951477, 'AUPR-OUT': 0.9826611876487732, 'ACC95TPR': 0.686333179473877, 'FPR95TPR': 0.3531000018119812, 'Dataset': 'ImageNetA', 'Iteration': 99, 'Method': 'Energy'}, {'AUROC': 0.8505652546882629, 'AUPR-IN': 0.28463810682296753, 'AUPR-OUT': 0.9920286536216736, 'ACC95TPR': 0.43978846073150635, 'FPR95TPR': 0.5806199908256531, 'Dataset': 'ImageNetO', 'Iteration': 99, 'Method': 'Softmax'}, {'AUROC': 0.9228695631027222, 'AUPR-IN': 0.4765337109565735, 'AUPR-OUT': 0.996116042137146, 'ACC95TPR': 0.6626923084259033, 'FPR95TPR': 0.34880000352859497, 'Dataset': 'ImageNetO', 'Iteration': 99, 'Method': 'Energy'}, {'AUROC': 0.8482120037078857, 'AUPR-IN': 0.8039688467979431, 'AUPR-OUT': 0.8907589912414551, 'ACC95TPR': 0.5953249931335449, 'FPR95TPR': 0.6174799799919128, 'Dataset': 'ImageNetR', 'Iteration': 99, 'Method': 'Softmax'}, {'AUROC': 0.891811728477478, 'AUPR-IN': 0.8535781502723694, 'AUPR-OUT': 0.9239222407341003, 'ACC95TPR': 0.67535001039505, 'FPR95TPR': 0.489439994096756, 'Dataset': 'ImageNetR', 'Iteration': 99, 'Method': 'Energy'}]\n"
     ]
    },
    {
     "data": {
      "application/vnd.jupyter.widget-view+json": {
       "model_id": "b7931877c74745c68b15c63d0e180e34",
       "version_major": 2,
       "version_minor": 0
      },
      "text/plain": [
       "  0%|          | 0/100 [00:00<?, ?it/s]"
      ]
     },
     "metadata": {},
     "output_type": "display_data"
    },
    {
     "name": "stdout",
     "output_type": "stream",
     "text": [
      "Evaluating... \n",
      "AUROC 99 -> 89.189%\n",
      "[{'AUROC': 0.8778544664382935, 'AUPR-IN': 0.5467808842658997, 'AUPR-OUT': 0.977924644947052, 'ACC95TPR': 0.5936667919158936, 'FPR95TPR': 0.45961999893188477, 'Dataset': 'ImageNetA', 'Iteration': 99, 'Method': 'Softmax'}, {'AUROC': 0.8976799249649048, 'AUPR-IN': 0.5422875881195068, 'AUPR-OUT': 0.9825575351715088, 'ACC95TPR': 0.6868377327919006, 'FPR95TPR': 0.3525199890136719, 'Dataset': 'ImageNetA', 'Iteration': 99, 'Method': 'Energy'}, {'AUROC': 0.850874662399292, 'AUPR-IN': 0.2844182848930359, 'AUPR-OUT': 0.992046594619751, 'ACC95TPR': 0.4419230818748474, 'FPR95TPR': 0.5784000158309937, 'Dataset': 'ImageNetO', 'Iteration': 99, 'Method': 'Softmax'}, {'AUROC': 0.9229873418807983, 'AUPR-IN': 0.47445762157440186, 'AUPR-OUT': 0.9961178302764893, 'ACC95TPR': 0.6620000004768372, 'FPR95TPR': 0.3495199978351593, 'Dataset': 'ImageNetO', 'Iteration': 99, 'Method': 'Energy'}, {'AUROC': 0.8482074737548828, 'AUPR-IN': 0.8042131066322327, 'AUPR-OUT': 0.8907171487808228, 'ACC95TPR': 0.5962250232696533, 'FPR95TPR': 0.6160399913787842, 'Dataset': 'ImageNetR', 'Iteration': 99, 'Method': 'Softmax'}, {'AUROC': 0.8918884992599487, 'AUPR-IN': 0.853775680065155, 'AUPR-OUT': 0.9238981008529663, 'ACC95TPR': 0.6757749915122986, 'FPR95TPR': 0.48875999450683594, 'Dataset': 'ImageNetR', 'Iteration': 99, 'Method': 'Energy'}]\n"
     ]
    },
    {
     "data": {
      "application/vnd.jupyter.widget-view+json": {
       "model_id": "350eec14f7db453f827746c147d3df81",
       "version_major": 2,
       "version_minor": 0
      },
      "text/plain": [
       "  0%|          | 0/100 [00:00<?, ?it/s]"
      ]
     },
     "metadata": {},
     "output_type": "display_data"
    },
    {
     "name": "stdout",
     "output_type": "stream",
     "text": [
      "Evaluating... \n",
      "AUROC 99 -> 89.115%\n",
      "[{'AUROC': 0.8776047229766846, 'AUPR-IN': 0.5476850271224976, 'AUPR-OUT': 0.9778597354888916, 'ACC95TPR': 0.5928316712379456, 'FPR95TPR': 0.4605799913406372, 'Dataset': 'ImageNetA', 'Iteration': 99, 'Method': 'Softmax'}, {'AUROC': 0.8979435563087463, 'AUPR-IN': 0.5447900295257568, 'AUPR-OUT': 0.982581615447998, 'ACC95TPR': 0.6820878386497498, 'FPR95TPR': 0.35798001289367676, 'Dataset': 'ImageNetA', 'Iteration': 99, 'Method': 'Energy'}, {'AUROC': 0.8510422706604004, 'AUPR-IN': 0.28782591223716736, 'AUPR-OUT': 0.9920521974563599, 'ACC95TPR': 0.4420384466648102, 'FPR95TPR': 0.578279972076416, 'Dataset': 'ImageNetO', 'Iteration': 99, 'Method': 'Softmax'}, {'AUROC': 0.92327880859375, 'AUPR-IN': 0.47775888442993164, 'AUPR-OUT': 0.9961235523223877, 'ACC95TPR': 0.6612692475318909, 'FPR95TPR': 0.3502799868583679, 'Dataset': 'ImageNetO', 'Iteration': 99, 'Method': 'Energy'}, {'AUROC': 0.84716796875, 'AUPR-IN': 0.8029839992523193, 'AUPR-OUT': 0.8899682760238647, 'ACC95TPR': 0.5947625041007996, 'FPR95TPR': 0.6183800101280212, 'Dataset': 'ImageNetR', 'Iteration': 99, 'Method': 'Softmax'}, {'AUROC': 0.8911529779434204, 'AUPR-IN': 0.8529039025306702, 'AUPR-OUT': 0.9232492446899414, 'ACC95TPR': 0.6745499968528748, 'FPR95TPR': 0.4907200038433075, 'Dataset': 'ImageNetR', 'Iteration': 99, 'Method': 'Energy'}]\n"
     ]
    },
    {
     "data": {
      "application/vnd.jupyter.widget-view+json": {
       "model_id": "1b41861937fd46f29d9a3e10c79ff78d",
       "version_major": 2,
       "version_minor": 0
      },
      "text/plain": [
       "  0%|          | 0/100 [00:00<?, ?it/s]"
      ]
     },
     "metadata": {},
     "output_type": "display_data"
    },
    {
     "name": "stdout",
     "output_type": "stream",
     "text": [
      "Evaluating... \n",
      "AUROC 99 -> 89.138%\n",
      "[{'AUROC': 0.8772768974304199, 'AUPR-IN': 0.547160267829895, 'AUPR-OUT': 0.9778013229370117, 'ACC95TPR': 0.590291440486908, 'FPR95TPR': 0.4634999930858612, 'Dataset': 'ImageNetA', 'Iteration': 99, 'Method': 'Softmax'}, {'AUROC': 0.8975977897644043, 'AUPR-IN': 0.5441298484802246, 'AUPR-OUT': 0.9825059771537781, 'ACC95TPR': 0.6792170405387878, 'FPR95TPR': 0.36127999424934387, 'Dataset': 'ImageNetA', 'Iteration': 99, 'Method': 'Energy'}, {'AUROC': 0.8513854146003723, 'AUPR-IN': 0.2880728840827942, 'AUPR-OUT': 0.9920747876167297, 'ACC95TPR': 0.4438653886318207, 'FPR95TPR': 0.5763800144195557, 'Dataset': 'ImageNetO', 'Iteration': 99, 'Method': 'Softmax'}, {'AUROC': 0.9234027862548828, 'AUPR-IN': 0.4761330187320709, 'AUPR-OUT': 0.9961278438568115, 'ACC95TPR': 0.6628461480140686, 'FPR95TPR': 0.34863999485969543, 'Dataset': 'ImageNetO', 'Iteration': 99, 'Method': 'Energy'}, {'AUROC': 0.8473072052001953, 'AUPR-IN': 0.8032759428024292, 'AUPR-OUT': 0.89007568359375, 'ACC95TPR': 0.5945125222206116, 'FPR95TPR': 0.6187800168991089, 'Dataset': 'ImageNetR', 'Iteration': 99, 'Method': 'Softmax'}, {'AUROC': 0.8913843631744385, 'AUPR-IN': 0.8531923294067383, 'AUPR-OUT': 0.9233630895614624, 'ACC95TPR': 0.6745374798774719, 'FPR95TPR': 0.49074000120162964, 'Dataset': 'ImageNetR', 'Iteration': 99, 'Method': 'Energy'}]\n"
     ]
    },
    {
     "data": {
      "application/vnd.jupyter.widget-view+json": {
       "model_id": "724138f6293a48a9a3349c6f44077487",
       "version_major": 2,
       "version_minor": 0
      },
      "text/plain": [
       "  0%|          | 0/100 [00:00<?, ?it/s]"
      ]
     },
     "metadata": {},
     "output_type": "display_data"
    },
    {
     "name": "stdout",
     "output_type": "stream",
     "text": [
      "Evaluating... \n",
      "AUROC 99 -> 89.189%\n",
      "[{'AUROC': 0.8775246143341064, 'AUPR-IN': 0.5471977591514587, 'AUPR-OUT': 0.9778541326522827, 'ACC95TPR': 0.5921009182929993, 'FPR95TPR': 0.4614199995994568, 'Dataset': 'ImageNetA', 'Iteration': 99, 'Method': 'Softmax'}, {'AUROC': 0.8976644277572632, 'AUPR-IN': 0.5439581274986267, 'AUPR-OUT': 0.9825162887573242, 'ACC95TPR': 0.6796694397926331, 'FPR95TPR': 0.36076000332832336, 'Dataset': 'ImageNetA', 'Iteration': 99, 'Method': 'Energy'}, {'AUROC': 0.8519265055656433, 'AUPR-IN': 0.28650274872779846, 'AUPR-OUT': 0.9921085238456726, 'ACC95TPR': 0.44676923751831055, 'FPR95TPR': 0.573360025882721, 'Dataset': 'ImageNetO', 'Iteration': 99, 'Method': 'Softmax'}, {'AUROC': 0.9233781099319458, 'AUPR-IN': 0.4697694778442383, 'AUPR-OUT': 0.9961285591125488, 'ACC95TPR': 0.6640961766242981, 'FPR95TPR': 0.3473399877548218, 'Dataset': 'ImageNetO', 'Iteration': 99, 'Method': 'Energy'}, {'AUROC': 0.8483068943023682, 'AUPR-IN': 0.8047105669975281, 'AUPR-OUT': 0.8907448053359985, 'ACC95TPR': 0.5950624942779541, 'FPR95TPR': 0.617900013923645, 'Dataset': 'ImageNetR', 'Iteration': 99, 'Method': 'Softmax'}, {'AUROC': 0.8918912410736084, 'AUPR-IN': 0.8536997437477112, 'AUPR-OUT': 0.9237196445465088, 'ACC95TPR': 0.67535001039505, 'FPR95TPR': 0.489439994096756, 'Dataset': 'ImageNetR', 'Iteration': 99, 'Method': 'Energy'}]\n"
     ]
    },
    {
     "data": {
      "application/vnd.jupyter.widget-view+json": {
       "model_id": "70f0462023424c0297698343c6d4becc",
       "version_major": 2,
       "version_minor": 0
      },
      "text/plain": [
       "  0%|          | 0/100 [00:00<?, ?it/s]"
      ]
     },
     "metadata": {},
     "output_type": "display_data"
    },
    {
     "name": "stdout",
     "output_type": "stream",
     "text": [
      "Evaluating... \n",
      "AUROC 99 -> 89.067%\n",
      "[{'AUROC': 0.8762616515159607, 'AUPR-IN': 0.5443187355995178, 'AUPR-OUT': 0.9775940179824829, 'ACC95TPR': 0.5908482074737549, 'FPR95TPR': 0.46285998821258545, 'Dataset': 'ImageNetA', 'Iteration': 99, 'Method': 'Softmax'}, {'AUROC': 0.8970969915390015, 'AUPR-IN': 0.5432442426681519, 'AUPR-OUT': 0.9823534488677979, 'ACC95TPR': 0.6731448173522949, 'FPR95TPR': 0.368259996175766, 'Dataset': 'ImageNetA', 'Iteration': 99, 'Method': 'Energy'}, {'AUROC': 0.8523832559585571, 'AUPR-IN': 0.2900218367576599, 'AUPR-OUT': 0.992143988609314, 'ACC95TPR': 0.44701921939849854, 'FPR95TPR': 0.5730999708175659, 'Dataset': 'ImageNetO', 'Iteration': 99, 'Method': 'Softmax'}, {'AUROC': 0.9240837097167969, 'AUPR-IN': 0.4759574234485626, 'AUPR-OUT': 0.9961647391319275, 'ACC95TPR': 0.6651153564453125, 'FPR95TPR': 0.3462800085544586, 'Dataset': 'ImageNetO', 'Iteration': 99, 'Method': 'Energy'}, {'AUROC': 0.8463006019592285, 'AUPR-IN': 0.8021392822265625, 'AUPR-OUT': 0.889285683631897, 'ACC95TPR': 0.5928750038146973, 'FPR95TPR': 0.621399998664856, 'Dataset': 'ImageNetR', 'Iteration': 99, 'Method': 'Softmax'}, {'AUROC': 0.8906707763671875, 'AUPR-IN': 0.8522207140922546, 'AUPR-OUT': 0.9226645231246948, 'ACC95TPR': 0.6743249893188477, 'FPR95TPR': 0.49107998609542847, 'Dataset': 'ImageNetR', 'Iteration': 99, 'Method': 'Energy'}]\n"
     ]
    },
    {
     "data": {
      "application/vnd.jupyter.widget-view+json": {
       "model_id": "a9c303a585fc4a0cb20a236bb8d459c1",
       "version_major": 2,
       "version_minor": 0
      },
      "text/plain": [
       "  0%|          | 0/100 [00:00<?, ?it/s]"
      ]
     },
     "metadata": {},
     "output_type": "display_data"
    },
    {
     "name": "stdout",
     "output_type": "stream",
     "text": [
      "Evaluating... \n",
      "AUROC 99 -> 89.064%\n",
      "[{'AUROC': 0.8759234547615051, 'AUPR-IN': 0.5435724258422852, 'AUPR-OUT': 0.9775334000587463, 'ACC95TPR': 0.5923966765403748, 'FPR95TPR': 0.46108001470565796, 'Dataset': 'ImageNetA', 'Iteration': 99, 'Method': 'Softmax'}, {'AUROC': 0.8964602947235107, 'AUPR-IN': 0.5411379933357239, 'AUPR-OUT': 0.9822239875793457, 'ACC95TPR': 0.6733710169792175, 'FPR95TPR': 0.36800000071525574, 'Dataset': 'ImageNetA', 'Iteration': 99, 'Method': 'Energy'}, {'AUROC': 0.8529400825500488, 'AUPR-IN': 0.2901917099952698, 'AUPR-OUT': 0.9921703338623047, 'ACC95TPR': 0.4503461420536041, 'FPR95TPR': 0.5696399807929993, 'Dataset': 'ImageNetO', 'Iteration': 99, 'Method': 'Softmax'}, {'AUROC': 0.9242894053459167, 'AUPR-IN': 0.47405093908309937, 'AUPR-OUT': 0.9961711168289185, 'ACC95TPR': 0.6658461689949036, 'FPR95TPR': 0.3455199897289276, 'Dataset': 'ImageNetO', 'Iteration': 99, 'Method': 'Energy'}, {'AUROC': 0.8463491201400757, 'AUPR-IN': 0.8024282455444336, 'AUPR-OUT': 0.8893417716026306, 'ACC95TPR': 0.5929625034332275, 'FPR95TPR': 0.6212599873542786, 'Dataset': 'ImageNetR', 'Iteration': 99, 'Method': 'Softmax'}, {'AUROC': 0.8906419277191162, 'AUPR-IN': 0.8521765470504761, 'AUPR-OUT': 0.9226667881011963, 'ACC95TPR': 0.6732875108718872, 'FPR95TPR': 0.4927400052547455, 'Dataset': 'ImageNetR', 'Iteration': 99, 'Method': 'Energy'}]\n"
     ]
    },
    {
     "data": {
      "application/vnd.jupyter.widget-view+json": {
       "model_id": "260ce2d9abca48f9be4667556194377d",
       "version_major": 2,
       "version_minor": 0
      },
      "text/plain": [
       "  0%|          | 0/100 [00:00<?, ?it/s]"
      ]
     },
     "metadata": {},
     "output_type": "display_data"
    },
    {
     "name": "stdout",
     "output_type": "stream",
     "text": [
      "Evaluating... \n",
      "AUROC 99 -> 89.026%\n",
      "[{'AUROC': 0.8756884932518005, 'AUPR-IN': 0.5429226756095886, 'AUPR-OUT': 0.9774820804595947, 'ACC95TPR': 0.5920313000679016, 'FPR95TPR': 0.46149998903274536, 'Dataset': 'ImageNetA', 'Iteration': 99, 'Method': 'Softmax'}, {'AUROC': 0.8964509963989258, 'AUPR-IN': 0.5414091348648071, 'AUPR-OUT': 0.9822129011154175, 'ACC95TPR': 0.6727968454360962, 'FPR95TPR': 0.36866000294685364, 'Dataset': 'ImageNetA', 'Iteration': 99, 'Method': 'Energy'}, {'AUROC': 0.8531582355499268, 'AUPR-IN': 0.2905195355415344, 'AUPR-OUT': 0.9921855926513672, 'ACC95TPR': 0.4526346027851105, 'FPR95TPR': 0.5672600269317627, 'Dataset': 'ImageNetO', 'Iteration': 99, 'Method': 'Softmax'}, {'AUROC': 0.9243596196174622, 'AUPR-IN': 0.4717778265476227, 'AUPR-OUT': 0.996176540851593, 'ACC95TPR': 0.6685961484909058, 'FPR95TPR': 0.34266000986099243, 'Dataset': 'ImageNetO', 'Iteration': 99, 'Method': 'Energy'}, {'AUROC': 0.8460521697998047, 'AUPR-IN': 0.8020366430282593, 'AUPR-OUT': 0.8890702128410339, 'ACC95TPR': 0.5920875072479248, 'FPR95TPR': 0.6226599812507629, 'Dataset': 'ImageNetR', 'Iteration': 99, 'Method': 'Softmax'}, {'AUROC': 0.8902631998062134, 'AUPR-IN': 0.8515541553497314, 'AUPR-OUT': 0.9223273992538452, 'ACC95TPR': 0.6725624799728394, 'FPR95TPR': 0.49390000104904175, 'Dataset': 'ImageNetR', 'Iteration': 99, 'Method': 'Energy'}]\n"
     ]
    },
    {
     "data": {
      "application/vnd.jupyter.widget-view+json": {
       "model_id": "8760dbc7d87f43bbb762da97d5846aad",
       "version_major": 2,
       "version_minor": 0
      },
      "text/plain": [
       "  0%|          | 0/100 [00:00<?, ?it/s]"
      ]
     },
     "metadata": {},
     "output_type": "display_data"
    },
    {
     "name": "stdout",
     "output_type": "stream",
     "text": [
      "Evaluating... \n",
      "AUROC 99 -> 88.999%\n",
      "[{'AUROC': 0.8748005628585815, 'AUPR-IN': 0.5416141152381897, 'AUPR-OUT': 0.9772987365722656, 'ACC95TPR': 0.5911091566085815, 'FPR95TPR': 0.4625599980354309, 'Dataset': 'ImageNetA', 'Iteration': 99, 'Method': 'Softmax'}, {'AUROC': 0.895964503288269, 'AUPR-IN': 0.540855348110199, 'AUPR-OUT': 0.9820902347564697, 'ACC95TPR': 0.6712135672569275, 'FPR95TPR': 0.3704800009727478, 'Dataset': 'ImageNetA', 'Iteration': 99, 'Method': 'Energy'}, {'AUROC': 0.8533856868743896, 'AUPR-IN': 0.29261234402656555, 'AUPR-OUT': 0.99219810962677, 'ACC95TPR': 0.4552307724952698, 'FPR95TPR': 0.5645599961280823, 'Dataset': 'ImageNetO', 'Iteration': 99, 'Method': 'Softmax'}, {'AUROC': 0.9246443510055542, 'AUPR-IN': 0.47287794947624207, 'AUPR-OUT': 0.9961845874786377, 'ACC95TPR': 0.6689038276672363, 'FPR95TPR': 0.34233999252319336, 'Dataset': 'ImageNetO', 'Iteration': 99, 'Method': 'Energy'}, {'AUROC': 0.845413327217102, 'AUPR-IN': 0.8014782667160034, 'AUPR-OUT': 0.8885468244552612, 'ACC95TPR': 0.5913375020027161, 'FPR95TPR': 0.6238600015640259, 'Dataset': 'ImageNetR', 'Iteration': 99, 'Method': 'Softmax'}, {'AUROC': 0.8899878859519958, 'AUPR-IN': 0.8513371348381042, 'AUPR-OUT': 0.9220041036605835, 'ACC95TPR': 0.6719124913215637, 'FPR95TPR': 0.49494001269340515, 'Dataset': 'ImageNetR', 'Iteration': 99, 'Method': 'Energy'}]\n"
     ]
    },
    {
     "data": {
      "application/vnd.jupyter.widget-view+json": {
       "model_id": "a5e7701fbfa64860a12872c13143d253",
       "version_major": 2,
       "version_minor": 0
      },
      "text/plain": [
       "  0%|          | 0/100 [00:00<?, ?it/s]"
      ]
     },
     "metadata": {},
     "output_type": "display_data"
    },
    {
     "name": "stdout",
     "output_type": "stream",
     "text": [
      "Evaluating... \n",
      "AUROC 99 -> 89.010%\n",
      "[{'AUROC': 0.8745662569999695, 'AUPR-IN': 0.5416324138641357, 'AUPR-OUT': 0.9772424697875977, 'ACC95TPR': 0.5904132127761841, 'FPR95TPR': 0.4633600115776062, 'Dataset': 'ImageNetA', 'Iteration': 99, 'Method': 'Softmax'}, {'AUROC': 0.8958838582038879, 'AUPR-IN': 0.541359543800354, 'AUPR-OUT': 0.9820611476898193, 'ACC95TPR': 0.6724662780761719, 'FPR95TPR': 0.36904001235961914, 'Dataset': 'ImageNetA', 'Iteration': 99, 'Method': 'Energy'}, {'AUROC': 0.8533329963684082, 'AUPR-IN': 0.29276424646377563, 'AUPR-OUT': 0.9921923875808716, 'ACC95TPR': 0.4536346197128296, 'FPR95TPR': 0.5662199854850769, 'Dataset': 'ImageNetO', 'Iteration': 99, 'Method': 'Softmax'}, {'AUROC': 0.9244581460952759, 'AUPR-IN': 0.470355749130249, 'AUPR-OUT': 0.9961728453636169, 'ACC95TPR': 0.6709423065185547, 'FPR95TPR': 0.34022000432014465, 'Dataset': 'ImageNetO', 'Iteration': 99, 'Method': 'Energy'}, {'AUROC': 0.8456774950027466, 'AUPR-IN': 0.8019573092460632, 'AUPR-OUT': 0.888678789138794, 'ACC95TPR': 0.5912749767303467, 'FPR95TPR': 0.623960018157959, 'Dataset': 'ImageNetR', 'Iteration': 99, 'Method': 'Softmax'}, {'AUROC': 0.8900957107543945, 'AUPR-IN': 0.8514599800109863, 'AUPR-OUT': 0.9220366477966309, 'ACC95TPR': 0.6716625094413757, 'FPR95TPR': 0.4953399896621704, 'Dataset': 'ImageNetR', 'Iteration': 99, 'Method': 'Energy'}]\n"
     ]
    },
    {
     "data": {
      "application/vnd.jupyter.widget-view+json": {
       "model_id": "33cc27b6ae384d2396c4b77a01a0ebaa",
       "version_major": 2,
       "version_minor": 0
      },
      "text/plain": [
       "  0%|          | 0/100 [00:00<?, ?it/s]"
      ]
     },
     "metadata": {},
     "output_type": "display_data"
    },
    {
     "name": "stdout",
     "output_type": "stream",
     "text": [
      "Evaluating... \n",
      "AUROC 99 -> 88.878%\n",
      "[{'AUROC': 0.8737152218818665, 'AUPR-IN': 0.5402501821517944, 'AUPR-OUT': 0.9770632982254028, 'ACC95TPR': 0.5868290662765503, 'FPR95TPR': 0.46748000383377075, 'Dataset': 'ImageNetA', 'Iteration': 99, 'Method': 'Softmax'}, {'AUROC': 0.8955491781234741, 'AUPR-IN': 0.5416485071182251, 'AUPR-OUT': 0.9819638133049011, 'ACC95TPR': 0.672431468963623, 'FPR95TPR': 0.3690800070762634, 'Dataset': 'ImageNetA', 'Iteration': 99, 'Method': 'Energy'}, {'AUROC': 0.8531098365783691, 'AUPR-IN': 0.2946438193321228, 'AUPR-OUT': 0.9921776056289673, 'ACC95TPR': 0.454153835773468, 'FPR95TPR': 0.5656800270080566, 'Dataset': 'ImageNetO', 'Iteration': 99, 'Method': 'Softmax'}, {'AUROC': 0.9245708584785461, 'AUPR-IN': 0.4735734760761261, 'AUPR-OUT': 0.9961702823638916, 'ACC95TPR': 0.6687884330749512, 'FPR95TPR': 0.3424600064754486, 'Dataset': 'ImageNetO', 'Iteration': 99, 'Method': 'Energy'}, {'AUROC': 0.8438527584075928, 'AUPR-IN': 0.7995981574058533, 'AUPR-OUT': 0.8873234391212463, 'ACC95TPR': 0.5890250205993652, 'FPR95TPR': 0.627560019493103, 'Dataset': 'ImageNetR', 'Iteration': 99, 'Method': 'Softmax'}, {'AUROC': 0.8887763023376465, 'AUPR-IN': 0.8497521281242371, 'AUPR-OUT': 0.9209631681442261, 'ACC95TPR': 0.6695625185966492, 'FPR95TPR': 0.49869999289512634, 'Dataset': 'ImageNetR', 'Iteration': 99, 'Method': 'Energy'}]\n"
     ]
    },
    {
     "data": {
      "application/vnd.jupyter.widget-view+json": {
       "model_id": "2e5c8f9585f44ac381c4b7abd6a259be",
       "version_major": 2,
       "version_minor": 0
      },
      "text/plain": [
       "  0%|          | 0/100 [00:00<?, ?it/s]"
      ]
     },
     "metadata": {},
     "output_type": "display_data"
    },
    {
     "name": "stdout",
     "output_type": "stream",
     "text": [
      "Evaluating... \n",
      "AUROC 99 -> 88.937%\n",
      "[{'AUROC': 0.873785674571991, 'AUPR-IN': 0.5406473875045776, 'AUPR-OUT': 0.977072536945343, 'ACC95TPR': 0.585454523563385, 'FPR95TPR': 0.4690600037574768, 'Dataset': 'ImageNetA', 'Iteration': 99, 'Method': 'Softmax'}, {'AUROC': 0.8954386711120605, 'AUPR-IN': 0.5417337417602539, 'AUPR-OUT': 0.9819434881210327, 'ACC95TPR': 0.6722227334976196, 'FPR95TPR': 0.36932000517845154, 'Dataset': 'ImageNetA', 'Iteration': 99, 'Method': 'Energy'}, {'AUROC': 0.8536221981048584, 'AUPR-IN': 0.29453372955322266, 'AUPR-OUT': 0.9922043681144714, 'ACC95TPR': 0.4516538381576538, 'FPR95TPR': 0.5682799816131592, 'Dataset': 'ImageNetO', 'Iteration': 99, 'Method': 'Softmax'}, {'AUROC': 0.9246270060539246, 'AUPR-IN': 0.47011300921440125, 'AUPR-OUT': 0.9961745738983154, 'ACC95TPR': 0.6712499856948853, 'FPR95TPR': 0.3398999869823456, 'Dataset': 'ImageNetO', 'Iteration': 99, 'Method': 'Energy'}, {'AUROC': 0.8448301553726196, 'AUPR-IN': 0.8011481165885925, 'AUPR-OUT': 0.8879445791244507, 'ACC95TPR': 0.5896750092506409, 'FPR95TPR': 0.6265199780464172, 'Dataset': 'ImageNetR', 'Iteration': 99, 'Method': 'Softmax'}, {'AUROC': 0.8893666863441467, 'AUPR-IN': 0.8505759239196777, 'AUPR-OUT': 0.9213645458221436, 'ACC95TPR': 0.6701375246047974, 'FPR95TPR': 0.4977799952030182, 'Dataset': 'ImageNetR', 'Iteration': 99, 'Method': 'Energy'}]\n"
     ]
    },
    {
     "data": {
      "text/html": [
       "<div>\n",
       "<style scoped>\n",
       "    .dataframe tbody tr th:only-of-type {\n",
       "        vertical-align: middle;\n",
       "    }\n",
       "\n",
       "    .dataframe tbody tr th {\n",
       "        vertical-align: top;\n",
       "    }\n",
       "\n",
       "    .dataframe thead th {\n",
       "        text-align: right;\n",
       "    }\n",
       "</style>\n",
       "<table border=\"1\" class=\"dataframe\">\n",
       "  <thead>\n",
       "    <tr style=\"text-align: right;\">\n",
       "      <th></th>\n",
       "      <th>AUROC</th>\n",
       "      <th>AUPR-IN</th>\n",
       "      <th>AUPR-OUT</th>\n",
       "      <th>ACC95TPR</th>\n",
       "      <th>FPR95TPR</th>\n",
       "      <th>Dataset</th>\n",
       "      <th>Iteration</th>\n",
       "      <th>Method</th>\n",
       "      <th>iteration</th>\n",
       "    </tr>\n",
       "  </thead>\n",
       "  <tbody>\n",
       "    <tr>\n",
       "      <th>0</th>\n",
       "      <td>0.854956</td>\n",
       "      <td>0.501128</td>\n",
       "      <td>0.973323</td>\n",
       "      <td>0.550100</td>\n",
       "      <td>0.50970</td>\n",
       "      <td>ImageNetA</td>\n",
       "      <td>99</td>\n",
       "      <td>Softmax</td>\n",
       "      <td>0</td>\n",
       "    </tr>\n",
       "    <tr>\n",
       "      <th>1</th>\n",
       "      <td>0.896261</td>\n",
       "      <td>0.551555</td>\n",
       "      <td>0.981592</td>\n",
       "      <td>0.665837</td>\n",
       "      <td>0.37666</td>\n",
       "      <td>ImageNetA</td>\n",
       "      <td>99</td>\n",
       "      <td>Energy</td>\n",
       "      <td>0</td>\n",
       "    </tr>\n",
       "    <tr>\n",
       "      <th>2</th>\n",
       "      <td>0.830077</td>\n",
       "      <td>0.304602</td>\n",
       "      <td>0.990764</td>\n",
       "      <td>0.406865</td>\n",
       "      <td>0.61486</td>\n",
       "      <td>ImageNetO</td>\n",
       "      <td>99</td>\n",
       "      <td>Softmax</td>\n",
       "      <td>0</td>\n",
       "    </tr>\n",
       "    <tr>\n",
       "      <th>3</th>\n",
       "      <td>0.914483</td>\n",
       "      <td>0.518740</td>\n",
       "      <td>0.995522</td>\n",
       "      <td>0.612500</td>\n",
       "      <td>0.40100</td>\n",
       "      <td>ImageNetO</td>\n",
       "      <td>99</td>\n",
       "      <td>Energy</td>\n",
       "      <td>0</td>\n",
       "    </tr>\n",
       "    <tr>\n",
       "      <th>4</th>\n",
       "      <td>0.799008</td>\n",
       "      <td>0.730718</td>\n",
       "      <td>0.855630</td>\n",
       "      <td>0.545287</td>\n",
       "      <td>0.69754</td>\n",
       "      <td>ImageNetR</td>\n",
       "      <td>99</td>\n",
       "      <td>Softmax</td>\n",
       "      <td>0</td>\n",
       "    </tr>\n",
       "    <tr>\n",
       "      <th>...</th>\n",
       "      <td>...</td>\n",
       "      <td>...</td>\n",
       "      <td>...</td>\n",
       "      <td>...</td>\n",
       "      <td>...</td>\n",
       "      <td>...</td>\n",
       "      <td>...</td>\n",
       "      <td>...</td>\n",
       "      <td>...</td>\n",
       "    </tr>\n",
       "    <tr>\n",
       "      <th>175</th>\n",
       "      <td>0.895439</td>\n",
       "      <td>0.541734</td>\n",
       "      <td>0.981943</td>\n",
       "      <td>0.672223</td>\n",
       "      <td>0.36932</td>\n",
       "      <td>ImageNetA</td>\n",
       "      <td>99</td>\n",
       "      <td>Energy</td>\n",
       "      <td>2900</td>\n",
       "    </tr>\n",
       "    <tr>\n",
       "      <th>176</th>\n",
       "      <td>0.853622</td>\n",
       "      <td>0.294534</td>\n",
       "      <td>0.992204</td>\n",
       "      <td>0.451654</td>\n",
       "      <td>0.56828</td>\n",
       "      <td>ImageNetO</td>\n",
       "      <td>99</td>\n",
       "      <td>Softmax</td>\n",
       "      <td>2900</td>\n",
       "    </tr>\n",
       "    <tr>\n",
       "      <th>177</th>\n",
       "      <td>0.924627</td>\n",
       "      <td>0.470113</td>\n",
       "      <td>0.996175</td>\n",
       "      <td>0.671250</td>\n",
       "      <td>0.33990</td>\n",
       "      <td>ImageNetO</td>\n",
       "      <td>99</td>\n",
       "      <td>Energy</td>\n",
       "      <td>2900</td>\n",
       "    </tr>\n",
       "    <tr>\n",
       "      <th>178</th>\n",
       "      <td>0.844830</td>\n",
       "      <td>0.801148</td>\n",
       "      <td>0.887945</td>\n",
       "      <td>0.589675</td>\n",
       "      <td>0.62652</td>\n",
       "      <td>ImageNetR</td>\n",
       "      <td>99</td>\n",
       "      <td>Softmax</td>\n",
       "      <td>2900</td>\n",
       "    </tr>\n",
       "    <tr>\n",
       "      <th>179</th>\n",
       "      <td>0.889367</td>\n",
       "      <td>0.850576</td>\n",
       "      <td>0.921365</td>\n",
       "      <td>0.670138</td>\n",
       "      <td>0.49778</td>\n",
       "      <td>ImageNetR</td>\n",
       "      <td>99</td>\n",
       "      <td>Energy</td>\n",
       "      <td>2900</td>\n",
       "    </tr>\n",
       "  </tbody>\n",
       "</table>\n",
       "<p>180 rows × 9 columns</p>\n",
       "</div>"
      ],
      "text/plain": [
       "        AUROC   AUPR-IN  AUPR-OUT  ACC95TPR  FPR95TPR    Dataset  Iteration  \\\n",
       "0    0.854956  0.501128  0.973323  0.550100   0.50970  ImageNetA         99   \n",
       "1    0.896261  0.551555  0.981592  0.665837   0.37666  ImageNetA         99   \n",
       "2    0.830077  0.304602  0.990764  0.406865   0.61486  ImageNetO         99   \n",
       "3    0.914483  0.518740  0.995522  0.612500   0.40100  ImageNetO         99   \n",
       "4    0.799008  0.730718  0.855630  0.545287   0.69754  ImageNetR         99   \n",
       "..        ...       ...       ...       ...       ...        ...        ...   \n",
       "175  0.895439  0.541734  0.981943  0.672223   0.36932  ImageNetA         99   \n",
       "176  0.853622  0.294534  0.992204  0.451654   0.56828  ImageNetO         99   \n",
       "177  0.924627  0.470113  0.996175  0.671250   0.33990  ImageNetO         99   \n",
       "178  0.844830  0.801148  0.887945  0.589675   0.62652  ImageNetR         99   \n",
       "179  0.889367  0.850576  0.921365  0.670138   0.49778  ImageNetR         99   \n",
       "\n",
       "      Method  iteration  \n",
       "0    Softmax          0  \n",
       "1     Energy          0  \n",
       "2    Softmax          0  \n",
       "3     Energy          0  \n",
       "4    Softmax          0  \n",
       "..       ...        ...  \n",
       "175   Energy       2900  \n",
       "176  Softmax       2900  \n",
       "177   Energy       2900  \n",
       "178  Softmax       2900  \n",
       "179   Energy       2900  \n",
       "\n",
       "[180 rows x 9 columns]"
      ]
     },
     "execution_count": 6,
     "metadata": {},
     "output_type": "execute_result"
    }
   ],
   "source": [
    "model = VisionTransformer(image_size=(224, 224), pretrained=\"b16-im21k-224\", num_classes=1000) # resnet101(pretrained=True)\n",
    "model._from_pretrained(\"b16-im21k-224\")\n",
    "\n",
    "r = []\n",
    "\n",
    "for i in range(30):\n",
    "    res = train(2.0, iters=100, model=model)\n",
    "    print(res)\n",
    "    for re in res:\n",
    "        re.update({\n",
    "            \"iteration\": i * 100\n",
    "        })\n",
    "        r.append(re)\n",
    "        \n",
    "df_vary_iterations = pd.DataFrame(r)\n",
    "df_vary_iterations\n"
   ]
  },
  {
   "cell_type": "code",
   "execution_count": 7,
   "metadata": {},
   "outputs": [
    {
     "name": "stdout",
     "output_type": "stream",
     "text": [
      "Variance: 0\n"
     ]
    },
    {
     "data": {
      "application/vnd.jupyter.widget-view+json": {
       "model_id": "02529910096b4e489a32d2202dfa102f",
       "version_major": 2,
       "version_minor": 0
      },
      "text/plain": [
       "  0%|          | 0/1000 [00:00<?, ?it/s]"
      ]
     },
     "metadata": {},
     "output_type": "display_data"
    },
    {
     "name": "stdout",
     "output_type": "stream",
     "text": [
      "Evaluating... \n"
     ]
    },
    {
     "name": "stderr",
     "output_type": "stream",
     "text": [
      "/home/kirchheim/anaconda3/envs/myenv/lib/python3.8/site-packages/torchmetrics/utilities/prints.py:36: UserWarning: Metric `AUROC` will save all targets and predictions in buffer. For large datasets this may lead to large memory footprint.\n",
      "  warnings.warn(*args, **kwargs)\n",
      "/home/kirchheim/anaconda3/envs/myenv/lib/python3.8/site-packages/torchmetrics/utilities/prints.py:36: UserWarning: Metric `PrecisionRecallCurve` will save all targets and predictions in buffer. For large datasets this may lead to large memory footprint.\n",
      "  warnings.warn(*args, **kwargs)\n",
      "/home/kirchheim/anaconda3/envs/myenv/lib/python3.8/site-packages/torchmetrics/utilities/prints.py:36: UserWarning: `pos_label` automatically set 1.\n",
      "  warnings.warn(*args, **kwargs)\n",
      "/home/kirchheim/anaconda3/envs/myenv/lib/python3.8/site-packages/torchmetrics/functional/classification/precision_recall_curve.py:156: UserWarning: To copy construct from a tensor, it is recommended to use sourceTensor.clone().detach() or sourceTensor.clone().detach().requires_grad_(True), rather than torch.tensor(sourceTensor).\n",
      "  thresholds = tensor(reversed(thresholds[sl]))\n"
     ]
    },
    {
     "name": "stdout",
     "output_type": "stream",
     "text": [
      "AUROC 999 -> 85.525%\n",
      "Variance: 0.25\n"
     ]
    },
    {
     "data": {
      "application/vnd.jupyter.widget-view+json": {
       "model_id": "d1a569f38d5d451ab21b78f5a2632c74",
       "version_major": 2,
       "version_minor": 0
      },
      "text/plain": [
       "  0%|          | 0/1000 [00:00<?, ?it/s]"
      ]
     },
     "metadata": {},
     "output_type": "display_data"
    },
    {
     "name": "stdout",
     "output_type": "stream",
     "text": [
      "Evaluating... \n",
      "AUROC 999 -> 85.411%\n",
      "Variance: 0.5\n"
     ]
    },
    {
     "data": {
      "application/vnd.jupyter.widget-view+json": {
       "model_id": "6fc1ff6741bc4e29a733c71654b68edd",
       "version_major": 2,
       "version_minor": 0
      },
      "text/plain": [
       "  0%|          | 0/1000 [00:00<?, ?it/s]"
      ]
     },
     "metadata": {},
     "output_type": "display_data"
    },
    {
     "name": "stdout",
     "output_type": "stream",
     "text": [
      "Evaluating... \n",
      "AUROC 999 -> 86.579%\n",
      "Variance: 0.75\n"
     ]
    },
    {
     "data": {
      "application/vnd.jupyter.widget-view+json": {
       "model_id": "39f11de837034f4a867d5aa0663c6b5a",
       "version_major": 2,
       "version_minor": 0
      },
      "text/plain": [
       "  0%|          | 0/1000 [00:00<?, ?it/s]"
      ]
     },
     "metadata": {},
     "output_type": "display_data"
    },
    {
     "name": "stdout",
     "output_type": "stream",
     "text": [
      "Evaluating... \n",
      "AUROC 999 -> 88.206%\n",
      "Variance: 1.0\n"
     ]
    },
    {
     "data": {
      "application/vnd.jupyter.widget-view+json": {
       "model_id": "2353942aaaaf40fe8fa4df10b53b18bf",
       "version_major": 2,
       "version_minor": 0
      },
      "text/plain": [
       "  0%|          | 0/1000 [00:00<?, ?it/s]"
      ]
     },
     "metadata": {},
     "output_type": "display_data"
    },
    {
     "name": "stdout",
     "output_type": "stream",
     "text": [
      "Evaluating... \n",
      "AUROC 999 -> 86.847%\n",
      "Variance: 10.0\n"
     ]
    },
    {
     "data": {
      "application/vnd.jupyter.widget-view+json": {
       "model_id": "64954f42d6314f5cabc359fa2baf415c",
       "version_major": 2,
       "version_minor": 0
      },
      "text/plain": [
       "  0%|          | 0/1000 [00:00<?, ?it/s]"
      ]
     },
     "metadata": {},
     "output_type": "display_data"
    },
    {
     "name": "stdout",
     "output_type": "stream",
     "text": [
      "Evaluating... \n",
      "AUROC 999 -> 86.679%\n",
      "Variance: 1.25\n"
     ]
    },
    {
     "data": {
      "application/vnd.jupyter.widget-view+json": {
       "model_id": "18c9044f90d54da58422d9ac3ce6eada",
       "version_major": 2,
       "version_minor": 0
      },
      "text/plain": [
       "  0%|          | 0/1000 [00:00<?, ?it/s]"
      ]
     },
     "metadata": {},
     "output_type": "display_data"
    },
    {
     "name": "stdout",
     "output_type": "stream",
     "text": [
      "Evaluating... \n",
      "AUROC 999 -> 88.109%\n",
      "Variance: 1.5\n"
     ]
    },
    {
     "data": {
      "application/vnd.jupyter.widget-view+json": {
       "model_id": "452614c955ea4b2598bba1873f002e9f",
       "version_major": 2,
       "version_minor": 0
      },
      "text/plain": [
       "  0%|          | 0/1000 [00:00<?, ?it/s]"
      ]
     },
     "metadata": {},
     "output_type": "display_data"
    },
    {
     "name": "stdout",
     "output_type": "stream",
     "text": [
      "Evaluating... \n",
      "AUROC 999 -> 88.082%\n",
      "Variance: 1.75\n"
     ]
    },
    {
     "data": {
      "application/vnd.jupyter.widget-view+json": {
       "model_id": "55018f9268f546c3bfea4e6c2ca9fea3",
       "version_major": 2,
       "version_minor": 0
      },
      "text/plain": [
       "  0%|          | 0/1000 [00:00<?, ?it/s]"
      ]
     },
     "metadata": {},
     "output_type": "display_data"
    },
    {
     "name": "stdout",
     "output_type": "stream",
     "text": [
      "Evaluating... \n",
      "AUROC 999 -> 88.886%\n",
      "Variance: 2.0\n"
     ]
    },
    {
     "data": {
      "application/vnd.jupyter.widget-view+json": {
       "model_id": "75f71319435e44c4b49b359a96d04224",
       "version_major": 2,
       "version_minor": 0
      },
      "text/plain": [
       "  0%|          | 0/1000 [00:00<?, ?it/s]"
      ]
     },
     "metadata": {},
     "output_type": "display_data"
    },
    {
     "name": "stdout",
     "output_type": "stream",
     "text": [
      "Evaluating... \n",
      "AUROC 999 -> 89.055%\n",
      "Variance: 2.5\n"
     ]
    },
    {
     "data": {
      "application/vnd.jupyter.widget-view+json": {
       "model_id": "115ed17474514ad3b7acb5bdfb206e76",
       "version_major": 2,
       "version_minor": 0
      },
      "text/plain": [
       "  0%|          | 0/1000 [00:00<?, ?it/s]"
      ]
     },
     "metadata": {},
     "output_type": "display_data"
    },
    {
     "name": "stdout",
     "output_type": "stream",
     "text": [
      "Evaluating... \n",
      "AUROC 999 -> 89.321%\n",
      "Variance: 3.0\n"
     ]
    },
    {
     "data": {
      "application/vnd.jupyter.widget-view+json": {
       "model_id": "4c7519a11b604dab8f7d7052b9f8fd5d",
       "version_major": 2,
       "version_minor": 0
      },
      "text/plain": [
       "  0%|          | 0/1000 [00:00<?, ?it/s]"
      ]
     },
     "metadata": {},
     "output_type": "display_data"
    },
    {
     "name": "stdout",
     "output_type": "stream",
     "text": [
      "Evaluating... \n",
      "AUROC 999 -> 89.323%\n",
      "Variance: 4.0\n"
     ]
    },
    {
     "data": {
      "application/vnd.jupyter.widget-view+json": {
       "model_id": "10447e79bc024343b63c48f5930ef74d",
       "version_major": 2,
       "version_minor": 0
      },
      "text/plain": [
       "  0%|          | 0/1000 [00:00<?, ?it/s]"
      ]
     },
     "metadata": {},
     "output_type": "display_data"
    },
    {
     "name": "stdout",
     "output_type": "stream",
     "text": [
      "Evaluating... \n",
      "AUROC 999 -> 88.746%\n",
      "Variance: 5.0\n"
     ]
    },
    {
     "data": {
      "application/vnd.jupyter.widget-view+json": {
       "model_id": "03a7b4dc1e124d93a55df01e99e76088",
       "version_major": 2,
       "version_minor": 0
      },
      "text/plain": [
       "  0%|          | 0/1000 [00:00<?, ?it/s]"
      ]
     },
     "metadata": {},
     "output_type": "display_data"
    },
    {
     "name": "stdout",
     "output_type": "stream",
     "text": [
      "Evaluating... \n",
      "AUROC 999 -> 88.195%\n",
      "Variance: 6.0\n"
     ]
    },
    {
     "data": {
      "application/vnd.jupyter.widget-view+json": {
       "model_id": "b42f2d552f354402a255fec72b18fb15",
       "version_major": 2,
       "version_minor": 0
      },
      "text/plain": [
       "  0%|          | 0/1000 [00:00<?, ?it/s]"
      ]
     },
     "metadata": {},
     "output_type": "display_data"
    },
    {
     "name": "stdout",
     "output_type": "stream",
     "text": [
      "Evaluating... \n",
      "AUROC 999 -> 87.806%\n",
      "Variance: 7.0\n"
     ]
    },
    {
     "data": {
      "application/vnd.jupyter.widget-view+json": {
       "model_id": "1944e5e291fe4013b200df92e8bbc643",
       "version_major": 2,
       "version_minor": 0
      },
      "text/plain": [
       "  0%|          | 0/1000 [00:00<?, ?it/s]"
      ]
     },
     "metadata": {},
     "output_type": "display_data"
    },
    {
     "name": "stdout",
     "output_type": "stream",
     "text": [
      "Evaluating... \n",
      "AUROC 999 -> 87.503%\n",
      "Variance: 8.0\n"
     ]
    },
    {
     "data": {
      "application/vnd.jupyter.widget-view+json": {
       "model_id": "f1adf34f9c3f407bb2df02577ba3815b",
       "version_major": 2,
       "version_minor": 0
      },
      "text/plain": [
       "  0%|          | 0/1000 [00:00<?, ?it/s]"
      ]
     },
     "metadata": {},
     "output_type": "display_data"
    },
    {
     "name": "stdout",
     "output_type": "stream",
     "text": [
      "Evaluating... \n",
      "AUROC 999 -> 87.091%\n",
      "Variance: 9.0\n"
     ]
    },
    {
     "data": {
      "application/vnd.jupyter.widget-view+json": {
       "model_id": "910ee1392a1841eebe84ffe4fee7e7d5",
       "version_major": 2,
       "version_minor": 0
      },
      "text/plain": [
       "  0%|          | 0/1000 [00:00<?, ?it/s]"
      ]
     },
     "metadata": {},
     "output_type": "display_data"
    },
    {
     "name": "stdout",
     "output_type": "stream",
     "text": [
      "Evaluating... \n",
      "AUROC 999 -> 86.958%\n"
     ]
    }
   ],
   "source": [
    "import pandas as pd \n",
    "dfs = []\n",
    "\n",
    "for var in [0, 0.25, 0.5, 0.75, 1.0, 10.0, 1.25, 1.5, 1.75, 2.0, 2.5, 3.0, 4.0, 5.0, 6.0, 7.0, 8.0, 9.0]:\n",
    "    print(f\"Variance: {var}\")\n",
    "    metrics = train(var)\n",
    "    df = pd.DataFrame(metrics)\n",
    "    df[\"Variance\"] = var \n",
    "    dfs.append(df)"
   ]
  },
  {
   "cell_type": "code",
   "execution_count": 31,
   "metadata": {},
   "outputs": [
    {
     "data": {
      "image/png": "[encoded data removed]",
      "text/plain": [
       "<Figure size 432x288 with 1 Axes>"
      ]
     },
     "metadata": {},
     "output_type": "display_data"
    }
   ],
   "source": [
    "df = pd.concat(dfs)\n",
    "df.rename(columns = {\"Variance\": \"$\\sigma^2$\"}, inplace = True)\n",
    "d = df.groupby([\"$\\sigma^2$\", \"Dataset\", \"Method\"]).mean()\n",
    "\n",
    "# d[\"$\\sigma^2$\"] = d[\"Variance\"]\n",
    "sb.lineplot(data=d, x=\"$\\sigma^2$\", y=\"AUROC\", hue=\"Dataset\", style=\"Method\", marker=\"o\")\n",
    "# plt.title(\"ViT\")\n",
    "plt.tight_layout()\n",
    "plt.savefig(\"img/imagenet-trans-auroc-vs-variance.png\", dpi=300)\n",
    "plt.savefig(\"img/imagenet-trans-auroc-vs-variance.pgf\")\n",
    "df.to_csv(\"results/imagenet-trans-auroc-vs-variance.csv\")"
   ]
  },
  {
   "cell_type": "code",
   "execution_count": 21,
   "metadata": {},
   "outputs": [
    {
     "name": "stdout",
     "output_type": "stream",
     "text": [
      "\\begin{tabular}{lrrrrrrr}\n",
      "\\toprule\n",
      "{} &  AUROC &  AUPR-IN &  AUPR-OUT &  ACC95TPR &  FPR95TPR &  Iteration &  Variance \\\\\n",
      "Method  &        &          &           &           &           &            &           \\\\\n",
      "\\midrule\n",
      "Energy  &  90.34 &    62.16 &     96.76 &     67.68 &     39.47 &   99900.00 &    200.00 \\\\\n",
      "Softmax &  85.65 &    53.57 &     95.33 &     54.24 &     55.31 &   99900.00 &    200.00 \\\\\n",
      "\\bottomrule\n",
      "\\end{tabular}\n",
      "\n"
     ]
    }
   ],
   "source": [
    "df = pd.concat(dfs)\n",
    "\n",
    "df = df[df[\"Variance\"] == 2.0]\n",
    "# df.groupby(\"Method\").mean()\n",
    "# df[\"Method\"] = \"MPS\"\n",
    "print((df.groupby(\"Method\").mean() * 100).to_latex(float_format=\"%.2f\"))"
   ]
  },
  {
   "cell_type": "code",
   "execution_count": 22,
   "metadata": {},
   "outputs": [
    {
     "data": {
      "text/html": [
       "<div>\n",
       "<style scoped>\n",
       "    .dataframe tbody tr th:only-of-type {\n",
       "        vertical-align: middle;\n",
       "    }\n",
       "\n",
       "    .dataframe tbody tr th {\n",
       "        vertical-align: top;\n",
       "    }\n",
       "\n",
       "    .dataframe thead th {\n",
       "        text-align: right;\n",
       "    }\n",
       "</style>\n",
       "<table border=\"1\" class=\"dataframe\">\n",
       "  <thead>\n",
       "    <tr style=\"text-align: right;\">\n",
       "      <th></th>\n",
       "      <th></th>\n",
       "      <th></th>\n",
       "      <th>AUROC</th>\n",
       "      <th>AUPR-IN</th>\n",
       "      <th>AUPR-OUT</th>\n",
       "      <th>ACC95TPR</th>\n",
       "      <th>FPR95TPR</th>\n",
       "      <th>Iteration</th>\n",
       "    </tr>\n",
       "    <tr>\n",
       "      <th>$\\sigma^2$</th>\n",
       "      <th>Dataset</th>\n",
       "      <th>Method</th>\n",
       "      <th></th>\n",
       "      <th></th>\n",
       "      <th></th>\n",
       "      <th></th>\n",
       "      <th></th>\n",
       "      <th></th>\n",
       "    </tr>\n",
       "  </thead>\n",
       "  <tbody>\n",
       "    <tr>\n",
       "      <th rowspan=\"5\" valign=\"top\">0.0</th>\n",
       "      <th rowspan=\"2\" valign=\"top\">ImageNetA</th>\n",
       "      <th>Energy</th>\n",
       "      <td>0.811748</td>\n",
       "      <td>0.338904</td>\n",
       "      <td>0.966031</td>\n",
       "      <td>0.520296</td>\n",
       "      <td>0.54396</td>\n",
       "      <td>999.0</td>\n",
       "    </tr>\n",
       "    <tr>\n",
       "      <th>Softmax</th>\n",
       "      <td>0.855323</td>\n",
       "      <td>0.471625</td>\n",
       "      <td>0.973294</td>\n",
       "      <td>0.545437</td>\n",
       "      <td>0.51506</td>\n",
       "      <td>999.0</td>\n",
       "    </tr>\n",
       "    <tr>\n",
       "      <th rowspan=\"2\" valign=\"top\">ImageNetO</th>\n",
       "      <th>Energy</th>\n",
       "      <td>0.903127</td>\n",
       "      <td>0.429867</td>\n",
       "      <td>0.994872</td>\n",
       "      <td>0.557462</td>\n",
       "      <td>0.45824</td>\n",
       "      <td>999.0</td>\n",
       "    </tr>\n",
       "    <tr>\n",
       "      <th>Softmax</th>\n",
       "      <td>0.879862</td>\n",
       "      <td>0.381769</td>\n",
       "      <td>0.993498</td>\n",
       "      <td>0.502058</td>\n",
       "      <td>0.51586</td>\n",
       "      <td>999.0</td>\n",
       "    </tr>\n",
       "    <tr>\n",
       "      <th>ImageNetR</th>\n",
       "      <th>Energy</th>\n",
       "      <td>0.855252</td>\n",
       "      <td>0.775225</td>\n",
       "      <td>0.903317</td>\n",
       "      <td>0.639650</td>\n",
       "      <td>0.54656</td>\n",
       "      <td>999.0</td>\n",
       "    </tr>\n",
       "    <tr>\n",
       "      <th>...</th>\n",
       "      <th>...</th>\n",
       "      <th>...</th>\n",
       "      <td>...</td>\n",
       "      <td>...</td>\n",
       "      <td>...</td>\n",
       "      <td>...</td>\n",
       "      <td>...</td>\n",
       "      <td>...</td>\n",
       "    </tr>\n",
       "    <tr>\n",
       "      <th rowspan=\"5\" valign=\"top\">10.0</th>\n",
       "      <th>ImageNetA</th>\n",
       "      <th>Softmax</th>\n",
       "      <td>0.856242</td>\n",
       "      <td>0.499444</td>\n",
       "      <td>0.973714</td>\n",
       "      <td>0.559391</td>\n",
       "      <td>0.49902</td>\n",
       "      <td>999.0</td>\n",
       "    </tr>\n",
       "    <tr>\n",
       "      <th rowspan=\"2\" valign=\"top\">ImageNetO</th>\n",
       "      <th>Energy</th>\n",
       "      <td>0.924451</td>\n",
       "      <td>0.552155</td>\n",
       "      <td>0.996059</td>\n",
       "      <td>0.642654</td>\n",
       "      <td>0.36964</td>\n",
       "      <td>999.0</td>\n",
       "    </tr>\n",
       "    <tr>\n",
       "      <th>Softmax</th>\n",
       "      <td>0.842178</td>\n",
       "      <td>0.324000</td>\n",
       "      <td>0.991507</td>\n",
       "      <td>0.418558</td>\n",
       "      <td>0.60270</td>\n",
       "      <td>999.0</td>\n",
       "    </tr>\n",
       "    <tr>\n",
       "      <th rowspan=\"2\" valign=\"top\">ImageNetR</th>\n",
       "      <th>Energy</th>\n",
       "      <td>0.866793</td>\n",
       "      <td>0.821907</td>\n",
       "      <td>0.902226</td>\n",
       "      <td>0.626538</td>\n",
       "      <td>0.56754</td>\n",
       "      <td>999.0</td>\n",
       "    </tr>\n",
       "    <tr>\n",
       "      <th>Softmax</th>\n",
       "      <td>0.809875</td>\n",
       "      <td>0.751021</td>\n",
       "      <td>0.862832</td>\n",
       "      <td>0.555050</td>\n",
       "      <td>0.68192</td>\n",
       "      <td>999.0</td>\n",
       "    </tr>\n",
       "  </tbody>\n",
       "</table>\n",
       "<p>108 rows × 6 columns</p>\n",
       "</div>"
      ],
      "text/plain": [
       "                                 AUROC   AUPR-IN  AUPR-OUT  ACC95TPR  \\\n",
       "$\\sigma^2$ Dataset   Method                                            \n",
       "0.0        ImageNetA Energy   0.811748  0.338904  0.966031  0.520296   \n",
       "                     Softmax  0.855323  0.471625  0.973294  0.545437   \n",
       "           ImageNetO Energy   0.903127  0.429867  0.994872  0.557462   \n",
       "                     Softmax  0.879862  0.381769  0.993498  0.502058   \n",
       "           ImageNetR Energy   0.855252  0.775225  0.903317  0.639650   \n",
       "...                                ...       ...       ...       ...   \n",
       "10.0       ImageNetA Softmax  0.856242  0.499444  0.973714  0.559391   \n",
       "           ImageNetO Energy   0.924451  0.552155  0.996059  0.642654   \n",
       "                     Softmax  0.842178  0.324000  0.991507  0.418558   \n",
       "           ImageNetR Energy   0.866793  0.821907  0.902226  0.626538   \n",
       "                     Softmax  0.809875  0.751021  0.862832  0.555050   \n",
       "\n",
       "                              FPR95TPR  Iteration  \n",
       "$\\sigma^2$ Dataset   Method                        \n",
       "0.0        ImageNetA Energy    0.54396      999.0  \n",
       "                     Softmax   0.51506      999.0  \n",
       "           ImageNetO Energy    0.45824      999.0  \n",
       "                     Softmax   0.51586      999.0  \n",
       "           ImageNetR Energy    0.54656      999.0  \n",
       "...                                ...        ...  \n",
       "10.0       ImageNetA Softmax   0.49902      999.0  \n",
       "           ImageNetO Energy    0.36964      999.0  \n",
       "                     Softmax   0.60270      999.0  \n",
       "           ImageNetR Energy    0.56754      999.0  \n",
       "                     Softmax   0.68192      999.0  \n",
       "\n",
       "[108 rows x 6 columns]"
      ]
     },
     "execution_count": 22,
     "metadata": {},
     "output_type": "execute_result"
    }
   ],
   "source": [
    "d"
   ]
  },
  {
   "cell_type": "code",
   "execution_count": 23,
   "metadata": {},
   "outputs": [
    {
     "data": {
      "application/vnd.jupyter.widget-view+json": {
       "model_id": "6fa9c29a604f4508a798f46ef2859d47",
       "version_major": 2,
       "version_minor": 0
      },
      "text/plain": [
       "  0%|          | 0/1000 [00:00<?, ?it/s]"
      ]
     },
     "metadata": {},
     "output_type": "display_data"
    },
    {
     "name": "stdout",
     "output_type": "stream",
     "text": [
      "Evaluating... \n"
     ]
    },
    {
     "name": "stderr",
     "output_type": "stream",
     "text": [
      "/home/kirchheim/anaconda3/envs/myenv/lib/python3.8/site-packages/torchmetrics/utilities/prints.py:36: UserWarning: Metric `AUROC` will save all targets and predictions in buffer. For large datasets this may lead to large memory footprint.\n",
      "  warnings.warn(*args, **kwargs)\n",
      "/home/kirchheim/anaconda3/envs/myenv/lib/python3.8/site-packages/torchmetrics/utilities/prints.py:36: UserWarning: Metric `PrecisionRecallCurve` will save all targets and predictions in buffer. For large datasets this may lead to large memory footprint.\n",
      "  warnings.warn(*args, **kwargs)\n",
      "/home/kirchheim/anaconda3/envs/myenv/lib/python3.8/site-packages/torchmetrics/utilities/prints.py:36: UserWarning: `pos_label` automatically set 1.\n",
      "  warnings.warn(*args, **kwargs)\n",
      "/home/kirchheim/anaconda3/envs/myenv/lib/python3.8/site-packages/torchmetrics/functional/classification/precision_recall_curve.py:156: UserWarning: To copy construct from a tensor, it is recommended to use sourceTensor.clone().detach() or sourceTensor.clone().detach().requires_grad_(True), rather than torch.tensor(sourceTensor).\n",
      "  thresholds = tensor(reversed(thresholds[sl]))\n"
     ]
    },
    {
     "name": "stdout",
     "output_type": "stream",
     "text": [
      "AUROC 999 -> 89.009%\n"
     ]
    }
   ],
   "source": [
    "dfs_v2 = train(2.0)"
   ]
  },
  {
   "cell_type": "code",
   "execution_count": 24,
   "metadata": {},
   "outputs": [
    {
     "name": "stdout",
     "output_type": "stream",
     "text": [
      "\\begin{tabular}{lrrrrrr}\n",
      "\\toprule\n",
      "{} &  AUROC &  AUPR-IN &  AUPR-OUT &  ACC95TPR &  FPR95TPR &  Iteration \\\\\n",
      "Method  &        &          &           &           &           &            \\\\\n",
      "\\midrule\n",
      "Energy  &  90.30 &    62.04 &     96.74 &     67.61 &     39.57 &   99900.00 \\\\\n",
      "Softmax &  85.62 &    53.37 &     95.32 &     54.42 &     55.11 &   99900.00 \\\\\n",
      "\\bottomrule\n",
      "\\end{tabular}\n",
      "\n"
     ]
    }
   ],
   "source": [
    "df = pd.DataFrame(dfs_v2)\n",
    "# df = df[df[\"Variance\"] == 2.0]\n",
    "# df[\"Method\"] = \"MPS\"\n",
    "print((df.groupby(\"Method\").mean() * 100).to_latex(float_format=\"%.2f\"))"
   ]
  },
  {
   "cell_type": "code",
   "execution_count": 25,
   "metadata": {},
   "outputs": [
    {
     "data": {
      "text/html": [
       "<div>\n",
       "<style scoped>\n",
       "    .dataframe tbody tr th:only-of-type {\n",
       "        vertical-align: middle;\n",
       "    }\n",
       "\n",
       "    .dataframe tbody tr th {\n",
       "        vertical-align: top;\n",
       "    }\n",
       "\n",
       "    .dataframe thead th {\n",
       "        text-align: right;\n",
       "    }\n",
       "</style>\n",
       "<table border=\"1\" class=\"dataframe\">\n",
       "  <thead>\n",
       "    <tr style=\"text-align: right;\">\n",
       "      <th></th>\n",
       "      <th>AUROC</th>\n",
       "      <th>AUPR-IN</th>\n",
       "      <th>AUPR-OUT</th>\n",
       "      <th>ACC95TPR</th>\n",
       "      <th>FPR95TPR</th>\n",
       "      <th>Dataset</th>\n",
       "      <th>Iteration</th>\n",
       "      <th>Method</th>\n",
       "    </tr>\n",
       "  </thead>\n",
       "  <tbody>\n",
       "    <tr>\n",
       "      <th>0</th>\n",
       "      <td>0.880068</td>\n",
       "      <td>0.544410</td>\n",
       "      <td>0.978448</td>\n",
       "      <td>0.597112</td>\n",
       "      <td>0.45566</td>\n",
       "      <td>ImageNetA</td>\n",
       "      <td>999</td>\n",
       "      <td>Softmax</td>\n",
       "    </tr>\n",
       "    <tr>\n",
       "      <th>1</th>\n",
       "      <td>0.900245</td>\n",
       "      <td>0.542860</td>\n",
       "      <td>0.983225</td>\n",
       "      <td>0.700757</td>\n",
       "      <td>0.33652</td>\n",
       "      <td>ImageNetA</td>\n",
       "      <td>999</td>\n",
       "      <td>Energy</td>\n",
       "    </tr>\n",
       "    <tr>\n",
       "      <th>2</th>\n",
       "      <td>0.842565</td>\n",
       "      <td>0.258627</td>\n",
       "      <td>0.991574</td>\n",
       "      <td>0.439846</td>\n",
       "      <td>0.58056</td>\n",
       "      <td>ImageNetO</td>\n",
       "      <td>999</td>\n",
       "      <td>Softmax</td>\n",
       "    </tr>\n",
       "    <tr>\n",
       "      <th>3</th>\n",
       "      <td>0.918521</td>\n",
       "      <td>0.467750</td>\n",
       "      <td>0.995921</td>\n",
       "      <td>0.654673</td>\n",
       "      <td>0.35714</td>\n",
       "      <td>ImageNetO</td>\n",
       "      <td>999</td>\n",
       "      <td>Energy</td>\n",
       "    </tr>\n",
       "    <tr>\n",
       "      <th>4</th>\n",
       "      <td>0.845949</td>\n",
       "      <td>0.797945</td>\n",
       "      <td>0.889470</td>\n",
       "      <td>0.595513</td>\n",
       "      <td>0.61718</td>\n",
       "      <td>ImageNetR</td>\n",
       "      <td>999</td>\n",
       "      <td>Softmax</td>\n",
       "    </tr>\n",
       "    <tr>\n",
       "      <th>5</th>\n",
       "      <td>0.890091</td>\n",
       "      <td>0.850567</td>\n",
       "      <td>0.923164</td>\n",
       "      <td>0.672850</td>\n",
       "      <td>0.49344</td>\n",
       "      <td>ImageNetR</td>\n",
       "      <td>999</td>\n",
       "      <td>Energy</td>\n",
       "    </tr>\n",
       "  </tbody>\n",
       "</table>\n",
       "</div>"
      ],
      "text/plain": [
       "      AUROC   AUPR-IN  AUPR-OUT  ACC95TPR  FPR95TPR    Dataset  Iteration  \\\n",
       "0  0.880068  0.544410  0.978448  0.597112   0.45566  ImageNetA        999   \n",
       "1  0.900245  0.542860  0.983225  0.700757   0.33652  ImageNetA        999   \n",
       "2  0.842565  0.258627  0.991574  0.439846   0.58056  ImageNetO        999   \n",
       "3  0.918521  0.467750  0.995921  0.654673   0.35714  ImageNetO        999   \n",
       "4  0.845949  0.797945  0.889470  0.595513   0.61718  ImageNetR        999   \n",
       "5  0.890091  0.850567  0.923164  0.672850   0.49344  ImageNetR        999   \n",
       "\n",
       "    Method  \n",
       "0  Softmax  \n",
       "1   Energy  \n",
       "2  Softmax  \n",
       "3   Energy  \n",
       "4  Softmax  \n",
       "5   Energy  "
      ]
     },
     "execution_count": 25,
     "metadata": {},
     "output_type": "execute_result"
    }
   ],
   "source": [
    "df"
   ]
  },
  {
   "cell_type": "markdown",
   "metadata": {},
   "source": [
    "# Evaluate model without additional training "
   ]
  },
  {
   "cell_type": "code",
   "execution_count": 26,
   "metadata": {},
   "outputs": [
    {
     "name": "stdout",
     "output_type": "stream",
     "text": [
      "Evaluating... \n",
      "Accuracy: 0.8032799959182739\n"
     ]
    },
    {
     "name": "stderr",
     "output_type": "stream",
     "text": [
      "/home/kirchheim/anaconda3/envs/myenv/lib/python3.8/site-packages/torchmetrics/utilities/prints.py:36: UserWarning: Metric `AUROC` will save all targets and predictions in buffer. For large datasets this may lead to large memory footprint.\n",
      "  warnings.warn(*args, **kwargs)\n",
      "/home/kirchheim/anaconda3/envs/myenv/lib/python3.8/site-packages/torchmetrics/utilities/prints.py:36: UserWarning: Metric `PrecisionRecallCurve` will save all targets and predictions in buffer. For large datasets this may lead to large memory footprint.\n",
      "  warnings.warn(*args, **kwargs)\n",
      "/home/kirchheim/anaconda3/envs/myenv/lib/python3.8/site-packages/torchmetrics/utilities/prints.py:36: UserWarning: `pos_label` automatically set 1.\n",
      "  warnings.warn(*args, **kwargs)\n",
      "/home/kirchheim/anaconda3/envs/myenv/lib/python3.8/site-packages/torchmetrics/functional/classification/precision_recall_curve.py:156: UserWarning: To copy construct from a tensor, it is recommended to use sourceTensor.clone().detach() or sourceTensor.clone().detach().requires_grad_(True), rather than torch.tensor(sourceTensor).\n",
      "  thresholds = tensor(reversed(thresholds[sl]))\n"
     ]
    }
   ],
   "source": [
    "# in test set \n",
    "from pytorch_ood.utils import is_known\n",
    "from torchmetrics import Accuracy\n",
    "\n",
    "dataset_in_test = ImageNet(split=\"val\", root=\"/data_fast/kirchheim/datasets/imagenet-2012/\", transform=preprocess)\n",
    "test_in_loader = DataLoader(dataset_in_test, batch_size=256, num_workers=20)\n",
    "\n",
    "# ood test sets \n",
    "imagenet_r = ImageNetR(root=\"/data_fast/kirchheim/datasets/\", \n",
    "                       download=True, transform=preprocess, target_transform=ToUnknown())\n",
    "imagenet_r_loader = DataLoader(imagenet_r + dataset_in_test, batch_size=128, num_workers=12)\n",
    "\n",
    "imagenet_o = ImageNetO(root=\"/data_fast/kirchheim/datasets/\", \n",
    "                       download=True, transform=preprocess, target_transform=ToUnknown())\n",
    "imagenet_o_loader = DataLoader(imagenet_o + dataset_in_test, batch_size=128, num_workers=12)\n",
    "\n",
    "imagenet_a = ImageNetA(root=\"/data_fast/kirchheim/datasets/\", \n",
    "                       download=True, transform=preprocess, target_transform=ToUnknown())\n",
    "imagenet_a_loader = DataLoader(imagenet_a + dataset_in_test, batch_size=128, num_workers=12)\n",
    "\n",
    "\n",
    "model = VisionTransformer(image_size=(224, 224), pretrained=\"b16-im21k-224\", num_classes=1000)\n",
    "model._from_pretrained(\"b16-im21k-224\")\n",
    "\n",
    "model = model.cuda()\n",
    "\n",
    "perf_metrics = []\n",
    "\n",
    "print(f\"Evaluating... \")\n",
    "model.eval()\n",
    "with torch.no_grad():\n",
    "    \n",
    "    acc = Accuracy()\n",
    "    for x, y in test_in_loader:\n",
    "        logits = model(x.cuda())\n",
    "        acc.update(logits.cpu(), y)\n",
    "        \n",
    "    print(f\"Accuracy: {acc.compute()}\")\n",
    "\n",
    "    softmax = MaxSoftmax(model)\n",
    "    energy = EnergyBased(model)\n",
    "\n",
    "    ###\n",
    "    metrics = OODMetrics()\n",
    "    metrics_energy = OODMetrics()\n",
    "\n",
    "    for x, y in imagenet_a_loader:\n",
    "        logits = model(x.cuda())\n",
    "        metrics.update(softmax.score(logits), y)\n",
    "        metrics_energy.update(energy.score(logits), y)\n",
    "    \n",
    "\n",
    "    \n",
    "    m = metrics.compute()\n",
    "    m.update({\n",
    "        \"Dataset\": \"ImageNetA\",\n",
    "        \"Iteration\": 0,\n",
    "        \"Method\": \"Softmax\"\n",
    "    })\n",
    "    perf_metrics.append(m)\n",
    "\n",
    "    m = metrics_energy.compute()\n",
    "    m.update({\n",
    "        \"Dataset\": \"ImageNetA\",\n",
    "        \"Iteration\": 0,\n",
    "        \"Method\": \"Energy\"\n",
    "    })\n",
    "    perf_metrics.append(m)\n",
    "\n",
    "\n",
    "    ###\n",
    "    metrics = OODMetrics()\n",
    "    metrics_energy = OODMetrics()\n",
    "\n",
    "    for x, y in imagenet_o_loader:\n",
    "        logits = model(x.cuda())\n",
    "        metrics.update(softmax.score(logits), y)\n",
    "        metrics_energy.update(energy.score(logits), y)\n",
    "\n",
    "    m = metrics.compute()\n",
    "    m.update({\n",
    "        \"Dataset\": \"ImageNetO\",\n",
    "        \"Iteration\": 0,\n",
    "        \"Method\": \"Softmax\"\n",
    "    })\n",
    "    perf_metrics.append(m)\n",
    "\n",
    "    m = metrics_energy.compute()\n",
    "    m.update({\n",
    "        \"Dataset\": \"ImageNetO\",\n",
    "        \"Iteration\": 0,\n",
    "        \"Method\": \"Energy\"\n",
    "    })\n",
    "    perf_metrics.append(m)\n",
    "\n",
    "    ###\n",
    "    metrics = OODMetrics()\n",
    "    metrics_energy = OODMetrics()\n",
    "\n",
    "    for x, y in imagenet_r_loader:\n",
    "        logits = model(x.cuda())\n",
    "        metrics.update(softmax.score(logits), y)\n",
    "        metrics_energy.update(energy.score(logits), y)\n",
    "\n",
    "    m = metrics.compute()\n",
    "    m.update({\n",
    "        \"Dataset\": \"ImageNetR\",\n",
    "        \"Iteration\": 0,\n",
    "        \"Method\": \"Softmax\"\n",
    "    })\n",
    "    perf_metrics.append(m)\n",
    "\n",
    "    m = metrics_energy.compute()\n",
    "    m.update({\n",
    "        \"Dataset\": \"ImageNetR\",\n",
    "        \"Iteration\": 0,\n",
    "        \"Method\": \"Energy\"\n",
    "    })\n",
    "    perf_metrics.append(m)\n",
    "\n",
    "    # print(f\"AUROC {i} -> {m['AUROC']:.3%}\")\n",
    "    current_auroc = m['AUROC']"
   ]
  },
  {
   "cell_type": "code",
   "execution_count": 27,
   "metadata": {},
   "outputs": [
    {
     "name": "stdout",
     "output_type": "stream",
     "text": [
      "\\begin{tabular}{lrrrrrr}\n",
      "\\toprule\n",
      "{} &  AUROC &  AUPR-IN &  AUPR-OUT &  ACC95TPR &  FPR95TPR &  Iteration \\\\\n",
      "Method  &        &          &           &           &           &            \\\\\n",
      "\\midrule\n",
      "Energy  &  88.71 &    61.91 &     95.69 &     61.84 &     47.01 &       0.00 \\\\\n",
      "Softmax &  82.48 &    50.38 &     93.92 &     49.56 &     61.34 &       0.00 \\\\\n",
      "\\bottomrule\n",
      "\\end{tabular}\n",
      "\n"
     ]
    }
   ],
   "source": [
    "df = pd.DataFrame(perf_metrics)\n",
    "# df = df[df[\"Variance\"] == 2.0]\n",
    "# df[\"Method\"] = \"MPS\"\n",
    "print((df.groupby(\"Method\").mean() * 100).to_latex(float_format=\"%.2f\"))"
   ]
  },
  {
   "cell_type": "markdown",
   "metadata": {},
   "source": [
    "# Train on noise "
   ]
  },
  {
   "cell_type": "code",
   "execution_count": 28,
   "metadata": {},
   "outputs": [],
   "source": [
    "from pytorch_ood.dataset.img import UniformNoise\n",
    "\n",
    "def train_noise(outlier_set=10, iters=1000):\n",
    "    dataset_out_train = UniformNoise(length=80000, size=(224,224,3), \n",
    "                                     target_transform=ToUnknown(), transform=preprocess)\n",
    "    train_out_loader = DataLoader(dataset_out_train, batch_size=64, num_workers=20, shuffle=True)\n",
    "\n",
    "    dataset_in_train = ImageNet(split=\"train\", root=\"/data_fast/kirchheim/datasets/imagenet-2012/\", transform=preprocess)\n",
    "    imagenet_in_loader = DataLoader(dataset_in_train, batch_size=64, num_workers=20, shuffle=True)\n",
    "\n",
    "    # in test set \n",
    "    dataset_in_test = ImageNet(split=\"val\", root=\"/data_fast/kirchheim/datasets/imagenet-2012/\", transform=preprocess)\n",
    "    test_in_loader = DataLoader(dataset_in_test, batch_size=256, num_workers=20)\n",
    "\n",
    "    # ood test sets \n",
    "    imagenet_r = ImageNetR(root=\"/data_fast/kirchheim/datasets/\", \n",
    "                           download=True, transform=preprocess, target_transform=ToUnknown())\n",
    "    imagenet_r_loader = DataLoader(imagenet_r + dataset_in_test, batch_size=128, num_workers=12)\n",
    "    \n",
    "    imagenet_o = ImageNetO(root=\"/data_fast/kirchheim/datasets/\", \n",
    "                           download=True, transform=preprocess, target_transform=ToUnknown())\n",
    "    imagenet_o_loader = DataLoader(imagenet_o + dataset_in_test, batch_size=128, num_workers=12)\n",
    "\n",
    "    imagenet_a = ImageNetA(root=\"/data_fast/kirchheim/datasets/\", \n",
    "                           download=True, transform=preprocess, target_transform=ToUnknown())\n",
    "    imagenet_a_loader = DataLoader(imagenet_a + dataset_in_test, batch_size=128, num_workers=12)\n",
    "    \n",
    "    \n",
    "    model = VisionTransformer(image_size=(224, 224), pretrained=\"b16-im21k-224\", num_classes=1000) # resnet101(pretrained=True)\n",
    "    model._from_pretrained(\"b16-im21k-224\")\n",
    "    model = model.cuda()\n",
    "\n",
    "    opti = SGD(model.parameters(), lr=0.001)\n",
    "\n",
    "    criterion = OutlierExposureLoss(alpha=0.5)\n",
    "\n",
    "    mav = 0.0\n",
    "    mavs = []\n",
    "    perf_metrics = []\n",
    "\n",
    "    current_auroc = None \n",
    "\n",
    "    it_train_in = iter(imagenet_in_loader)\n",
    "    it_train_out = iter(train_out_loader)\n",
    "\n",
    "    criterion = OutlierExposureLoss()\n",
    "    bar = tqdm.tqdm(range(iters))\n",
    "\n",
    "    for i in bar:\n",
    "        try:\n",
    "            x1, y1 = next(it_train_in)\n",
    "            x2, y2 = next(it_train_out)\n",
    "        except Exception as e:\n",
    "            print(e)\n",
    "        except:\n",
    "            it_train_in = iter(imagenet_in_loader)\n",
    "            it_train_out = iter(train_out_loader)\n",
    "\n",
    "        x = torch.cat([x1, x2])\n",
    "        y = torch.cat([y1, y2])\n",
    "\n",
    "        x = x.cuda()\n",
    "        y = y.cuda()\n",
    "\n",
    "        y_hat = model(x)\n",
    "        loss = criterion(y_hat, y)\n",
    "        opti.zero_grad()\n",
    "        loss.backward()\n",
    "        opti.step()\n",
    "\n",
    "        mav = 0.2 * loss.item() + 0.8 * mav\n",
    "        mavs.append(mav)\n",
    "\n",
    "        bar.set_postfix({\"loss\": mav, \"AUROC\": current_auroc})\n",
    "    \n",
    "    print(f\"Evaluating... \")\n",
    "    model.eval()\n",
    "    with torch.no_grad():\n",
    "        softmax = MaxSoftmax(model)\n",
    "        energy = EnergyBased(model)\n",
    "        \n",
    "        ###\n",
    "        metrics = OODMetrics()\n",
    "        metrics_energy = OODMetrics()\n",
    "        \n",
    "        for x, y in imagenet_a_loader:\n",
    "            logits = model(x.cuda())\n",
    "            metrics.update(softmax.score(logits), y)\n",
    "            metrics_energy.update(energy.score(logits), y)\n",
    "\n",
    "        m = metrics.compute()\n",
    "        m.update({\n",
    "            \"Dataset\": \"ImageNetA\",\n",
    "            \"Iteration\": i,\n",
    "            \"Method\": \"Softmax\"\n",
    "        })\n",
    "        perf_metrics.append(m)\n",
    "        \n",
    "        m = metrics_energy.compute()\n",
    "        m.update({\n",
    "            \"Dataset\": \"ImageNetA\",\n",
    "            \"Iteration\": i,\n",
    "            \"Method\": \"Energy\"\n",
    "        })\n",
    "        perf_metrics.append(m)\n",
    "        \n",
    "\n",
    "        ###\n",
    "        metrics = OODMetrics()\n",
    "        metrics_energy = OODMetrics()\n",
    "        \n",
    "        for x, y in imagenet_o_loader:\n",
    "            logits = model(x.cuda())\n",
    "            metrics.update(softmax.score(logits), y)\n",
    "            metrics_energy.update(energy.score(logits), y)\n",
    "\n",
    "        m = metrics.compute()\n",
    "        m.update({\n",
    "            \"Dataset\": \"ImageNetO\",\n",
    "            \"Iteration\": i,\n",
    "            \"Method\": \"Softmax\"\n",
    "        })\n",
    "        perf_metrics.append(m)\n",
    "        \n",
    "        m = metrics_energy.compute()\n",
    "        m.update({\n",
    "            \"Dataset\": \"ImageNetO\",\n",
    "            \"Iteration\": i,\n",
    "            \"Method\": \"Energy\"\n",
    "        })\n",
    "        perf_metrics.append(m)\n",
    "\n",
    "        ###\n",
    "        metrics = OODMetrics()\n",
    "        metrics_energy = OODMetrics()\n",
    "        \n",
    "        for x, y in imagenet_r_loader:\n",
    "            logits = model(x.cuda())\n",
    "            metrics.update(softmax.score(logits), y)\n",
    "            metrics_energy.update(energy.score(logits), y)\n",
    "\n",
    "        m = metrics.compute()\n",
    "        m.update({\n",
    "            \"Dataset\": \"ImageNetR\",\n",
    "            \"Iteration\": i,\n",
    "            \"Method\": \"Softmax\"\n",
    "        })\n",
    "        perf_metrics.append(m)\n",
    "        \n",
    "        m = metrics_energy.compute()\n",
    "        m.update({\n",
    "            \"Dataset\": \"ImageNetR\",\n",
    "            \"Iteration\": i,\n",
    "            \"Method\": \"Energy\"\n",
    "        })\n",
    "        perf_metrics.append(m)\n",
    "\n",
    "        print(f\"AUROC {i} -> {m['AUROC']:.3%}\")\n",
    "        current_auroc = m['AUROC']\n",
    "\n",
    "    model.train()\n",
    "\n",
    "    return perf_metrics\n"
   ]
  },
  {
   "cell_type": "code",
   "execution_count": 29,
   "metadata": {},
   "outputs": [
    {
     "data": {
      "application/vnd.jupyter.widget-view+json": {
       "model_id": "fb7a857374a4473692d54579973532f0",
       "version_major": 2,
       "version_minor": 0
      },
      "text/plain": [
       "  0%|          | 0/1000 [00:00<?, ?it/s]"
      ]
     },
     "metadata": {},
     "output_type": "display_data"
    },
    {
     "name": "stdout",
     "output_type": "stream",
     "text": [
      "Evaluating... \n",
      "AUROC 999 -> 85.334%\n"
     ]
    }
   ],
   "source": [
    "noise_metrics = train_noise()"
   ]
  },
  {
   "cell_type": "code",
   "execution_count": 30,
   "metadata": {},
   "outputs": [
    {
     "name": "stdout",
     "output_type": "stream",
     "text": [
      "\\begin{tabular}{lrrrrrr}\n",
      "\\toprule\n",
      "{} &  AUROC &  AUPR-IN &  AUPR-OUT &  ACC95TPR &  FPR95TPR &  Iteration \\\\\n",
      "Method  &        &          &           &           &           &            \\\\\n",
      "\\midrule\n",
      "Energy  &  88.87 &    62.66 &     95.58 &     62.91 &     46.05 &   99900.00 \\\\\n",
      "Softmax &  82.78 &    50.93 &     93.89 &     50.25 &     60.63 &   99900.00 \\\\\n",
      "\\bottomrule\n",
      "\\end{tabular}\n",
      "\n"
     ]
    }
   ],
   "source": [
    "df = pd.DataFrame(noise_metrics)\n",
    "# df = df[df[\"Variance\"] == 2.0]\n",
    "# df[\"Method\"] = \"MPS\"\n",
    "print((df.groupby(\"Method\").mean() * 100).to_latex(float_format=\"%.2f\"))"
   ]
  }
 ],
 "metadata": {
  "kernelspec": {
   "display_name": "myenv",
   "language": "python",
   "name": "myenv"
  },
  "language_info": {
   "codemirror_mode": {
    "name": "ipython",
    "version": 3
   },
   "file_extension": ".py",
   "mimetype": "text/x-python",
   "name": "python",
   "nbconvert_exporter": "python",
   "pygments_lexer": "ipython3",
   "version": "3.9.7"
  }
 },
 "nbformat": 4,
 "nbformat_minor": 4
}
